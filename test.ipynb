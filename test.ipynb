{
 "cells": [
  {
   "cell_type": "code",
   "execution_count": 9,
   "id": "initial_id",
   "metadata": {
    "collapsed": true,
    "ExecuteTime": {
     "end_time": "2024-08-09T10:46:16.671843200Z",
     "start_time": "2024-08-09T10:46:01.976538400Z"
    }
   },
   "outputs": [
    {
     "data": {
      "text/plain": "True"
     },
     "execution_count": 9,
     "metadata": {},
     "output_type": "execute_result"
    }
   ],
   "source": [
    "import DrissionPage\n",
    "import logging\n",
    "\n",
    "page=DrissionPage.SessionPage()\n",
    "page.get('http://www.tianqihoubao.com/lishi/dongfang/month/201101.html',timeout=20)"
   ]
  },
  {
   "cell_type": "code",
   "execution_count": 16,
   "outputs": [
    {
     "data": {
      "text/plain": "[<SessionElement tr >,\n <SessionElement tr >,\n <SessionElement tr >,\n <SessionElement tr >,\n <SessionElement tr >,\n <SessionElement tr >,\n <SessionElement tr >,\n <SessionElement tr >,\n <SessionElement tr >,\n <SessionElement tr >,\n <SessionElement tr >,\n <SessionElement tr >,\n <SessionElement tr >,\n <SessionElement tr >,\n <SessionElement tr >,\n <SessionElement tr >,\n <SessionElement tr >,\n <SessionElement tr >,\n <SessionElement tr >,\n <SessionElement tr >,\n <SessionElement tr >,\n <SessionElement tr >,\n <SessionElement tr >,\n <SessionElement tr >,\n <SessionElement tr >,\n <SessionElement tr >,\n <SessionElement tr >,\n <SessionElement tr >,\n <SessionElement tr >,\n <SessionElement tr >,\n <SessionElement tr >,\n <SessionElement tr >]"
     },
     "execution_count": 16,
     "metadata": {},
     "output_type": "execute_result"
    }
   ],
   "source": [
    "import pandas as pd\n",
    "\n",
    "list = page.eles('xpath=//tr')\n",
    "datarows = []\n",
    "for li in list:\n",
    "        a = li.s_eles('tag:td')\n",
    "        l = [i.text for i in a]\n",
    "        datarows.append(l)\n",
    "columns = datarows[0]\n",
    "# 提取数据行（剩余的元素）\n",
    "data_values = datarows[1:]\n",
    "# 创建DataFrame\n",
    "result_weather = pd.DataFrame(data_values, columns=columns)\n",
    "list"
   ],
   "metadata": {
    "collapsed": false,
    "ExecuteTime": {
     "end_time": "2024-08-09T10:48:15.310402500Z",
     "start_time": "2024-08-09T10:48:15.288256400Z"
    }
   },
   "id": "b31a0a8610e07234"
  },
  {
   "cell_type": "code",
   "execution_count": 17,
   "outputs": [
    {
     "data": {
      "text/plain": "[<SessionElement tr >,\n <SessionElement tr >,\n <SessionElement tr >,\n <SessionElement tr >,\n <SessionElement tr >,\n <SessionElement tr >,\n <SessionElement tr >,\n <SessionElement tr >,\n <SessionElement tr >,\n <SessionElement tr >,\n <SessionElement tr >,\n <SessionElement tr >,\n <SessionElement tr >,\n <SessionElement tr >,\n <SessionElement tr >,\n <SessionElement tr >,\n <SessionElement tr >,\n <SessionElement tr >,\n <SessionElement tr >,\n <SessionElement tr >,\n <SessionElement tr >,\n <SessionElement tr >,\n <SessionElement tr >,\n <SessionElement tr >,\n <SessionElement tr >,\n <SessionElement tr >,\n <SessionElement tr >,\n <SessionElement tr >,\n <SessionElement tr >,\n <SessionElement tr >,\n <SessionElement tr >,\n <SessionElement tr >]"
     },
     "execution_count": 17,
     "metadata": {},
     "output_type": "execute_result"
    }
   ],
   "source": [
    "list"
   ],
   "metadata": {
    "collapsed": false,
    "ExecuteTime": {
     "end_time": "2024-08-09T10:48:22.460852200Z",
     "start_time": "2024-08-09T10:48:22.454867500Z"
    }
   },
   "id": "7db4f8aecf1a13e"
  },
  {
   "cell_type": "code",
   "execution_count": 18,
   "outputs": [
    {
     "data": {
      "text/plain": "[['日期', '天气状况', '最低气温/最高气温', '风力风向(夜间/白天)'],\n ['2011年01月01日', '多云 /多云', '16℃ / 26℃', '东北风 4-5级 /东北风 4-5级'],\n ['2011年01月02日', '多云 /多云', '17℃ / 27℃', '东北风 3-4级 /东北风 3-4级'],\n ['2011年01月03日', '多云 /多云', '17℃ / 23℃', '东北风 4-5级 /东北风 4-5级'],\n ['2011年01月04日', '多云 /多云', '17℃ / 25℃', '东北风 4-5级 /东北风 4-5级'],\n ['2011年01月05日', '多云 /多云', '16℃ / 25℃', '东北风 4-5级 /东北风 4-5级'],\n ['2011年01月06日', '多云 /多云', '15℃ / 20℃', '东北风 4-5级 /东北风 4-5级'],\n ['2011年01月07日', '多云 /多云', '13℃ / 21℃', '东北风 4-5级 /东北风 4-5级'],\n ['2011年01月08日', '多云 /多云', '14℃ / 19℃', '东北风 4-5级 /东北风 4-5级'],\n ['2011年01月09日', '多云 /阴', '14℃ / 22℃', '东北风 4-5级 /东北风 4-5级'],\n ['2011年01月10日', '小雨 /小雨', '13℃ / 17℃', '东北风 5-6级 /东北风 5-6级'],\n ['2011年01月11日', '阴 /阴', '14℃ / 17℃', '东北风 5-6级 /东北风 4-5级'],\n ['2011年01月12日', '小雨 /小雨', '11℃ / 14℃', '东北风 4-5级 /东北风 5-6级'],\n ['2011年01月13日', '多云 /多云', '13℃ / 17℃', '东北风 5-6级 /东北风 4-5级'],\n ['2011年01月14日', '阴 /阴', '14℃ / 21℃', '东北风 3-4级 /东北风 4-5级'],\n ['2011年01月15日', '小雨 /阴', '10℃ / 16℃', '东北风 4-5级 /东北风 4-5级'],\n ['2011年01月16日', '多云 /多云', '12℃ / 16℃', '东北风 4-5级 /东北风 4-5级'],\n ['2011年01月17日', '阵雨 /阵雨', '13℃ / 18℃', '东北风 4-5级 /东北风 4-5级'],\n ['2011年01月18日', '多云 /多云', '15℃ / 22℃', '东北风 4-5级 /东北风 4-5级'],\n ['2011年01月19日', '阴 /阴', '16℃ / 24℃', '东北风 4-5级 /东北风 4-5级'],\n ['2011年01月20日', '多云 /多云', '17℃ / 25℃', '东北风 4-5级 /东北风 4-5级'],\n ['2011年01月21日', '多云 /多云', '13℃ / 21℃', '东北风 4-5级 /东北风 4-5级'],\n ['2011年01月22日', '多云 /多云', '15℃ / 20℃', '东北风 4-5级 /东北风 4-5级'],\n ['2011年01月23日', '多云 /多云', '13℃ / 20℃', '东北风 4-5级 /东北风 4-5级'],\n ['2011年01月24日', '多云 /多云', '13℃ / 19℃', '东北风 4-5级 /东北风 4-5级'],\n ['2011年01月25日', '多云 /多云', '15℃ / 19℃', '东北风 4-5级 /东北风 4-5级'],\n ['2011年01月26日', '多云 /多云', '15℃ / 19℃', '东北风 4-5级 /东北风 4-5级'],\n ['2011年01月27日', '多云 /多云', '15℃ / 21℃', '东北风 4-5级 /东北风 4-5级'],\n ['2011年01月28日', '多云 /多云', '14℃ / 20℃', '东北风 4-5级 /东北风 4-5级'],\n ['2011年01月29日', '多云 /多云', '13℃ / 17℃', '东北风 4-5级 /东北风 4-5级'],\n ['2011年01月30日', '阴 /阴', '13℃ / 17℃', '东北风 4-5级 /东北风 4-5级'],\n ['2011年01月31日', '阴 /多云', '14℃ / 20℃', '东北风 4-5级 /东北风 4-5级']]"
     },
     "execution_count": 18,
     "metadata": {},
     "output_type": "execute_result"
    }
   ],
   "source": [
    " datarows"
   ],
   "metadata": {
    "collapsed": false,
    "ExecuteTime": {
     "end_time": "2024-08-09T10:48:22.955584600Z",
     "start_time": "2024-08-09T10:48:22.950699800Z"
    }
   },
   "id": "d121a14911a12ac3"
  },
  {
   "cell_type": "code",
   "execution_count": 19,
   "outputs": [
    {
     "data": {
      "text/plain": "             日期    天气状况  最低气温/最高气温         风力风向(夜间/白天)\n0   2011年01月01日  多云 /多云  16℃ / 26℃  东北风 4-5级 /东北风 4-5级\n1   2011年01月02日  多云 /多云  17℃ / 27℃  东北风 3-4级 /东北风 3-4级\n2   2011年01月03日  多云 /多云  17℃ / 23℃  东北风 4-5级 /东北风 4-5级\n3   2011年01月04日  多云 /多云  17℃ / 25℃  东北风 4-5级 /东北风 4-5级\n4   2011年01月05日  多云 /多云  16℃ / 25℃  东北风 4-5级 /东北风 4-5级\n5   2011年01月06日  多云 /多云  15℃ / 20℃  东北风 4-5级 /东北风 4-5级\n6   2011年01月07日  多云 /多云  13℃ / 21℃  东北风 4-5级 /东北风 4-5级\n7   2011年01月08日  多云 /多云  14℃ / 19℃  东北风 4-5级 /东北风 4-5级\n8   2011年01月09日   多云 /阴  14℃ / 22℃  东北风 4-5级 /东北风 4-5级\n9   2011年01月10日  小雨 /小雨  13℃ / 17℃  东北风 5-6级 /东北风 5-6级\n10  2011年01月11日    阴 /阴  14℃ / 17℃  东北风 5-6级 /东北风 4-5级\n11  2011年01月12日  小雨 /小雨  11℃ / 14℃  东北风 4-5级 /东北风 5-6级\n12  2011年01月13日  多云 /多云  13℃ / 17℃  东北风 5-6级 /东北风 4-5级\n13  2011年01月14日    阴 /阴  14℃ / 21℃  东北风 3-4级 /东北风 4-5级\n14  2011年01月15日   小雨 /阴  10℃ / 16℃  东北风 4-5级 /东北风 4-5级\n15  2011年01月16日  多云 /多云  12℃ / 16℃  东北风 4-5级 /东北风 4-5级\n16  2011年01月17日  阵雨 /阵雨  13℃ / 18℃  东北风 4-5级 /东北风 4-5级\n17  2011年01月18日  多云 /多云  15℃ / 22℃  东北风 4-5级 /东北风 4-5级\n18  2011年01月19日    阴 /阴  16℃ / 24℃  东北风 4-5级 /东北风 4-5级\n19  2011年01月20日  多云 /多云  17℃ / 25℃  东北风 4-5级 /东北风 4-5级\n20  2011年01月21日  多云 /多云  13℃ / 21℃  东北风 4-5级 /东北风 4-5级\n21  2011年01月22日  多云 /多云  15℃ / 20℃  东北风 4-5级 /东北风 4-5级\n22  2011年01月23日  多云 /多云  13℃ / 20℃  东北风 4-5级 /东北风 4-5级\n23  2011年01月24日  多云 /多云  13℃ / 19℃  东北风 4-5级 /东北风 4-5级\n24  2011年01月25日  多云 /多云  15℃ / 19℃  东北风 4-5级 /东北风 4-5级\n25  2011年01月26日  多云 /多云  15℃ / 19℃  东北风 4-5级 /东北风 4-5级\n26  2011年01月27日  多云 /多云  15℃ / 21℃  东北风 4-5级 /东北风 4-5级\n27  2011年01月28日  多云 /多云  14℃ / 20℃  东北风 4-5级 /东北风 4-5级\n28  2011年01月29日  多云 /多云  13℃ / 17℃  东北风 4-5级 /东北风 4-5级\n29  2011年01月30日    阴 /阴  13℃ / 17℃  东北风 4-5级 /东北风 4-5级\n30  2011年01月31日   阴 /多云  14℃ / 20℃  东北风 4-5级 /东北风 4-5级",
      "text/html": "<div>\n<style scoped>\n    .dataframe tbody tr th:only-of-type {\n        vertical-align: middle;\n    }\n\n    .dataframe tbody tr th {\n        vertical-align: top;\n    }\n\n    .dataframe thead th {\n        text-align: right;\n    }\n</style>\n<table border=\"1\" class=\"dataframe\">\n  <thead>\n    <tr style=\"text-align: right;\">\n      <th></th>\n      <th>日期</th>\n      <th>天气状况</th>\n      <th>最低气温/最高气温</th>\n      <th>风力风向(夜间/白天)</th>\n    </tr>\n  </thead>\n  <tbody>\n    <tr>\n      <th>0</th>\n      <td>2011年01月01日</td>\n      <td>多云 /多云</td>\n      <td>16℃ / 26℃</td>\n      <td>东北风 4-5级 /东北风 4-5级</td>\n    </tr>\n    <tr>\n      <th>1</th>\n      <td>2011年01月02日</td>\n      <td>多云 /多云</td>\n      <td>17℃ / 27℃</td>\n      <td>东北风 3-4级 /东北风 3-4级</td>\n    </tr>\n    <tr>\n      <th>2</th>\n      <td>2011年01月03日</td>\n      <td>多云 /多云</td>\n      <td>17℃ / 23℃</td>\n      <td>东北风 4-5级 /东北风 4-5级</td>\n    </tr>\n    <tr>\n      <th>3</th>\n      <td>2011年01月04日</td>\n      <td>多云 /多云</td>\n      <td>17℃ / 25℃</td>\n      <td>东北风 4-5级 /东北风 4-5级</td>\n    </tr>\n    <tr>\n      <th>4</th>\n      <td>2011年01月05日</td>\n      <td>多云 /多云</td>\n      <td>16℃ / 25℃</td>\n      <td>东北风 4-5级 /东北风 4-5级</td>\n    </tr>\n    <tr>\n      <th>5</th>\n      <td>2011年01月06日</td>\n      <td>多云 /多云</td>\n      <td>15℃ / 20℃</td>\n      <td>东北风 4-5级 /东北风 4-5级</td>\n    </tr>\n    <tr>\n      <th>6</th>\n      <td>2011年01月07日</td>\n      <td>多云 /多云</td>\n      <td>13℃ / 21℃</td>\n      <td>东北风 4-5级 /东北风 4-5级</td>\n    </tr>\n    <tr>\n      <th>7</th>\n      <td>2011年01月08日</td>\n      <td>多云 /多云</td>\n      <td>14℃ / 19℃</td>\n      <td>东北风 4-5级 /东北风 4-5级</td>\n    </tr>\n    <tr>\n      <th>8</th>\n      <td>2011年01月09日</td>\n      <td>多云 /阴</td>\n      <td>14℃ / 22℃</td>\n      <td>东北风 4-5级 /东北风 4-5级</td>\n    </tr>\n    <tr>\n      <th>9</th>\n      <td>2011年01月10日</td>\n      <td>小雨 /小雨</td>\n      <td>13℃ / 17℃</td>\n      <td>东北风 5-6级 /东北风 5-6级</td>\n    </tr>\n    <tr>\n      <th>10</th>\n      <td>2011年01月11日</td>\n      <td>阴 /阴</td>\n      <td>14℃ / 17℃</td>\n      <td>东北风 5-6级 /东北风 4-5级</td>\n    </tr>\n    <tr>\n      <th>11</th>\n      <td>2011年01月12日</td>\n      <td>小雨 /小雨</td>\n      <td>11℃ / 14℃</td>\n      <td>东北风 4-5级 /东北风 5-6级</td>\n    </tr>\n    <tr>\n      <th>12</th>\n      <td>2011年01月13日</td>\n      <td>多云 /多云</td>\n      <td>13℃ / 17℃</td>\n      <td>东北风 5-6级 /东北风 4-5级</td>\n    </tr>\n    <tr>\n      <th>13</th>\n      <td>2011年01月14日</td>\n      <td>阴 /阴</td>\n      <td>14℃ / 21℃</td>\n      <td>东北风 3-4级 /东北风 4-5级</td>\n    </tr>\n    <tr>\n      <th>14</th>\n      <td>2011年01月15日</td>\n      <td>小雨 /阴</td>\n      <td>10℃ / 16℃</td>\n      <td>东北风 4-5级 /东北风 4-5级</td>\n    </tr>\n    <tr>\n      <th>15</th>\n      <td>2011年01月16日</td>\n      <td>多云 /多云</td>\n      <td>12℃ / 16℃</td>\n      <td>东北风 4-5级 /东北风 4-5级</td>\n    </tr>\n    <tr>\n      <th>16</th>\n      <td>2011年01月17日</td>\n      <td>阵雨 /阵雨</td>\n      <td>13℃ / 18℃</td>\n      <td>东北风 4-5级 /东北风 4-5级</td>\n    </tr>\n    <tr>\n      <th>17</th>\n      <td>2011年01月18日</td>\n      <td>多云 /多云</td>\n      <td>15℃ / 22℃</td>\n      <td>东北风 4-5级 /东北风 4-5级</td>\n    </tr>\n    <tr>\n      <th>18</th>\n      <td>2011年01月19日</td>\n      <td>阴 /阴</td>\n      <td>16℃ / 24℃</td>\n      <td>东北风 4-5级 /东北风 4-5级</td>\n    </tr>\n    <tr>\n      <th>19</th>\n      <td>2011年01月20日</td>\n      <td>多云 /多云</td>\n      <td>17℃ / 25℃</td>\n      <td>东北风 4-5级 /东北风 4-5级</td>\n    </tr>\n    <tr>\n      <th>20</th>\n      <td>2011年01月21日</td>\n      <td>多云 /多云</td>\n      <td>13℃ / 21℃</td>\n      <td>东北风 4-5级 /东北风 4-5级</td>\n    </tr>\n    <tr>\n      <th>21</th>\n      <td>2011年01月22日</td>\n      <td>多云 /多云</td>\n      <td>15℃ / 20℃</td>\n      <td>东北风 4-5级 /东北风 4-5级</td>\n    </tr>\n    <tr>\n      <th>22</th>\n      <td>2011年01月23日</td>\n      <td>多云 /多云</td>\n      <td>13℃ / 20℃</td>\n      <td>东北风 4-5级 /东北风 4-5级</td>\n    </tr>\n    <tr>\n      <th>23</th>\n      <td>2011年01月24日</td>\n      <td>多云 /多云</td>\n      <td>13℃ / 19℃</td>\n      <td>东北风 4-5级 /东北风 4-5级</td>\n    </tr>\n    <tr>\n      <th>24</th>\n      <td>2011年01月25日</td>\n      <td>多云 /多云</td>\n      <td>15℃ / 19℃</td>\n      <td>东北风 4-5级 /东北风 4-5级</td>\n    </tr>\n    <tr>\n      <th>25</th>\n      <td>2011年01月26日</td>\n      <td>多云 /多云</td>\n      <td>15℃ / 19℃</td>\n      <td>东北风 4-5级 /东北风 4-5级</td>\n    </tr>\n    <tr>\n      <th>26</th>\n      <td>2011年01月27日</td>\n      <td>多云 /多云</td>\n      <td>15℃ / 21℃</td>\n      <td>东北风 4-5级 /东北风 4-5级</td>\n    </tr>\n    <tr>\n      <th>27</th>\n      <td>2011年01月28日</td>\n      <td>多云 /多云</td>\n      <td>14℃ / 20℃</td>\n      <td>东北风 4-5级 /东北风 4-5级</td>\n    </tr>\n    <tr>\n      <th>28</th>\n      <td>2011年01月29日</td>\n      <td>多云 /多云</td>\n      <td>13℃ / 17℃</td>\n      <td>东北风 4-5级 /东北风 4-5级</td>\n    </tr>\n    <tr>\n      <th>29</th>\n      <td>2011年01月30日</td>\n      <td>阴 /阴</td>\n      <td>13℃ / 17℃</td>\n      <td>东北风 4-5级 /东北风 4-5级</td>\n    </tr>\n    <tr>\n      <th>30</th>\n      <td>2011年01月31日</td>\n      <td>阴 /多云</td>\n      <td>14℃ / 20℃</td>\n      <td>东北风 4-5级 /东北风 4-5级</td>\n    </tr>\n  </tbody>\n</table>\n</div>"
     },
     "execution_count": 19,
     "metadata": {},
     "output_type": "execute_result"
    }
   ],
   "source": [
    "result_weather"
   ],
   "metadata": {
    "collapsed": false,
    "ExecuteTime": {
     "end_time": "2024-08-09T10:48:37.722096700Z",
     "start_time": "2024-08-09T10:48:37.697929500Z"
    }
   },
   "id": "f703fe31e3111b5b"
  },
  {
   "cell_type": "code",
   "execution_count": null,
   "outputs": [],
   "source": [],
   "metadata": {
    "collapsed": false
   },
   "id": "d823f782c16b251f"
  }
 ],
 "metadata": {
  "kernelspec": {
   "display_name": "Python 3",
   "language": "python",
   "name": "python3"
  },
  "language_info": {
   "codemirror_mode": {
    "name": "ipython",
    "version": 2
   },
   "file_extension": ".py",
   "mimetype": "text/x-python",
   "name": "python",
   "nbconvert_exporter": "python",
   "pygments_lexer": "ipython2",
   "version": "2.7.6"
  }
 },
 "nbformat": 4,
 "nbformat_minor": 5
}
