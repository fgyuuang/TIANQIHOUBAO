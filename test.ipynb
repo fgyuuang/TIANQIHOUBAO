{
 "cells": [
  {
   "cell_type": "code",
   "execution_count": 2,
   "id": "initial_id",
   "metadata": {
    "collapsed": true,
    "ExecuteTime": {
     "end_time": "2024-08-09T13:23:15.225676900Z",
     "start_time": "2024-08-09T13:22:32.613013400Z"
    }
   },
   "outputs": [
    {
     "ename": "KeyboardInterrupt",
     "evalue": "",
     "output_type": "error",
     "traceback": [
      "\u001B[1;31m---------------------------------------------------------------------------\u001B[0m",
      "\u001B[1;31mKeyboardInterrupt\u001B[0m                         Traceback (most recent call last)",
      "Cell \u001B[1;32mIn[2], line 5\u001B[0m\n\u001B[0;32m      2\u001B[0m \u001B[38;5;28;01mimport\u001B[39;00m \u001B[38;5;21;01mlogging\u001B[39;00m\n\u001B[0;32m      4\u001B[0m page\u001B[38;5;241m=\u001B[39mDrissionPage\u001B[38;5;241m.\u001B[39mSessionPage()\n\u001B[1;32m----> 5\u001B[0m page\u001B[38;5;241m.\u001B[39mget(\u001B[38;5;124m'\u001B[39m\u001B[38;5;124mhttp://www.tianqihoubao.com/lishi/dongfang/month/201101.html\u001B[39m\u001B[38;5;124m'\u001B[39m,timeout\u001B[38;5;241m=\u001B[39m\u001B[38;5;241m20\u001B[39m)\n",
      "File \u001B[1;32mC:\\anaconda3\\Lib\\site-packages\\DrissionPage\\_pages\\session_page.py:168\u001B[0m, in \u001B[0;36mSessionPage.get\u001B[1;34m(self, url, show_errmsg, retry, interval, timeout, **kwargs)\u001B[0m\n\u001B[0;32m    166\u001B[0m         \u001B[38;5;28mself\u001B[39m\u001B[38;5;241m.\u001B[39m_response \u001B[38;5;241m=\u001B[39m r\n\u001B[0;32m    167\u001B[0m     \u001B[38;5;28;01mreturn\u001B[39;00m \u001B[38;5;28;01mTrue\u001B[39;00m\n\u001B[1;32m--> 168\u001B[0m \u001B[38;5;28;01mreturn\u001B[39;00m \u001B[38;5;28mself\u001B[39m\u001B[38;5;241m.\u001B[39m_s_connect(\u001B[38;5;28mself\u001B[39m\u001B[38;5;241m.\u001B[39m_url, \u001B[38;5;124m'\u001B[39m\u001B[38;5;124mget\u001B[39m\u001B[38;5;124m'\u001B[39m, show_errmsg, retry, interval, \u001B[38;5;241m*\u001B[39m\u001B[38;5;241m*\u001B[39mkwargs)\n",
      "File \u001B[1;32mC:\\anaconda3\\Lib\\site-packages\\DrissionPage\\_pages\\session_page.py:269\u001B[0m, in \u001B[0;36mSessionPage._s_connect\u001B[1;34m(self, url, mode, show_errmsg, retry, interval, **kwargs)\u001B[0m\n\u001B[0;32m    259\u001B[0m \u001B[38;5;250m\u001B[39m\u001B[38;5;124;03m\"\"\"执行get或post连接\u001B[39;00m\n\u001B[0;32m    260\u001B[0m \u001B[38;5;124;03m:param url: 目标url\u001B[39;00m\n\u001B[0;32m    261\u001B[0m \u001B[38;5;124;03m:param mode: 'get' 或 'post'\u001B[39;00m\n\u001B[1;32m   (...)\u001B[0m\n\u001B[0;32m    266\u001B[0m \u001B[38;5;124;03m:return: url是否可用\u001B[39;00m\n\u001B[0;32m    267\u001B[0m \u001B[38;5;124;03m\"\"\"\u001B[39;00m\n\u001B[0;32m    268\u001B[0m retry, interval, is_file \u001B[38;5;241m=\u001B[39m \u001B[38;5;28mself\u001B[39m\u001B[38;5;241m.\u001B[39m_before_connect(url, retry, interval)\n\u001B[1;32m--> 269\u001B[0m \u001B[38;5;28mself\u001B[39m\u001B[38;5;241m.\u001B[39m_response, info \u001B[38;5;241m=\u001B[39m \u001B[38;5;28mself\u001B[39m\u001B[38;5;241m.\u001B[39m_make_response(\u001B[38;5;28mself\u001B[39m\u001B[38;5;241m.\u001B[39m_url, mode, retry, interval, show_errmsg, \u001B[38;5;241m*\u001B[39m\u001B[38;5;241m*\u001B[39mkwargs)\n\u001B[0;32m    271\u001B[0m \u001B[38;5;28;01mif\u001B[39;00m \u001B[38;5;28mself\u001B[39m\u001B[38;5;241m.\u001B[39m_response \u001B[38;5;129;01mis\u001B[39;00m \u001B[38;5;28;01mNone\u001B[39;00m:\n\u001B[0;32m    272\u001B[0m     \u001B[38;5;28mself\u001B[39m\u001B[38;5;241m.\u001B[39m_url_available \u001B[38;5;241m=\u001B[39m \u001B[38;5;28;01mFalse\u001B[39;00m\n",
      "File \u001B[1;32mC:\\anaconda3\\Lib\\site-packages\\DrissionPage\\_pages\\session_page.py:319\u001B[0m, in \u001B[0;36mSessionPage._make_response\u001B[1;34m(self, url, mode, retry, interval, show_errmsg, **kwargs)\u001B[0m\n\u001B[0;32m    317\u001B[0m \u001B[38;5;28;01mtry\u001B[39;00m:\n\u001B[0;32m    318\u001B[0m     \u001B[38;5;28;01mif\u001B[39;00m mode \u001B[38;5;241m==\u001B[39m \u001B[38;5;124m'\u001B[39m\u001B[38;5;124mget\u001B[39m\u001B[38;5;124m'\u001B[39m:\n\u001B[1;32m--> 319\u001B[0m         r \u001B[38;5;241m=\u001B[39m \u001B[38;5;28mself\u001B[39m\u001B[38;5;241m.\u001B[39msession\u001B[38;5;241m.\u001B[39mget(url, \u001B[38;5;241m*\u001B[39m\u001B[38;5;241m*\u001B[39mkwargs)\n\u001B[0;32m    320\u001B[0m     \u001B[38;5;28;01melif\u001B[39;00m mode \u001B[38;5;241m==\u001B[39m \u001B[38;5;124m'\u001B[39m\u001B[38;5;124mpost\u001B[39m\u001B[38;5;124m'\u001B[39m:\n\u001B[0;32m    321\u001B[0m         r \u001B[38;5;241m=\u001B[39m \u001B[38;5;28mself\u001B[39m\u001B[38;5;241m.\u001B[39msession\u001B[38;5;241m.\u001B[39mpost(url, \u001B[38;5;241m*\u001B[39m\u001B[38;5;241m*\u001B[39mkwargs)\n",
      "File \u001B[1;32mC:\\anaconda3\\Lib\\site-packages\\requests\\sessions.py:602\u001B[0m, in \u001B[0;36mSession.get\u001B[1;34m(self, url, **kwargs)\u001B[0m\n\u001B[0;32m    594\u001B[0m \u001B[38;5;250m\u001B[39m\u001B[38;5;124mr\u001B[39m\u001B[38;5;124;03m\"\"\"Sends a GET request. Returns :class:`Response` object.\u001B[39;00m\n\u001B[0;32m    595\u001B[0m \n\u001B[0;32m    596\u001B[0m \u001B[38;5;124;03m:param url: URL for the new :class:`Request` object.\u001B[39;00m\n\u001B[0;32m    597\u001B[0m \u001B[38;5;124;03m:param \\*\\*kwargs: Optional arguments that ``request`` takes.\u001B[39;00m\n\u001B[0;32m    598\u001B[0m \u001B[38;5;124;03m:rtype: requests.Response\u001B[39;00m\n\u001B[0;32m    599\u001B[0m \u001B[38;5;124;03m\"\"\"\u001B[39;00m\n\u001B[0;32m    601\u001B[0m kwargs\u001B[38;5;241m.\u001B[39msetdefault(\u001B[38;5;124m\"\u001B[39m\u001B[38;5;124mallow_redirects\u001B[39m\u001B[38;5;124m\"\u001B[39m, \u001B[38;5;28;01mTrue\u001B[39;00m)\n\u001B[1;32m--> 602\u001B[0m \u001B[38;5;28;01mreturn\u001B[39;00m \u001B[38;5;28mself\u001B[39m\u001B[38;5;241m.\u001B[39mrequest(\u001B[38;5;124m\"\u001B[39m\u001B[38;5;124mGET\u001B[39m\u001B[38;5;124m\"\u001B[39m, url, \u001B[38;5;241m*\u001B[39m\u001B[38;5;241m*\u001B[39mkwargs)\n",
      "File \u001B[1;32mC:\\anaconda3\\Lib\\site-packages\\requests\\sessions.py:589\u001B[0m, in \u001B[0;36mSession.request\u001B[1;34m(self, method, url, params, data, headers, cookies, files, auth, timeout, allow_redirects, proxies, hooks, stream, verify, cert, json)\u001B[0m\n\u001B[0;32m    584\u001B[0m send_kwargs \u001B[38;5;241m=\u001B[39m {\n\u001B[0;32m    585\u001B[0m     \u001B[38;5;124m\"\u001B[39m\u001B[38;5;124mtimeout\u001B[39m\u001B[38;5;124m\"\u001B[39m: timeout,\n\u001B[0;32m    586\u001B[0m     \u001B[38;5;124m\"\u001B[39m\u001B[38;5;124mallow_redirects\u001B[39m\u001B[38;5;124m\"\u001B[39m: allow_redirects,\n\u001B[0;32m    587\u001B[0m }\n\u001B[0;32m    588\u001B[0m send_kwargs\u001B[38;5;241m.\u001B[39mupdate(settings)\n\u001B[1;32m--> 589\u001B[0m resp \u001B[38;5;241m=\u001B[39m \u001B[38;5;28mself\u001B[39m\u001B[38;5;241m.\u001B[39msend(prep, \u001B[38;5;241m*\u001B[39m\u001B[38;5;241m*\u001B[39msend_kwargs)\n\u001B[0;32m    591\u001B[0m \u001B[38;5;28;01mreturn\u001B[39;00m resp\n",
      "File \u001B[1;32mC:\\anaconda3\\Lib\\site-packages\\requests\\sessions.py:747\u001B[0m, in \u001B[0;36mSession.send\u001B[1;34m(self, request, **kwargs)\u001B[0m\n\u001B[0;32m    744\u001B[0m         \u001B[38;5;28;01mpass\u001B[39;00m\n\u001B[0;32m    746\u001B[0m \u001B[38;5;28;01mif\u001B[39;00m \u001B[38;5;129;01mnot\u001B[39;00m stream:\n\u001B[1;32m--> 747\u001B[0m     r\u001B[38;5;241m.\u001B[39mcontent\n\u001B[0;32m    749\u001B[0m \u001B[38;5;28;01mreturn\u001B[39;00m r\n",
      "File \u001B[1;32mC:\\anaconda3\\Lib\\site-packages\\requests\\models.py:899\u001B[0m, in \u001B[0;36mResponse.content\u001B[1;34m(self)\u001B[0m\n\u001B[0;32m    897\u001B[0m         \u001B[38;5;28mself\u001B[39m\u001B[38;5;241m.\u001B[39m_content \u001B[38;5;241m=\u001B[39m \u001B[38;5;28;01mNone\u001B[39;00m\n\u001B[0;32m    898\u001B[0m     \u001B[38;5;28;01melse\u001B[39;00m:\n\u001B[1;32m--> 899\u001B[0m         \u001B[38;5;28mself\u001B[39m\u001B[38;5;241m.\u001B[39m_content \u001B[38;5;241m=\u001B[39m \u001B[38;5;124mb\u001B[39m\u001B[38;5;124m\"\u001B[39m\u001B[38;5;124m\"\u001B[39m\u001B[38;5;241m.\u001B[39mjoin(\u001B[38;5;28mself\u001B[39m\u001B[38;5;241m.\u001B[39miter_content(CONTENT_CHUNK_SIZE)) \u001B[38;5;129;01mor\u001B[39;00m \u001B[38;5;124mb\u001B[39m\u001B[38;5;124m\"\u001B[39m\u001B[38;5;124m\"\u001B[39m\n\u001B[0;32m    901\u001B[0m \u001B[38;5;28mself\u001B[39m\u001B[38;5;241m.\u001B[39m_content_consumed \u001B[38;5;241m=\u001B[39m \u001B[38;5;28;01mTrue\u001B[39;00m\n\u001B[0;32m    902\u001B[0m \u001B[38;5;66;03m# don't need to release the connection; that's been handled by urllib3\u001B[39;00m\n\u001B[0;32m    903\u001B[0m \u001B[38;5;66;03m# since we exhausted the data.\u001B[39;00m\n",
      "File \u001B[1;32mC:\\anaconda3\\Lib\\site-packages\\requests\\models.py:816\u001B[0m, in \u001B[0;36mResponse.iter_content.<locals>.generate\u001B[1;34m()\u001B[0m\n\u001B[0;32m    814\u001B[0m \u001B[38;5;28;01mif\u001B[39;00m \u001B[38;5;28mhasattr\u001B[39m(\u001B[38;5;28mself\u001B[39m\u001B[38;5;241m.\u001B[39mraw, \u001B[38;5;124m\"\u001B[39m\u001B[38;5;124mstream\u001B[39m\u001B[38;5;124m\"\u001B[39m):\n\u001B[0;32m    815\u001B[0m     \u001B[38;5;28;01mtry\u001B[39;00m:\n\u001B[1;32m--> 816\u001B[0m         \u001B[38;5;28;01myield from\u001B[39;00m \u001B[38;5;28mself\u001B[39m\u001B[38;5;241m.\u001B[39mraw\u001B[38;5;241m.\u001B[39mstream(chunk_size, decode_content\u001B[38;5;241m=\u001B[39m\u001B[38;5;28;01mTrue\u001B[39;00m)\n\u001B[0;32m    817\u001B[0m     \u001B[38;5;28;01mexcept\u001B[39;00m ProtocolError \u001B[38;5;28;01mas\u001B[39;00m e:\n\u001B[0;32m    818\u001B[0m         \u001B[38;5;28;01mraise\u001B[39;00m ChunkedEncodingError(e)\n",
      "File \u001B[1;32mC:\\anaconda3\\Lib\\site-packages\\urllib3\\response.py:628\u001B[0m, in \u001B[0;36mHTTPResponse.stream\u001B[1;34m(self, amt, decode_content)\u001B[0m\n\u001B[0;32m    626\u001B[0m \u001B[38;5;28;01melse\u001B[39;00m:\n\u001B[0;32m    627\u001B[0m     \u001B[38;5;28;01mwhile\u001B[39;00m \u001B[38;5;129;01mnot\u001B[39;00m is_fp_closed(\u001B[38;5;28mself\u001B[39m\u001B[38;5;241m.\u001B[39m_fp):\n\u001B[1;32m--> 628\u001B[0m         data \u001B[38;5;241m=\u001B[39m \u001B[38;5;28mself\u001B[39m\u001B[38;5;241m.\u001B[39mread(amt\u001B[38;5;241m=\u001B[39mamt, decode_content\u001B[38;5;241m=\u001B[39mdecode_content)\n\u001B[0;32m    630\u001B[0m         \u001B[38;5;28;01mif\u001B[39;00m data:\n\u001B[0;32m    631\u001B[0m             \u001B[38;5;28;01myield\u001B[39;00m data\n",
      "File \u001B[1;32mC:\\anaconda3\\Lib\\site-packages\\urllib3\\response.py:567\u001B[0m, in \u001B[0;36mHTTPResponse.read\u001B[1;34m(self, amt, decode_content, cache_content)\u001B[0m\n\u001B[0;32m    564\u001B[0m fp_closed \u001B[38;5;241m=\u001B[39m \u001B[38;5;28mgetattr\u001B[39m(\u001B[38;5;28mself\u001B[39m\u001B[38;5;241m.\u001B[39m_fp, \u001B[38;5;124m\"\u001B[39m\u001B[38;5;124mclosed\u001B[39m\u001B[38;5;124m\"\u001B[39m, \u001B[38;5;28;01mFalse\u001B[39;00m)\n\u001B[0;32m    566\u001B[0m \u001B[38;5;28;01mwith\u001B[39;00m \u001B[38;5;28mself\u001B[39m\u001B[38;5;241m.\u001B[39m_error_catcher():\n\u001B[1;32m--> 567\u001B[0m     data \u001B[38;5;241m=\u001B[39m \u001B[38;5;28mself\u001B[39m\u001B[38;5;241m.\u001B[39m_fp_read(amt) \u001B[38;5;28;01mif\u001B[39;00m \u001B[38;5;129;01mnot\u001B[39;00m fp_closed \u001B[38;5;28;01melse\u001B[39;00m \u001B[38;5;124mb\u001B[39m\u001B[38;5;124m\"\u001B[39m\u001B[38;5;124m\"\u001B[39m\n\u001B[0;32m    568\u001B[0m     \u001B[38;5;28;01mif\u001B[39;00m amt \u001B[38;5;129;01mis\u001B[39;00m \u001B[38;5;28;01mNone\u001B[39;00m:\n\u001B[0;32m    569\u001B[0m         flush_decoder \u001B[38;5;241m=\u001B[39m \u001B[38;5;28;01mTrue\u001B[39;00m\n",
      "File \u001B[1;32mC:\\anaconda3\\Lib\\site-packages\\urllib3\\response.py:533\u001B[0m, in \u001B[0;36mHTTPResponse._fp_read\u001B[1;34m(self, amt)\u001B[0m\n\u001B[0;32m    530\u001B[0m     \u001B[38;5;28;01mreturn\u001B[39;00m buffer\u001B[38;5;241m.\u001B[39mgetvalue()\n\u001B[0;32m    531\u001B[0m \u001B[38;5;28;01melse\u001B[39;00m:\n\u001B[0;32m    532\u001B[0m     \u001B[38;5;66;03m# StringIO doesn't like amt=None\u001B[39;00m\n\u001B[1;32m--> 533\u001B[0m     \u001B[38;5;28;01mreturn\u001B[39;00m \u001B[38;5;28mself\u001B[39m\u001B[38;5;241m.\u001B[39m_fp\u001B[38;5;241m.\u001B[39mread(amt) \u001B[38;5;28;01mif\u001B[39;00m amt \u001B[38;5;129;01mis\u001B[39;00m \u001B[38;5;129;01mnot\u001B[39;00m \u001B[38;5;28;01mNone\u001B[39;00m \u001B[38;5;28;01melse\u001B[39;00m \u001B[38;5;28mself\u001B[39m\u001B[38;5;241m.\u001B[39m_fp\u001B[38;5;241m.\u001B[39mread()\n",
      "File \u001B[1;32mC:\\anaconda3\\Lib\\http\\client.py:466\u001B[0m, in \u001B[0;36mHTTPResponse.read\u001B[1;34m(self, amt)\u001B[0m\n\u001B[0;32m    463\u001B[0m \u001B[38;5;28;01mif\u001B[39;00m \u001B[38;5;28mself\u001B[39m\u001B[38;5;241m.\u001B[39mlength \u001B[38;5;129;01mis\u001B[39;00m \u001B[38;5;129;01mnot\u001B[39;00m \u001B[38;5;28;01mNone\u001B[39;00m \u001B[38;5;129;01mand\u001B[39;00m amt \u001B[38;5;241m>\u001B[39m \u001B[38;5;28mself\u001B[39m\u001B[38;5;241m.\u001B[39mlength:\n\u001B[0;32m    464\u001B[0m     \u001B[38;5;66;03m# clip the read to the \"end of response\"\u001B[39;00m\n\u001B[0;32m    465\u001B[0m     amt \u001B[38;5;241m=\u001B[39m \u001B[38;5;28mself\u001B[39m\u001B[38;5;241m.\u001B[39mlength\n\u001B[1;32m--> 466\u001B[0m s \u001B[38;5;241m=\u001B[39m \u001B[38;5;28mself\u001B[39m\u001B[38;5;241m.\u001B[39mfp\u001B[38;5;241m.\u001B[39mread(amt)\n\u001B[0;32m    467\u001B[0m \u001B[38;5;28;01mif\u001B[39;00m \u001B[38;5;129;01mnot\u001B[39;00m s \u001B[38;5;129;01mand\u001B[39;00m amt:\n\u001B[0;32m    468\u001B[0m     \u001B[38;5;66;03m# Ideally, we would raise IncompleteRead if the content-length\u001B[39;00m\n\u001B[0;32m    469\u001B[0m     \u001B[38;5;66;03m# wasn't satisfied, but it might break compatibility.\u001B[39;00m\n\u001B[0;32m    470\u001B[0m     \u001B[38;5;28mself\u001B[39m\u001B[38;5;241m.\u001B[39m_close_conn()\n",
      "File \u001B[1;32mC:\\anaconda3\\Lib\\socket.py:706\u001B[0m, in \u001B[0;36mSocketIO.readinto\u001B[1;34m(self, b)\u001B[0m\n\u001B[0;32m    704\u001B[0m \u001B[38;5;28;01mwhile\u001B[39;00m \u001B[38;5;28;01mTrue\u001B[39;00m:\n\u001B[0;32m    705\u001B[0m     \u001B[38;5;28;01mtry\u001B[39;00m:\n\u001B[1;32m--> 706\u001B[0m         \u001B[38;5;28;01mreturn\u001B[39;00m \u001B[38;5;28mself\u001B[39m\u001B[38;5;241m.\u001B[39m_sock\u001B[38;5;241m.\u001B[39mrecv_into(b)\n\u001B[0;32m    707\u001B[0m     \u001B[38;5;28;01mexcept\u001B[39;00m timeout:\n\u001B[0;32m    708\u001B[0m         \u001B[38;5;28mself\u001B[39m\u001B[38;5;241m.\u001B[39m_timeout_occurred \u001B[38;5;241m=\u001B[39m \u001B[38;5;28;01mTrue\u001B[39;00m\n",
      "\u001B[1;31mKeyboardInterrupt\u001B[0m: "
     ]
    }
   ],
   "source": [
    "import DrissionPage\n",
    "import logging\n",
    "\n",
    "page=DrissionPage.SessionPage()\n",
    "page.get('http://www.tianqihoubao.com/lishi/dongfang/month/201101.html',timeout=20)"
   ]
  },
  {
   "cell_type": "code",
   "execution_count": 16,
   "outputs": [
    {
     "data": {
      "text/plain": "[<SessionElement tr >,\n <SessionElement tr >,\n <SessionElement tr >,\n <SessionElement tr >,\n <SessionElement tr >,\n <SessionElement tr >,\n <SessionElement tr >,\n <SessionElement tr >,\n <SessionElement tr >,\n <SessionElement tr >,\n <SessionElement tr >,\n <SessionElement tr >,\n <SessionElement tr >,\n <SessionElement tr >,\n <SessionElement tr >,\n <SessionElement tr >,\n <SessionElement tr >,\n <SessionElement tr >,\n <SessionElement tr >,\n <SessionElement tr >,\n <SessionElement tr >,\n <SessionElement tr >,\n <SessionElement tr >,\n <SessionElement tr >,\n <SessionElement tr >,\n <SessionElement tr >,\n <SessionElement tr >,\n <SessionElement tr >,\n <SessionElement tr >,\n <SessionElement tr >,\n <SessionElement tr >,\n <SessionElement tr >]"
     },
     "execution_count": 16,
     "metadata": {},
     "output_type": "execute_result"
    }
   ],
   "source": [
    "import pandas as pd\n",
    "\n",
    "list = page.eles('xpath=//tr')\n",
    "datarows = []\n",
    "for li in list:\n",
    "        a = li.s_eles('tag:td')\n",
    "        l = [i.text for i in a]\n",
    "        datarows.append(l)\n",
    "columns = datarows[0]\n",
    "# 提取数据行（剩余的元素）\n",
    "data_values = datarows[1:]\n",
    "# 创建DataFrame\n",
    "result_weather = pd.DataFrame(data_values, columns=columns)\n",
    "list"
   ],
   "metadata": {
    "collapsed": false,
    "ExecuteTime": {
     "end_time": "2024-08-09T10:48:15.310402500Z",
     "start_time": "2024-08-09T10:48:15.288256400Z"
    }
   },
   "id": "b31a0a8610e07234"
  },
  {
   "cell_type": "code",
   "execution_count": 17,
   "outputs": [
    {
     "data": {
      "text/plain": "[<SessionElement tr >,\n <SessionElement tr >,\n <SessionElement tr >,\n <SessionElement tr >,\n <SessionElement tr >,\n <SessionElement tr >,\n <SessionElement tr >,\n <SessionElement tr >,\n <SessionElement tr >,\n <SessionElement tr >,\n <SessionElement tr >,\n <SessionElement tr >,\n <SessionElement tr >,\n <SessionElement tr >,\n <SessionElement tr >,\n <SessionElement tr >,\n <SessionElement tr >,\n <SessionElement tr >,\n <SessionElement tr >,\n <SessionElement tr >,\n <SessionElement tr >,\n <SessionElement tr >,\n <SessionElement tr >,\n <SessionElement tr >,\n <SessionElement tr >,\n <SessionElement tr >,\n <SessionElement tr >,\n <SessionElement tr >,\n <SessionElement tr >,\n <SessionElement tr >,\n <SessionElement tr >,\n <SessionElement tr >]"
     },
     "execution_count": 17,
     "metadata": {},
     "output_type": "execute_result"
    }
   ],
   "source": [
    "list"
   ],
   "metadata": {
    "collapsed": false,
    "ExecuteTime": {
     "end_time": "2024-08-09T10:48:22.460852200Z",
     "start_time": "2024-08-09T10:48:22.454867500Z"
    }
   },
   "id": "7db4f8aecf1a13e"
  },
  {
   "cell_type": "code",
   "execution_count": 18,
   "outputs": [
    {
     "data": {
      "text/plain": "[['日期', '天气状况', '最低气温/最高气温', '风力风向(夜间/白天)'],\n ['2011年01月01日', '多云 /多云', '16℃ / 26℃', '东北风 4-5级 /东北风 4-5级'],\n ['2011年01月02日', '多云 /多云', '17℃ / 27℃', '东北风 3-4级 /东北风 3-4级'],\n ['2011年01月03日', '多云 /多云', '17℃ / 23℃', '东北风 4-5级 /东北风 4-5级'],\n ['2011年01月04日', '多云 /多云', '17℃ / 25℃', '东北风 4-5级 /东北风 4-5级'],\n ['2011年01月05日', '多云 /多云', '16℃ / 25℃', '东北风 4-5级 /东北风 4-5级'],\n ['2011年01月06日', '多云 /多云', '15℃ / 20℃', '东北风 4-5级 /东北风 4-5级'],\n ['2011年01月07日', '多云 /多云', '13℃ / 21℃', '东北风 4-5级 /东北风 4-5级'],\n ['2011年01月08日', '多云 /多云', '14℃ / 19℃', '东北风 4-5级 /东北风 4-5级'],\n ['2011年01月09日', '多云 /阴', '14℃ / 22℃', '东北风 4-5级 /东北风 4-5级'],\n ['2011年01月10日', '小雨 /小雨', '13℃ / 17℃', '东北风 5-6级 /东北风 5-6级'],\n ['2011年01月11日', '阴 /阴', '14℃ / 17℃', '东北风 5-6级 /东北风 4-5级'],\n ['2011年01月12日', '小雨 /小雨', '11℃ / 14℃', '东北风 4-5级 /东北风 5-6级'],\n ['2011年01月13日', '多云 /多云', '13℃ / 17℃', '东北风 5-6级 /东北风 4-5级'],\n ['2011年01月14日', '阴 /阴', '14℃ / 21℃', '东北风 3-4级 /东北风 4-5级'],\n ['2011年01月15日', '小雨 /阴', '10℃ / 16℃', '东北风 4-5级 /东北风 4-5级'],\n ['2011年01月16日', '多云 /多云', '12℃ / 16℃', '东北风 4-5级 /东北风 4-5级'],\n ['2011年01月17日', '阵雨 /阵雨', '13℃ / 18℃', '东北风 4-5级 /东北风 4-5级'],\n ['2011年01月18日', '多云 /多云', '15℃ / 22℃', '东北风 4-5级 /东北风 4-5级'],\n ['2011年01月19日', '阴 /阴', '16℃ / 24℃', '东北风 4-5级 /东北风 4-5级'],\n ['2011年01月20日', '多云 /多云', '17℃ / 25℃', '东北风 4-5级 /东北风 4-5级'],\n ['2011年01月21日', '多云 /多云', '13℃ / 21℃', '东北风 4-5级 /东北风 4-5级'],\n ['2011年01月22日', '多云 /多云', '15℃ / 20℃', '东北风 4-5级 /东北风 4-5级'],\n ['2011年01月23日', '多云 /多云', '13℃ / 20℃', '东北风 4-5级 /东北风 4-5级'],\n ['2011年01月24日', '多云 /多云', '13℃ / 19℃', '东北风 4-5级 /东北风 4-5级'],\n ['2011年01月25日', '多云 /多云', '15℃ / 19℃', '东北风 4-5级 /东北风 4-5级'],\n ['2011年01月26日', '多云 /多云', '15℃ / 19℃', '东北风 4-5级 /东北风 4-5级'],\n ['2011年01月27日', '多云 /多云', '15℃ / 21℃', '东北风 4-5级 /东北风 4-5级'],\n ['2011年01月28日', '多云 /多云', '14℃ / 20℃', '东北风 4-5级 /东北风 4-5级'],\n ['2011年01月29日', '多云 /多云', '13℃ / 17℃', '东北风 4-5级 /东北风 4-5级'],\n ['2011年01月30日', '阴 /阴', '13℃ / 17℃', '东北风 4-5级 /东北风 4-5级'],\n ['2011年01月31日', '阴 /多云', '14℃ / 20℃', '东北风 4-5级 /东北风 4-5级']]"
     },
     "execution_count": 18,
     "metadata": {},
     "output_type": "execute_result"
    }
   ],
   "source": [
    " datarows"
   ],
   "metadata": {
    "collapsed": false,
    "ExecuteTime": {
     "end_time": "2024-08-09T10:48:22.955584600Z",
     "start_time": "2024-08-09T10:48:22.950699800Z"
    }
   },
   "id": "d121a14911a12ac3"
  },
  {
   "cell_type": "code",
   "execution_count": 19,
   "outputs": [
    {
     "data": {
      "text/plain": "             日期    天气状况  最低气温/最高气温         风力风向(夜间/白天)\n0   2011年01月01日  多云 /多云  16℃ / 26℃  东北风 4-5级 /东北风 4-5级\n1   2011年01月02日  多云 /多云  17℃ / 27℃  东北风 3-4级 /东北风 3-4级\n2   2011年01月03日  多云 /多云  17℃ / 23℃  东北风 4-5级 /东北风 4-5级\n3   2011年01月04日  多云 /多云  17℃ / 25℃  东北风 4-5级 /东北风 4-5级\n4   2011年01月05日  多云 /多云  16℃ / 25℃  东北风 4-5级 /东北风 4-5级\n5   2011年01月06日  多云 /多云  15℃ / 20℃  东北风 4-5级 /东北风 4-5级\n6   2011年01月07日  多云 /多云  13℃ / 21℃  东北风 4-5级 /东北风 4-5级\n7   2011年01月08日  多云 /多云  14℃ / 19℃  东北风 4-5级 /东北风 4-5级\n8   2011年01月09日   多云 /阴  14℃ / 22℃  东北风 4-5级 /东北风 4-5级\n9   2011年01月10日  小雨 /小雨  13℃ / 17℃  东北风 5-6级 /东北风 5-6级\n10  2011年01月11日    阴 /阴  14℃ / 17℃  东北风 5-6级 /东北风 4-5级\n11  2011年01月12日  小雨 /小雨  11℃ / 14℃  东北风 4-5级 /东北风 5-6级\n12  2011年01月13日  多云 /多云  13℃ / 17℃  东北风 5-6级 /东北风 4-5级\n13  2011年01月14日    阴 /阴  14℃ / 21℃  东北风 3-4级 /东北风 4-5级\n14  2011年01月15日   小雨 /阴  10℃ / 16℃  东北风 4-5级 /东北风 4-5级\n15  2011年01月16日  多云 /多云  12℃ / 16℃  东北风 4-5级 /东北风 4-5级\n16  2011年01月17日  阵雨 /阵雨  13℃ / 18℃  东北风 4-5级 /东北风 4-5级\n17  2011年01月18日  多云 /多云  15℃ / 22℃  东北风 4-5级 /东北风 4-5级\n18  2011年01月19日    阴 /阴  16℃ / 24℃  东北风 4-5级 /东北风 4-5级\n19  2011年01月20日  多云 /多云  17℃ / 25℃  东北风 4-5级 /东北风 4-5级\n20  2011年01月21日  多云 /多云  13℃ / 21℃  东北风 4-5级 /东北风 4-5级\n21  2011年01月22日  多云 /多云  15℃ / 20℃  东北风 4-5级 /东北风 4-5级\n22  2011年01月23日  多云 /多云  13℃ / 20℃  东北风 4-5级 /东北风 4-5级\n23  2011年01月24日  多云 /多云  13℃ / 19℃  东北风 4-5级 /东北风 4-5级\n24  2011年01月25日  多云 /多云  15℃ / 19℃  东北风 4-5级 /东北风 4-5级\n25  2011年01月26日  多云 /多云  15℃ / 19℃  东北风 4-5级 /东北风 4-5级\n26  2011年01月27日  多云 /多云  15℃ / 21℃  东北风 4-5级 /东北风 4-5级\n27  2011年01月28日  多云 /多云  14℃ / 20℃  东北风 4-5级 /东北风 4-5级\n28  2011年01月29日  多云 /多云  13℃ / 17℃  东北风 4-5级 /东北风 4-5级\n29  2011年01月30日    阴 /阴  13℃ / 17℃  东北风 4-5级 /东北风 4-5级\n30  2011年01月31日   阴 /多云  14℃ / 20℃  东北风 4-5级 /东北风 4-5级",
      "text/html": "<div>\n<style scoped>\n    .dataframe tbody tr th:only-of-type {\n        vertical-align: middle;\n    }\n\n    .dataframe tbody tr th {\n        vertical-align: top;\n    }\n\n    .dataframe thead th {\n        text-align: right;\n    }\n</style>\n<table border=\"1\" class=\"dataframe\">\n  <thead>\n    <tr style=\"text-align: right;\">\n      <th></th>\n      <th>日期</th>\n      <th>天气状况</th>\n      <th>最低气温/最高气温</th>\n      <th>风力风向(夜间/白天)</th>\n    </tr>\n  </thead>\n  <tbody>\n    <tr>\n      <th>0</th>\n      <td>2011年01月01日</td>\n      <td>多云 /多云</td>\n      <td>16℃ / 26℃</td>\n      <td>东北风 4-5级 /东北风 4-5级</td>\n    </tr>\n    <tr>\n      <th>1</th>\n      <td>2011年01月02日</td>\n      <td>多云 /多云</td>\n      <td>17℃ / 27℃</td>\n      <td>东北风 3-4级 /东北风 3-4级</td>\n    </tr>\n    <tr>\n      <th>2</th>\n      <td>2011年01月03日</td>\n      <td>多云 /多云</td>\n      <td>17℃ / 23℃</td>\n      <td>东北风 4-5级 /东北风 4-5级</td>\n    </tr>\n    <tr>\n      <th>3</th>\n      <td>2011年01月04日</td>\n      <td>多云 /多云</td>\n      <td>17℃ / 25℃</td>\n      <td>东北风 4-5级 /东北风 4-5级</td>\n    </tr>\n    <tr>\n      <th>4</th>\n      <td>2011年01月05日</td>\n      <td>多云 /多云</td>\n      <td>16℃ / 25℃</td>\n      <td>东北风 4-5级 /东北风 4-5级</td>\n    </tr>\n    <tr>\n      <th>5</th>\n      <td>2011年01月06日</td>\n      <td>多云 /多云</td>\n      <td>15℃ / 20℃</td>\n      <td>东北风 4-5级 /东北风 4-5级</td>\n    </tr>\n    <tr>\n      <th>6</th>\n      <td>2011年01月07日</td>\n      <td>多云 /多云</td>\n      <td>13℃ / 21℃</td>\n      <td>东北风 4-5级 /东北风 4-5级</td>\n    </tr>\n    <tr>\n      <th>7</th>\n      <td>2011年01月08日</td>\n      <td>多云 /多云</td>\n      <td>14℃ / 19℃</td>\n      <td>东北风 4-5级 /东北风 4-5级</td>\n    </tr>\n    <tr>\n      <th>8</th>\n      <td>2011年01月09日</td>\n      <td>多云 /阴</td>\n      <td>14℃ / 22℃</td>\n      <td>东北风 4-5级 /东北风 4-5级</td>\n    </tr>\n    <tr>\n      <th>9</th>\n      <td>2011年01月10日</td>\n      <td>小雨 /小雨</td>\n      <td>13℃ / 17℃</td>\n      <td>东北风 5-6级 /东北风 5-6级</td>\n    </tr>\n    <tr>\n      <th>10</th>\n      <td>2011年01月11日</td>\n      <td>阴 /阴</td>\n      <td>14℃ / 17℃</td>\n      <td>东北风 5-6级 /东北风 4-5级</td>\n    </tr>\n    <tr>\n      <th>11</th>\n      <td>2011年01月12日</td>\n      <td>小雨 /小雨</td>\n      <td>11℃ / 14℃</td>\n      <td>东北风 4-5级 /东北风 5-6级</td>\n    </tr>\n    <tr>\n      <th>12</th>\n      <td>2011年01月13日</td>\n      <td>多云 /多云</td>\n      <td>13℃ / 17℃</td>\n      <td>东北风 5-6级 /东北风 4-5级</td>\n    </tr>\n    <tr>\n      <th>13</th>\n      <td>2011年01月14日</td>\n      <td>阴 /阴</td>\n      <td>14℃ / 21℃</td>\n      <td>东北风 3-4级 /东北风 4-5级</td>\n    </tr>\n    <tr>\n      <th>14</th>\n      <td>2011年01月15日</td>\n      <td>小雨 /阴</td>\n      <td>10℃ / 16℃</td>\n      <td>东北风 4-5级 /东北风 4-5级</td>\n    </tr>\n    <tr>\n      <th>15</th>\n      <td>2011年01月16日</td>\n      <td>多云 /多云</td>\n      <td>12℃ / 16℃</td>\n      <td>东北风 4-5级 /东北风 4-5级</td>\n    </tr>\n    <tr>\n      <th>16</th>\n      <td>2011年01月17日</td>\n      <td>阵雨 /阵雨</td>\n      <td>13℃ / 18℃</td>\n      <td>东北风 4-5级 /东北风 4-5级</td>\n    </tr>\n    <tr>\n      <th>17</th>\n      <td>2011年01月18日</td>\n      <td>多云 /多云</td>\n      <td>15℃ / 22℃</td>\n      <td>东北风 4-5级 /东北风 4-5级</td>\n    </tr>\n    <tr>\n      <th>18</th>\n      <td>2011年01月19日</td>\n      <td>阴 /阴</td>\n      <td>16℃ / 24℃</td>\n      <td>东北风 4-5级 /东北风 4-5级</td>\n    </tr>\n    <tr>\n      <th>19</th>\n      <td>2011年01月20日</td>\n      <td>多云 /多云</td>\n      <td>17℃ / 25℃</td>\n      <td>东北风 4-5级 /东北风 4-5级</td>\n    </tr>\n    <tr>\n      <th>20</th>\n      <td>2011年01月21日</td>\n      <td>多云 /多云</td>\n      <td>13℃ / 21℃</td>\n      <td>东北风 4-5级 /东北风 4-5级</td>\n    </tr>\n    <tr>\n      <th>21</th>\n      <td>2011年01月22日</td>\n      <td>多云 /多云</td>\n      <td>15℃ / 20℃</td>\n      <td>东北风 4-5级 /东北风 4-5级</td>\n    </tr>\n    <tr>\n      <th>22</th>\n      <td>2011年01月23日</td>\n      <td>多云 /多云</td>\n      <td>13℃ / 20℃</td>\n      <td>东北风 4-5级 /东北风 4-5级</td>\n    </tr>\n    <tr>\n      <th>23</th>\n      <td>2011年01月24日</td>\n      <td>多云 /多云</td>\n      <td>13℃ / 19℃</td>\n      <td>东北风 4-5级 /东北风 4-5级</td>\n    </tr>\n    <tr>\n      <th>24</th>\n      <td>2011年01月25日</td>\n      <td>多云 /多云</td>\n      <td>15℃ / 19℃</td>\n      <td>东北风 4-5级 /东北风 4-5级</td>\n    </tr>\n    <tr>\n      <th>25</th>\n      <td>2011年01月26日</td>\n      <td>多云 /多云</td>\n      <td>15℃ / 19℃</td>\n      <td>东北风 4-5级 /东北风 4-5级</td>\n    </tr>\n    <tr>\n      <th>26</th>\n      <td>2011年01月27日</td>\n      <td>多云 /多云</td>\n      <td>15℃ / 21℃</td>\n      <td>东北风 4-5级 /东北风 4-5级</td>\n    </tr>\n    <tr>\n      <th>27</th>\n      <td>2011年01月28日</td>\n      <td>多云 /多云</td>\n      <td>14℃ / 20℃</td>\n      <td>东北风 4-5级 /东北风 4-5级</td>\n    </tr>\n    <tr>\n      <th>28</th>\n      <td>2011年01月29日</td>\n      <td>多云 /多云</td>\n      <td>13℃ / 17℃</td>\n      <td>东北风 4-5级 /东北风 4-5级</td>\n    </tr>\n    <tr>\n      <th>29</th>\n      <td>2011年01月30日</td>\n      <td>阴 /阴</td>\n      <td>13℃ / 17℃</td>\n      <td>东北风 4-5级 /东北风 4-5级</td>\n    </tr>\n    <tr>\n      <th>30</th>\n      <td>2011年01月31日</td>\n      <td>阴 /多云</td>\n      <td>14℃ / 20℃</td>\n      <td>东北风 4-5级 /东北风 4-5级</td>\n    </tr>\n  </tbody>\n</table>\n</div>"
     },
     "execution_count": 19,
     "metadata": {},
     "output_type": "execute_result"
    }
   ],
   "source": [
    "result_weather"
   ],
   "metadata": {
    "collapsed": false,
    "ExecuteTime": {
     "end_time": "2024-08-09T10:48:37.722096700Z",
     "start_time": "2024-08-09T10:48:37.697929500Z"
    }
   },
   "id": "f703fe31e3111b5b"
  },
  {
   "cell_type": "code",
   "execution_count": 46,
   "outputs": [],
   "source": [
    "from bs4 import BeautifulSoup\n",
    "import requests\n",
    "TIME_OUT=20\n",
    "logging.basicConfig(level=logging.INFO)\n",
    "logger = logging.getLogger(__name__)\n",
    "def get_city():\n",
    "    \"\"\"\n",
    "    从天气网站获取城市列表，并将其整理成字典形式。\n",
    "\n",
    "    Returns:\n",
    "        dict: 包含省份及其城市的字典。\n",
    "    \"\"\"\n",
    "    url = 'http://www.tianqihoubao.com/lishi/'\n",
    "    while True:\n",
    "        try:\n",
    "            # 发送 HTTP 请求获取网页内容\n",
    "            page.get(url, timeout=TIME_OUT)\n",
    "            # 解析网页内容\n",
    "            city_list = page.ele('xpath=//div[@class=\"citychk\"]').eles('xpath=//dl')\n",
    "            citydic = {}\n",
    "            for dl in city_list:\n",
    "                province_text = dl.ele('xpath=//dt').text\n",
    "                dd = dl.ele('xpath=//dd').eles('xpath=//a')\n",
    "                wherelist = {}\n",
    "                for a in dd:\n",
    "                    name = a.text\n",
    "                    href = a.href\n",
    "                    url = href.split('.')[0]\n",
    "                    wherelist[name] = url\n",
    "                citydic[province_text] = wherelist\n",
    "\n",
    "            return citydic\n",
    "\n",
    "        except requests.RequestException as e:\n",
    "            logger.error(f'HTTP 请求错误: {e}')\n",
    "        except Exception as e:\n",
    "            logger.error(f'解析错误: {e}')"
   ],
   "metadata": {
    "collapsed": false,
    "ExecuteTime": {
     "end_time": "2024-08-09T12:16:41.538172300Z",
     "start_time": "2024-08-09T12:16:41.536100300Z"
    }
   },
   "id": "d823f782c16b251f"
  },
  {
   "cell_type": "code",
   "execution_count": 45,
   "outputs": [
    {
     "name": "stderr",
     "output_type": "stream",
     "text": [
      "ERROR:__main__:解析错误: \n",
      "没有找到元素。\n",
      "method: ele()\n",
      "args: {'locator': 'dt', 'index': 1}\n",
      "ERROR:__main__:解析错误: \n",
      "没有找到元素。\n",
      "method: ele()\n",
      "args: {'locator': 'dt', 'index': 1}\n"
     ]
    },
    {
     "ename": "KeyboardInterrupt",
     "evalue": "",
     "output_type": "error",
     "traceback": [
      "\u001B[1;31m---------------------------------------------------------------------------\u001B[0m",
      "\u001B[1;31mTimeoutError\u001B[0m                              Traceback (most recent call last)",
      "File \u001B[1;32mC:\\anaconda3\\Lib\\site-packages\\urllib3\\response.py:567\u001B[0m, in \u001B[0;36mHTTPResponse.read\u001B[1;34m(self, amt, decode_content, cache_content)\u001B[0m\n\u001B[0;32m    566\u001B[0m \u001B[38;5;28;01mwith\u001B[39;00m \u001B[38;5;28mself\u001B[39m\u001B[38;5;241m.\u001B[39m_error_catcher():\n\u001B[1;32m--> 567\u001B[0m     data \u001B[38;5;241m=\u001B[39m \u001B[38;5;28mself\u001B[39m\u001B[38;5;241m.\u001B[39m_fp_read(amt) \u001B[38;5;28;01mif\u001B[39;00m \u001B[38;5;129;01mnot\u001B[39;00m fp_closed \u001B[38;5;28;01melse\u001B[39;00m \u001B[38;5;124mb\u001B[39m\u001B[38;5;124m\"\u001B[39m\u001B[38;5;124m\"\u001B[39m\n\u001B[0;32m    568\u001B[0m     \u001B[38;5;28;01mif\u001B[39;00m amt \u001B[38;5;129;01mis\u001B[39;00m \u001B[38;5;28;01mNone\u001B[39;00m:\n",
      "File \u001B[1;32mC:\\anaconda3\\Lib\\site-packages\\urllib3\\response.py:533\u001B[0m, in \u001B[0;36mHTTPResponse._fp_read\u001B[1;34m(self, amt)\u001B[0m\n\u001B[0;32m    531\u001B[0m \u001B[38;5;28;01melse\u001B[39;00m:\n\u001B[0;32m    532\u001B[0m     \u001B[38;5;66;03m# StringIO doesn't like amt=None\u001B[39;00m\n\u001B[1;32m--> 533\u001B[0m     \u001B[38;5;28;01mreturn\u001B[39;00m \u001B[38;5;28mself\u001B[39m\u001B[38;5;241m.\u001B[39m_fp\u001B[38;5;241m.\u001B[39mread(amt) \u001B[38;5;28;01mif\u001B[39;00m amt \u001B[38;5;129;01mis\u001B[39;00m \u001B[38;5;129;01mnot\u001B[39;00m \u001B[38;5;28;01mNone\u001B[39;00m \u001B[38;5;28;01melse\u001B[39;00m \u001B[38;5;28mself\u001B[39m\u001B[38;5;241m.\u001B[39m_fp\u001B[38;5;241m.\u001B[39mread()\n",
      "File \u001B[1;32mC:\\anaconda3\\Lib\\http\\client.py:466\u001B[0m, in \u001B[0;36mHTTPResponse.read\u001B[1;34m(self, amt)\u001B[0m\n\u001B[0;32m    465\u001B[0m     amt \u001B[38;5;241m=\u001B[39m \u001B[38;5;28mself\u001B[39m\u001B[38;5;241m.\u001B[39mlength\n\u001B[1;32m--> 466\u001B[0m s \u001B[38;5;241m=\u001B[39m \u001B[38;5;28mself\u001B[39m\u001B[38;5;241m.\u001B[39mfp\u001B[38;5;241m.\u001B[39mread(amt)\n\u001B[0;32m    467\u001B[0m \u001B[38;5;28;01mif\u001B[39;00m \u001B[38;5;129;01mnot\u001B[39;00m s \u001B[38;5;129;01mand\u001B[39;00m amt:\n\u001B[0;32m    468\u001B[0m     \u001B[38;5;66;03m# Ideally, we would raise IncompleteRead if the content-length\u001B[39;00m\n\u001B[0;32m    469\u001B[0m     \u001B[38;5;66;03m# wasn't satisfied, but it might break compatibility.\u001B[39;00m\n",
      "File \u001B[1;32mC:\\anaconda3\\Lib\\socket.py:706\u001B[0m, in \u001B[0;36mSocketIO.readinto\u001B[1;34m(self, b)\u001B[0m\n\u001B[0;32m    705\u001B[0m \u001B[38;5;28;01mtry\u001B[39;00m:\n\u001B[1;32m--> 706\u001B[0m     \u001B[38;5;28;01mreturn\u001B[39;00m \u001B[38;5;28mself\u001B[39m\u001B[38;5;241m.\u001B[39m_sock\u001B[38;5;241m.\u001B[39mrecv_into(b)\n\u001B[0;32m    707\u001B[0m \u001B[38;5;28;01mexcept\u001B[39;00m timeout:\n",
      "\u001B[1;31mTimeoutError\u001B[0m: timed out",
      "\nDuring handling of the above exception, another exception occurred:\n",
      "\u001B[1;31mKeyboardInterrupt\u001B[0m                         Traceback (most recent call last)",
      "Cell \u001B[1;32mIn[45], line 1\u001B[0m\n\u001B[1;32m----> 1\u001B[0m get_city()\n",
      "Cell \u001B[1;32mIn[31], line 17\u001B[0m, in \u001B[0;36mget_city\u001B[1;34m()\u001B[0m\n\u001B[0;32m     14\u001B[0m \u001B[38;5;28;01mwhile\u001B[39;00m \u001B[38;5;28;01mTrue\u001B[39;00m:\n\u001B[0;32m     15\u001B[0m     \u001B[38;5;28;01mtry\u001B[39;00m:\n\u001B[0;32m     16\u001B[0m         \u001B[38;5;66;03m# 发送 HTTP 请求获取网页内容\u001B[39;00m\n\u001B[1;32m---> 17\u001B[0m         page\u001B[38;5;241m.\u001B[39mget(url, timeout\u001B[38;5;241m=\u001B[39mTIME_OUT)\n\u001B[0;32m     18\u001B[0m         \u001B[38;5;66;03m# 解析网页内容\u001B[39;00m\n\u001B[0;32m     19\u001B[0m         city_list \u001B[38;5;241m=\u001B[39m page\u001B[38;5;241m.\u001B[39mele(\u001B[38;5;124m'\u001B[39m\u001B[38;5;124mxpath=//div[@class=\u001B[39m\u001B[38;5;124m\"\u001B[39m\u001B[38;5;124mcitychk\u001B[39m\u001B[38;5;124m\"\u001B[39m\u001B[38;5;124m]\u001B[39m\u001B[38;5;124m'\u001B[39m)\u001B[38;5;241m.\u001B[39meles(\u001B[38;5;124m'\u001B[39m\u001B[38;5;124mxpath=//dl\u001B[39m\u001B[38;5;124m'\u001B[39m)\n",
      "File \u001B[1;32mC:\\anaconda3\\Lib\\site-packages\\DrissionPage\\_pages\\session_page.py:168\u001B[0m, in \u001B[0;36mSessionPage.get\u001B[1;34m(self, url, show_errmsg, retry, interval, timeout, **kwargs)\u001B[0m\n\u001B[0;32m    166\u001B[0m         \u001B[38;5;28mself\u001B[39m\u001B[38;5;241m.\u001B[39m_response \u001B[38;5;241m=\u001B[39m r\n\u001B[0;32m    167\u001B[0m     \u001B[38;5;28;01mreturn\u001B[39;00m \u001B[38;5;28;01mTrue\u001B[39;00m\n\u001B[1;32m--> 168\u001B[0m \u001B[38;5;28;01mreturn\u001B[39;00m \u001B[38;5;28mself\u001B[39m\u001B[38;5;241m.\u001B[39m_s_connect(\u001B[38;5;28mself\u001B[39m\u001B[38;5;241m.\u001B[39m_url, \u001B[38;5;124m'\u001B[39m\u001B[38;5;124mget\u001B[39m\u001B[38;5;124m'\u001B[39m, show_errmsg, retry, interval, \u001B[38;5;241m*\u001B[39m\u001B[38;5;241m*\u001B[39mkwargs)\n",
      "File \u001B[1;32mC:\\anaconda3\\Lib\\site-packages\\DrissionPage\\_pages\\session_page.py:269\u001B[0m, in \u001B[0;36mSessionPage._s_connect\u001B[1;34m(self, url, mode, show_errmsg, retry, interval, **kwargs)\u001B[0m\n\u001B[0;32m    259\u001B[0m \u001B[38;5;250m\u001B[39m\u001B[38;5;124;03m\"\"\"执行get或post连接\u001B[39;00m\n\u001B[0;32m    260\u001B[0m \u001B[38;5;124;03m:param url: 目标url\u001B[39;00m\n\u001B[0;32m    261\u001B[0m \u001B[38;5;124;03m:param mode: 'get' 或 'post'\u001B[39;00m\n\u001B[1;32m   (...)\u001B[0m\n\u001B[0;32m    266\u001B[0m \u001B[38;5;124;03m:return: url是否可用\u001B[39;00m\n\u001B[0;32m    267\u001B[0m \u001B[38;5;124;03m\"\"\"\u001B[39;00m\n\u001B[0;32m    268\u001B[0m retry, interval, is_file \u001B[38;5;241m=\u001B[39m \u001B[38;5;28mself\u001B[39m\u001B[38;5;241m.\u001B[39m_before_connect(url, retry, interval)\n\u001B[1;32m--> 269\u001B[0m \u001B[38;5;28mself\u001B[39m\u001B[38;5;241m.\u001B[39m_response, info \u001B[38;5;241m=\u001B[39m \u001B[38;5;28mself\u001B[39m\u001B[38;5;241m.\u001B[39m_make_response(\u001B[38;5;28mself\u001B[39m\u001B[38;5;241m.\u001B[39m_url, mode, retry, interval, show_errmsg, \u001B[38;5;241m*\u001B[39m\u001B[38;5;241m*\u001B[39mkwargs)\n\u001B[0;32m    271\u001B[0m \u001B[38;5;28;01mif\u001B[39;00m \u001B[38;5;28mself\u001B[39m\u001B[38;5;241m.\u001B[39m_response \u001B[38;5;129;01mis\u001B[39;00m \u001B[38;5;28;01mNone\u001B[39;00m:\n\u001B[0;32m    272\u001B[0m     \u001B[38;5;28mself\u001B[39m\u001B[38;5;241m.\u001B[39m_url_available \u001B[38;5;241m=\u001B[39m \u001B[38;5;28;01mFalse\u001B[39;00m\n",
      "File \u001B[1;32mC:\\anaconda3\\Lib\\site-packages\\DrissionPage\\_pages\\session_page.py:319\u001B[0m, in \u001B[0;36mSessionPage._make_response\u001B[1;34m(self, url, mode, retry, interval, show_errmsg, **kwargs)\u001B[0m\n\u001B[0;32m    317\u001B[0m \u001B[38;5;28;01mtry\u001B[39;00m:\n\u001B[0;32m    318\u001B[0m     \u001B[38;5;28;01mif\u001B[39;00m mode \u001B[38;5;241m==\u001B[39m \u001B[38;5;124m'\u001B[39m\u001B[38;5;124mget\u001B[39m\u001B[38;5;124m'\u001B[39m:\n\u001B[1;32m--> 319\u001B[0m         r \u001B[38;5;241m=\u001B[39m \u001B[38;5;28mself\u001B[39m\u001B[38;5;241m.\u001B[39msession\u001B[38;5;241m.\u001B[39mget(url, \u001B[38;5;241m*\u001B[39m\u001B[38;5;241m*\u001B[39mkwargs)\n\u001B[0;32m    320\u001B[0m     \u001B[38;5;28;01melif\u001B[39;00m mode \u001B[38;5;241m==\u001B[39m \u001B[38;5;124m'\u001B[39m\u001B[38;5;124mpost\u001B[39m\u001B[38;5;124m'\u001B[39m:\n\u001B[0;32m    321\u001B[0m         r \u001B[38;5;241m=\u001B[39m \u001B[38;5;28mself\u001B[39m\u001B[38;5;241m.\u001B[39msession\u001B[38;5;241m.\u001B[39mpost(url, \u001B[38;5;241m*\u001B[39m\u001B[38;5;241m*\u001B[39mkwargs)\n",
      "File \u001B[1;32mC:\\anaconda3\\Lib\\site-packages\\requests\\sessions.py:602\u001B[0m, in \u001B[0;36mSession.get\u001B[1;34m(self, url, **kwargs)\u001B[0m\n\u001B[0;32m    594\u001B[0m \u001B[38;5;250m\u001B[39m\u001B[38;5;124mr\u001B[39m\u001B[38;5;124;03m\"\"\"Sends a GET request. Returns :class:`Response` object.\u001B[39;00m\n\u001B[0;32m    595\u001B[0m \n\u001B[0;32m    596\u001B[0m \u001B[38;5;124;03m:param url: URL for the new :class:`Request` object.\u001B[39;00m\n\u001B[0;32m    597\u001B[0m \u001B[38;5;124;03m:param \\*\\*kwargs: Optional arguments that ``request`` takes.\u001B[39;00m\n\u001B[0;32m    598\u001B[0m \u001B[38;5;124;03m:rtype: requests.Response\u001B[39;00m\n\u001B[0;32m    599\u001B[0m \u001B[38;5;124;03m\"\"\"\u001B[39;00m\n\u001B[0;32m    601\u001B[0m kwargs\u001B[38;5;241m.\u001B[39msetdefault(\u001B[38;5;124m\"\u001B[39m\u001B[38;5;124mallow_redirects\u001B[39m\u001B[38;5;124m\"\u001B[39m, \u001B[38;5;28;01mTrue\u001B[39;00m)\n\u001B[1;32m--> 602\u001B[0m \u001B[38;5;28;01mreturn\u001B[39;00m \u001B[38;5;28mself\u001B[39m\u001B[38;5;241m.\u001B[39mrequest(\u001B[38;5;124m\"\u001B[39m\u001B[38;5;124mGET\u001B[39m\u001B[38;5;124m\"\u001B[39m, url, \u001B[38;5;241m*\u001B[39m\u001B[38;5;241m*\u001B[39mkwargs)\n",
      "File \u001B[1;32mC:\\anaconda3\\Lib\\site-packages\\requests\\sessions.py:589\u001B[0m, in \u001B[0;36mSession.request\u001B[1;34m(self, method, url, params, data, headers, cookies, files, auth, timeout, allow_redirects, proxies, hooks, stream, verify, cert, json)\u001B[0m\n\u001B[0;32m    584\u001B[0m send_kwargs \u001B[38;5;241m=\u001B[39m {\n\u001B[0;32m    585\u001B[0m     \u001B[38;5;124m\"\u001B[39m\u001B[38;5;124mtimeout\u001B[39m\u001B[38;5;124m\"\u001B[39m: timeout,\n\u001B[0;32m    586\u001B[0m     \u001B[38;5;124m\"\u001B[39m\u001B[38;5;124mallow_redirects\u001B[39m\u001B[38;5;124m\"\u001B[39m: allow_redirects,\n\u001B[0;32m    587\u001B[0m }\n\u001B[0;32m    588\u001B[0m send_kwargs\u001B[38;5;241m.\u001B[39mupdate(settings)\n\u001B[1;32m--> 589\u001B[0m resp \u001B[38;5;241m=\u001B[39m \u001B[38;5;28mself\u001B[39m\u001B[38;5;241m.\u001B[39msend(prep, \u001B[38;5;241m*\u001B[39m\u001B[38;5;241m*\u001B[39msend_kwargs)\n\u001B[0;32m    591\u001B[0m \u001B[38;5;28;01mreturn\u001B[39;00m resp\n",
      "File \u001B[1;32mC:\\anaconda3\\Lib\\site-packages\\requests\\sessions.py:747\u001B[0m, in \u001B[0;36mSession.send\u001B[1;34m(self, request, **kwargs)\u001B[0m\n\u001B[0;32m    744\u001B[0m         \u001B[38;5;28;01mpass\u001B[39;00m\n\u001B[0;32m    746\u001B[0m \u001B[38;5;28;01mif\u001B[39;00m \u001B[38;5;129;01mnot\u001B[39;00m stream:\n\u001B[1;32m--> 747\u001B[0m     r\u001B[38;5;241m.\u001B[39mcontent\n\u001B[0;32m    749\u001B[0m \u001B[38;5;28;01mreturn\u001B[39;00m r\n",
      "File \u001B[1;32mC:\\anaconda3\\Lib\\site-packages\\requests\\models.py:899\u001B[0m, in \u001B[0;36mResponse.content\u001B[1;34m(self)\u001B[0m\n\u001B[0;32m    897\u001B[0m         \u001B[38;5;28mself\u001B[39m\u001B[38;5;241m.\u001B[39m_content \u001B[38;5;241m=\u001B[39m \u001B[38;5;28;01mNone\u001B[39;00m\n\u001B[0;32m    898\u001B[0m     \u001B[38;5;28;01melse\u001B[39;00m:\n\u001B[1;32m--> 899\u001B[0m         \u001B[38;5;28mself\u001B[39m\u001B[38;5;241m.\u001B[39m_content \u001B[38;5;241m=\u001B[39m \u001B[38;5;124mb\u001B[39m\u001B[38;5;124m\"\u001B[39m\u001B[38;5;124m\"\u001B[39m\u001B[38;5;241m.\u001B[39mjoin(\u001B[38;5;28mself\u001B[39m\u001B[38;5;241m.\u001B[39miter_content(CONTENT_CHUNK_SIZE)) \u001B[38;5;129;01mor\u001B[39;00m \u001B[38;5;124mb\u001B[39m\u001B[38;5;124m\"\u001B[39m\u001B[38;5;124m\"\u001B[39m\n\u001B[0;32m    901\u001B[0m \u001B[38;5;28mself\u001B[39m\u001B[38;5;241m.\u001B[39m_content_consumed \u001B[38;5;241m=\u001B[39m \u001B[38;5;28;01mTrue\u001B[39;00m\n\u001B[0;32m    902\u001B[0m \u001B[38;5;66;03m# don't need to release the connection; that's been handled by urllib3\u001B[39;00m\n\u001B[0;32m    903\u001B[0m \u001B[38;5;66;03m# since we exhausted the data.\u001B[39;00m\n",
      "File \u001B[1;32mC:\\anaconda3\\Lib\\site-packages\\requests\\models.py:816\u001B[0m, in \u001B[0;36mResponse.iter_content.<locals>.generate\u001B[1;34m()\u001B[0m\n\u001B[0;32m    814\u001B[0m \u001B[38;5;28;01mif\u001B[39;00m \u001B[38;5;28mhasattr\u001B[39m(\u001B[38;5;28mself\u001B[39m\u001B[38;5;241m.\u001B[39mraw, \u001B[38;5;124m\"\u001B[39m\u001B[38;5;124mstream\u001B[39m\u001B[38;5;124m\"\u001B[39m):\n\u001B[0;32m    815\u001B[0m     \u001B[38;5;28;01mtry\u001B[39;00m:\n\u001B[1;32m--> 816\u001B[0m         \u001B[38;5;28;01myield from\u001B[39;00m \u001B[38;5;28mself\u001B[39m\u001B[38;5;241m.\u001B[39mraw\u001B[38;5;241m.\u001B[39mstream(chunk_size, decode_content\u001B[38;5;241m=\u001B[39m\u001B[38;5;28;01mTrue\u001B[39;00m)\n\u001B[0;32m    817\u001B[0m     \u001B[38;5;28;01mexcept\u001B[39;00m ProtocolError \u001B[38;5;28;01mas\u001B[39;00m e:\n\u001B[0;32m    818\u001B[0m         \u001B[38;5;28;01mraise\u001B[39;00m ChunkedEncodingError(e)\n",
      "File \u001B[1;32mC:\\anaconda3\\Lib\\site-packages\\urllib3\\response.py:628\u001B[0m, in \u001B[0;36mHTTPResponse.stream\u001B[1;34m(self, amt, decode_content)\u001B[0m\n\u001B[0;32m    626\u001B[0m \u001B[38;5;28;01melse\u001B[39;00m:\n\u001B[0;32m    627\u001B[0m     \u001B[38;5;28;01mwhile\u001B[39;00m \u001B[38;5;129;01mnot\u001B[39;00m is_fp_closed(\u001B[38;5;28mself\u001B[39m\u001B[38;5;241m.\u001B[39m_fp):\n\u001B[1;32m--> 628\u001B[0m         data \u001B[38;5;241m=\u001B[39m \u001B[38;5;28mself\u001B[39m\u001B[38;5;241m.\u001B[39mread(amt\u001B[38;5;241m=\u001B[39mamt, decode_content\u001B[38;5;241m=\u001B[39mdecode_content)\n\u001B[0;32m    630\u001B[0m         \u001B[38;5;28;01mif\u001B[39;00m data:\n\u001B[0;32m    631\u001B[0m             \u001B[38;5;28;01myield\u001B[39;00m data\n",
      "File \u001B[1;32mC:\\anaconda3\\Lib\\site-packages\\urllib3\\response.py:566\u001B[0m, in \u001B[0;36mHTTPResponse.read\u001B[1;34m(self, amt, decode_content, cache_content)\u001B[0m\n\u001B[0;32m    563\u001B[0m flush_decoder \u001B[38;5;241m=\u001B[39m \u001B[38;5;28;01mFalse\u001B[39;00m\n\u001B[0;32m    564\u001B[0m fp_closed \u001B[38;5;241m=\u001B[39m \u001B[38;5;28mgetattr\u001B[39m(\u001B[38;5;28mself\u001B[39m\u001B[38;5;241m.\u001B[39m_fp, \u001B[38;5;124m\"\u001B[39m\u001B[38;5;124mclosed\u001B[39m\u001B[38;5;124m\"\u001B[39m, \u001B[38;5;28;01mFalse\u001B[39;00m)\n\u001B[1;32m--> 566\u001B[0m \u001B[38;5;28;01mwith\u001B[39;00m \u001B[38;5;28mself\u001B[39m\u001B[38;5;241m.\u001B[39m_error_catcher():\n\u001B[0;32m    567\u001B[0m     data \u001B[38;5;241m=\u001B[39m \u001B[38;5;28mself\u001B[39m\u001B[38;5;241m.\u001B[39m_fp_read(amt) \u001B[38;5;28;01mif\u001B[39;00m \u001B[38;5;129;01mnot\u001B[39;00m fp_closed \u001B[38;5;28;01melse\u001B[39;00m \u001B[38;5;124mb\u001B[39m\u001B[38;5;124m\"\u001B[39m\u001B[38;5;124m\"\u001B[39m\n\u001B[0;32m    568\u001B[0m     \u001B[38;5;28;01mif\u001B[39;00m amt \u001B[38;5;129;01mis\u001B[39;00m \u001B[38;5;28;01mNone\u001B[39;00m:\n",
      "File \u001B[1;32mC:\\anaconda3\\Lib\\contextlib.py:141\u001B[0m, in \u001B[0;36m_GeneratorContextManager.__exit__\u001B[1;34m(self, typ, value, traceback)\u001B[0m\n\u001B[0;32m    138\u001B[0m     \u001B[38;5;28;01mexcept\u001B[39;00m \u001B[38;5;167;01mStopIteration\u001B[39;00m:\n\u001B[0;32m    139\u001B[0m         \u001B[38;5;28;01mraise\u001B[39;00m \u001B[38;5;167;01mRuntimeError\u001B[39;00m(\u001B[38;5;124m\"\u001B[39m\u001B[38;5;124mgenerator didn\u001B[39m\u001B[38;5;124m'\u001B[39m\u001B[38;5;124mt yield\u001B[39m\u001B[38;5;124m\"\u001B[39m) \u001B[38;5;28;01mfrom\u001B[39;00m \u001B[38;5;28;01mNone\u001B[39;00m\n\u001B[1;32m--> 141\u001B[0m \u001B[38;5;28;01mdef\u001B[39;00m \u001B[38;5;21m__exit__\u001B[39m(\u001B[38;5;28mself\u001B[39m, typ, value, traceback):\n\u001B[0;32m    142\u001B[0m     \u001B[38;5;28;01mif\u001B[39;00m typ \u001B[38;5;129;01mis\u001B[39;00m \u001B[38;5;28;01mNone\u001B[39;00m:\n\u001B[0;32m    143\u001B[0m         \u001B[38;5;28;01mtry\u001B[39;00m:\n",
      "\u001B[1;31mKeyboardInterrupt\u001B[0m: "
     ]
    }
   ],
   "source": [
    "get_city()"
   ],
   "metadata": {
    "collapsed": false,
    "ExecuteTime": {
     "end_time": "2024-08-09T12:16:35.607897800Z",
     "start_time": "2024-08-09T12:16:16.268495400Z"
    }
   },
   "id": "d54b2a106a141d90"
  },
  {
   "cell_type": "code",
   "execution_count": 53,
   "outputs": [
    {
     "data": {
      "text/plain": "True"
     },
     "execution_count": 53,
     "metadata": {},
     "output_type": "execute_result"
    }
   ],
   "source": [
    "url='http://www.tianqihoubao.com/lishi/'\n",
    "import DrissionPage\n",
    "page=DrissionPage.SessionPage()\n",
    "page.get(url,timeout=20)\n"
   ],
   "metadata": {
    "collapsed": false,
    "ExecuteTime": {
     "end_time": "2024-08-09T12:20:47.200242Z",
     "start_time": "2024-08-09T12:20:36.409081900Z"
    }
   },
   "id": "718ec56285aff6af"
  },
  {
   "cell_type": "code",
   "execution_count": 54,
   "outputs": [],
   "source": [
    "dl=page.ele('xpath=//div[@class=\"citychk\"]').eles('xpath=//dl')\n",
    "province_text = dl[0].ele('xpath=//dt')\n",
    "province_text.href"
   ],
   "metadata": {
    "collapsed": false,
    "ExecuteTime": {
     "end_time": "2024-08-09T12:21:07.745266700Z",
     "start_time": "2024-08-09T12:21:07.738195600Z"
    }
   },
   "id": "482711fc307bc7c8"
  },
  {
   "cell_type": "code",
   "execution_count": 55,
   "outputs": [
    {
     "name": "stdout",
     "output_type": "stream",
     "text": [
      "<!DOCTYPE html PUBLIC \"-//W3C//DTD XHTML 1.0 Transitional//EN\" \"http://www.w3.org/TR/xhtml1/DTD/xhtml1-transitional.dtd\">\r\n",
      "<html xmlns=\"http://www.w3.org/1999/xhtml\" >\r\n",
      "<head>\r\n",
      "    <title>全国历史天气查询_历史天气预报查询_温度查询_天气后报</title>\r\n",
      "    <meta name=\"Keywords\" content=\"历史天气查询,天气记录,天气后报,过去天气\" />\r\n",
      "    <meta name=\"description\" content=\"天气后报网提供全国历史天气查询、历史天气预报温度记录查询，历史天气数据包含全国各城市区县的最高温度、最低气温、天气状况、风力风向等天气指标\" />\r\n",
      "    <link href=\"css/g.css\" rel=\"stylesheet\" type=\"text/css\" media=\"all\" />\r\n",
      "</head>\r\n",
      "<body>\r\n",
      "   <div>\r\n",
      "        <div id=\"top\">\r\n",
      "            <div class=\"bd doc\">\r\n",
      "                <a href=\"http://www.tianqihoubao.com/\" class=\"home\">天气后报首页</a> | <a href=\"http://www.tianqihoubao.com/tqhb/index.aspx\"\r\n",
      "                    target=\"_blank\">客户端下载</a> |\r\n",
      "                <div class=\"r\">\r\n",
      "                    <a href=\"http://www.mingzhuxiaoshuo.com/\" target=\"_blank\">小说阅读</a> | <a onclick=\"this.style.behavior='url(#default#homepage)';this.setHomePage('http://www.tianqihoubao.com');\"\r\n",
      "                        href=\"#\" rel=\"nofollow\">设为首页</a> | <a href=\"#\" onclick=\"window.external.addFavorite('http://www.tianqihoubao.com','天气后报--历史天气查询')\"\r\n",
      "                            title=\"天气后报\">收藏本站</a>\r\n",
      "                </div>\r\n",
      "            </div>\r\n",
      "        </div>\r\n",
      "        <!--导航 begin-->\r\n",
      "        <div class=\"nav_mod\">\r\n",
      "            <ul>\r\n",
      "                <li><a href=\"http://www.tianqihoubao.com\">首页</a></li>\r\n",
      "                <li><a class=\"current\" href=\"/lishi/\">历史天气</a></li>\r\n",
      "                <li><a href=\"/guoji/\" title=\"国际历史天气查询\">国际天气</a></li>\r\n",
      "                <li><a href=\"/yubao/\">天气预报</a></li>\r\n",
      "                <li><a href=\"/aqi/\" title=\"AQI-PM2.5查询\">空气质量</a></li>\r\n",
      "                <li><a href=\"/news/\" title=\"天气新闻\">天气新闻</a></li>\r\n",
      "                <li><a href=\"/tqhb/index.aspx\" target=\"_blank\" title=\"历史天气查询软件\">天气后报</a></li>\r\n",
      "                <li><a href=\"/qihou/\">气候信息</a></li>\r\n",
      "            </ul>\r\n",
      "            <span class=\"n_r\"></span>\r\n",
      "        </div>\r\n",
      "        <!--导航 end-->\r\n",
      "        <div id=\"mnav\" class=\"doc\">\r\n",
      "            <div class=\"hd\">\r\n",
      "                <a href=\"http://www.tianqihoubao.com/\">天气后报</a> &gt; <a href=\"/lishi/\">历史天气查询</a></div>\r\n",
      "            <div class=\"bd\">\r\n",
      "            </div>\r\n",
      "        </div>\r\n",
      "        <div class=\"doc\">\r\n",
      "\r\n",
      "           <script type=\"text/javascript\" src=\"http://www.tianqihoubao.com/AD/lishi_960_90.js\"></script>\r\n",
      "\r\n",
      "        </div>\r\n",
      "        <div style=\"height: 5px\">\r\n",
      "        </div>\r\n",
      "        <div style=\"height: 5px\">\r\n",
      "        </div>\r\n",
      "        <div id=\"bd\" class=\"doc\">\r\n",
      "            <div class=\"hd\">\r\n",
      "                <div id=\"content\" class=\"wdetail\">\r\n",
      "                    <h1>全国历史天气查询</h1>\r\n",
      "                    <!-- Baidu Button BEGIN -->\n",
      "<div id=\"bdshare\" class=\"bdshare_t bds_tools get-codes-bdshare\">\n",
      "<a class=\"bds_tsina\"></a>\n",
      "<a class=\"bds_qzone\"></a>\n",
      "<a class=\"bds_tqq\"></a>\n",
      "<a class=\"bds_renren\"></a>\n",
      "<a class=\"bds_t163\"></a>\n",
      "<a class=\"bds_tqf\"></a>\n",
      "<a class=\"bds_qq\"></a>\n",
      "<a class=\"bds_douban\"></a>\n",
      "<a class=\"bds_tieba\"></a>\n",
      "<a class=\"bds_mail\"></a>\n",
      "<a class=\"bds_copy\"></a>\n",
      "<span class=\"bds_more\">更多</span>\n",
      "<a class=\"shareCount\"></a>\n",
      "</div>\n",
      "<!-- Baidu Button END -->\r\n",
      "                    <div  style=\"height:40px;line-height:40px;vertical-align:bottom;float:right;\"><form action=\"http://so.tianqihoubao.com/cse/search\" target=\"_blank\">\r\n",
      "    <input type=\"hidden\" name=\"s\" value=\"10942951411346134189\">\r\n",
      "    <input type=\"text\" name=\"q\">\r\n",
      "    <input type=\"submit\" value=\"搜索\">\r\n",
      "</form>            </div>\r\n",
      "                    <div class=\"citychk\">\r\n",
      "                        <dl><dt><a href=\"/lishi/bj.htm\" title=\"北京历史天气预报\"><b>北京</b></a></dt><dd><a href=\"/lishi/beijing.html\" title=\"北京历史天气查询\">北京 </a>  </dd></dl><dl><dt><a href=\"/lishi/tj.htm\" title=\"天津历史天气预报\"><b>天津</b></a></dt><dd><a href=\"/lishi/tianjin.html\" title=\"天津历史天气查询\">天津 </a>  </dd></dl><dl><dt><a href=\"/lishi/hebei.htm\" title=\"河北历史天气预报\"><b>河北</b></a></dt><dd><a href=\"/lishi/shijiazhuang.html\" title=\"石家庄历史天气查询\">石家庄 </a>  <a href=\"/lishi/tangshan.html\" title=\"唐山历史天气查询\">唐山 </a>  <a href=\"/lishi/qinhuangdao.html\" title=\"秦皇岛历史天气查询\">秦皇岛 </a>  <a href=\"/lishi/handan.html\" title=\"邯郸历史天气查询\">邯郸 </a>  <a href=\"/lishi/xingtai.html\" title=\"邢台历史天气查询\">邢台 </a>  <a href=\"/lishi/baoding.html\" title=\"保定历史天气查询\">保定 </a>  <a href=\"/lishi/zhangjiakou.html\" title=\"张家口历史天气查询\">张家口 </a>  <a href=\"/lishi/chengde.html\" title=\"承德历史天气查询\">承德 </a>  <a href=\"/lishi/cangzhou.html\" title=\"沧州历史天气查询\">沧州 </a>  <a href=\"/lishi/langfang.html\" title=\"廊坊历史天气查询\">廊坊 </a>  <a href=\"/lishi/hengshui.html\" title=\"衡水历史天气查询\">衡水 </a>  <wbr></dd></dl><dl><dt><a href=\"/lishi/shanxi.htm\" title=\"山西历史天气预报\"><b>山西</b></a></dt><dd><a href=\"/lishi/taiyuan.html\" title=\"太原历史天气查询\">太原 </a>  <a href=\"/lishi/datong.html\" title=\"大同历史天气查询\">大同 </a>  <a href=\"/lishi/yangquan.html\" title=\"阳泉历史天气查询\">阳泉 </a>  <a href=\"/lishi/changzhi.html\" title=\"长治历史天气查询\">长治 </a>  <a href=\"/lishi/jincheng.html\" title=\"晋城历史天气查询\">晋城 </a>  <a href=\"/lishi/shuozhou.html\" title=\"朔州历史天气查询\">朔州 </a>  <a href=\"/lishi/jinzhong.html\" title=\"晋中历史天气查询\">晋中 </a>  <a href=\"/lishi/sxyuncheng.html\" title=\"运城历史天气查询\">运城 </a>  <a href=\"/lishi/xinzhou.html\" title=\"忻州历史天气查询\">忻州 </a>  <a href=\"/lishi/linfen.html\" title=\"临汾历史天气查询\">临汾 </a>  <a href=\"/lishi/lvliang.html\" title=\"吕梁历史天气查询\">吕梁 </a>  <wbr></dd></dl><dl><dt><a href=\"/lishi/neimenggu.htm\" title=\"内蒙古历史天气预报\"><b>内蒙古</b></a></dt><dd><a href=\"/lishi/huhehaote.html\" title=\"呼和浩特历史天气查询\">呼和浩特 </a>  <a href=\"/lishi/baotou.html\" title=\"包头历史天气查询\">包头 </a>  <a href=\"/lishi/wuhai.html\" title=\"乌海历史天气查询\">乌海 </a>  <a href=\"/lishi/chifeng.html\" title=\"赤峰历史天气查询\">赤峰 </a>  <a href=\"/lishi/tongliao.html\" title=\"通辽历史天气查询\">通辽 </a>  <a href=\"/lishi/eerduosi.html\" title=\"鄂尔多斯历史天气查询\">鄂尔多斯 </a>  <a href=\"/lishi/hulunbeier.html\" title=\"呼伦贝尔历史天气查询\">呼伦贝尔 </a>  <a href=\"/lishi/bayannaoer.html\" title=\"巴彦淖尔历史天气查询\">巴彦淖尔 </a>  <a href=\"/lishi/wulanchabu.html\" title=\"乌兰察布历史天气查询\">乌兰察布 </a>  <a href=\"/lishi/xinganmeng.html\" title=\"兴安盟历史天气查询\">兴安盟 </a>  <a href=\"/lishi/xilinguole.html\" title=\"锡林郭勒历史天气查询\">锡林郭勒 </a>  <wbr><a href=\"/lishi/alashanmeng.html\" title=\"阿拉善盟历史天气查询\">阿拉善盟 </a>  </dd></dl><dl><dt><a href=\"/lishi/ln.htm\" title=\"辽宁历史天气预报\"><b>辽宁</b></a></dt><dd><a href=\"/lishi/shenyang.html\" title=\"沈阳历史天气查询\">沈阳 </a>  <a href=\"/lishi/dalian.html\" title=\"大连历史天气查询\">大连 </a>  <a href=\"/lishi/anshan.html\" title=\"鞍山历史天气查询\">鞍山 </a>  <a href=\"/lishi/fushun.html\" title=\"抚顺历史天气查询\">抚顺 </a>  <a href=\"/lishi/benxi.html\" title=\"本溪历史天气查询\">本溪 </a>  <a href=\"/lishi/dandong.html\" title=\"丹东历史天气查询\">丹东 </a>  <a href=\"/lishi/jinzhou.html\" title=\"锦州历史天气查询\">锦州 </a>  <a href=\"/lishi/yingkou.html\" title=\"营口历史天气查询\">营口 </a>  <a href=\"/lishi/fuxin.html\" title=\"阜新历史天气查询\">阜新 </a>  <a href=\"/lishi/liaoyang.html\" title=\"辽阳历史天气查询\">辽阳 </a>  <a href=\"/lishi/panjin.html\" title=\"盘锦历史天气查询\">盘锦 </a>  <wbr><a href=\"/lishi/changtu.html\" title=\"昌图历史天气查询\">昌图 </a>  <a href=\"/lishi/chaoyang.html\" title=\"朝阳历史天气查询\">朝阳 </a>  <a href=\"/lishi/huludao.html\" title=\"葫芦岛历史天气查询\">葫芦岛 </a>  </dd></dl><dl><dt><a href=\"/lishi/jl.htm\" title=\"吉林历史天气预报\"><b>吉林</b></a></dt><dd><a href=\"/lishi/changchun.html\" title=\"长春历史天气查询\">长春 </a>  <a href=\"/lishi/jilin.html\" title=\"吉林历史天气查询\">吉林 </a>  <a href=\"/lishi/siping.html\" title=\"四平历史天气查询\">四平 </a>  <a href=\"/lishi/liaoyuan.html\" title=\"辽源历史天气查询\">辽源 </a>  <a href=\"/lishi/tonghua.html\" title=\"通化历史天气查询\">通化 </a>  <a href=\"/lishi/baishan.html\" title=\"白山历史天气查询\">白山 </a>  <a href=\"/lishi/songyuan.html\" title=\"松原历史天气查询\">松原 </a>  <a href=\"/lishi/baicheng.html\" title=\"白城历史天气查询\">白城 </a>  <a href=\"/lishi/yanbian.html\" title=\"延边历史天气查询\">延边 </a>  </dd></dl><dl><dt><a href=\"/lishi/heilongjiang.htm\" title=\"黑龙江历史天气预报\"><b>黑龙江</b></a></dt><dd><a href=\"/lishi/haerbin.html\" title=\"哈尔滨历史天气查询\">哈尔滨 </a>  <a href=\"/lishi/qiqihaer.html\" title=\"齐齐哈尔历史天气查询\">齐齐哈尔 </a>  <a href=\"/lishi/jixi.html\" title=\"鸡西历史天气查询\">鸡西 </a>  <a href=\"/lishi/hegang.html\" title=\"鹤岗历史天气查询\">鹤岗 </a>  <a href=\"/lishi/shuangyashan.html\" title=\"双鸭山历史天气查询\">双鸭山 </a>  <a href=\"/lishi/daqing.html\" title=\"大庆历史天气查询\">大庆 </a>  <a href=\"/lishi/yichun.html\" title=\"伊春历史天气查询\">伊春 </a>  <a href=\"/lishi/jiamusi.html\" title=\"佳木斯历史天气查询\">佳木斯 </a>  <a href=\"/lishi/qitaihe.html\" title=\"七台河历史天气查询\">七台河 </a>  <a href=\"/lishi/mudanjiang.html\" title=\"牡丹江历史天气查询\">牡丹江 </a>  <a href=\"/lishi/heihe.html\" title=\"黑河历史天气查询\">黑河 </a>  <wbr><a href=\"/lishi/suihua.html\" title=\"绥化历史天气查询\">绥化 </a>  <a href=\"/lishi/daxinganling.html\" title=\"大兴安岭历史天气查询\">大兴安岭 </a>  </dd></dl><dl><dt><a href=\"/lishi/sh.htm\" title=\"上海历史天气预报\"><b>上海</b></a></dt><dd><a href=\"/lishi/shanghai.html\" title=\"上海历史天气查询\">上海 </a>  </dd></dl><dl><dt><a href=\"/lishi/jiangsu.htm\" title=\"江苏历史天气预报\"><b>江苏</b></a></dt><dd><a href=\"/lishi/nanjing.html\" title=\"南京历史天气查询\">南京 </a>  <a href=\"/lishi/wuxi.html\" title=\"无锡历史天气查询\">无锡 </a>  <a href=\"/lishi/xuzhou.html\" title=\"徐州历史天气查询\">徐州 </a>  <a href=\"/lishi/changzhou.html\" title=\"常州历史天气查询\">常州 </a>  <a href=\"/lishi/suzhou.html\" title=\"苏州历史天气查询\">苏州 </a>  <a href=\"/lishi/nantong.html\" title=\"南通历史天气查询\">南通 </a>  <a href=\"/lishi/lianyungang.html\" title=\"连云港历史天气查询\">连云港 </a>  <a href=\"/lishi/huaian.html\" title=\"淮安历史天气查询\">淮安 </a>  <a href=\"/lishi/yancheng.html\" title=\"盐城历史天气查询\">盐城 </a>  <a href=\"/lishi/yangzhou.html\" title=\"扬州历史天气查询\">扬州 </a>  <a href=\"/lishi/zhenjiang.html\" title=\"镇江历史天气查询\">镇江 </a>  <wbr><a href=\"/lishi/jstaizhou.html\" title=\"泰州历史天气查询\">泰州 </a>  <a href=\"/lishi/suqian.html\" title=\"宿迁历史天气查询\">宿迁 </a>  </dd></dl><dl><dt><a href=\"/lishi/zhejiang.htm\" title=\"浙江历史天气预报\"><b>浙江</b></a></dt><dd><a href=\"/lishi/hangzhou.html\" title=\"杭州历史天气查询\">杭州 </a>  <a href=\"/lishi/ningbo.html\" title=\"宁波历史天气查询\">宁波 </a>  <a href=\"/lishi/wenzhou.html\" title=\"温州历史天气查询\">温州 </a>  <a href=\"/lishi/jiaxing.html\" title=\"嘉兴历史天气查询\">嘉兴 </a>  <a href=\"/lishi/huzhou.html\" title=\"湖州历史天气查询\">湖州 </a>  <a href=\"/lishi/shaoxing.html\" title=\"绍兴历史天气查询\">绍兴 </a>  <a href=\"/lishi/jinhua.html\" title=\"金华历史天气查询\">金华 </a>  <a href=\"/lishi/quzhou.html\" title=\"衢州历史天气查询\">衢州 </a>  <a href=\"/lishi/zhoushan.html\" title=\"舟山历史天气查询\">舟山 </a>  <a href=\"/lishi/taizhou.html\" title=\"台州历史天气查询\">台州 </a>  <a href=\"/lishi/lishui.html\" title=\"丽水历史天气查询\">丽水 </a>  <wbr></dd></dl><dl><dt><a href=\"/lishi/anhui.htm\" title=\"安徽历史天气预报\"><b>安徽</b></a></dt><dd><a href=\"/lishi/hefei.html\" title=\"合肥历史天气查询\">合肥 </a>  <a href=\"/lishi/wuhu.html\" title=\"芜湖历史天气查询\">芜湖 </a>  <a href=\"/lishi/bangbu.html\" title=\"蚌埠历史天气查询\">蚌埠 </a>  <a href=\"/lishi/huainan.html\" title=\"淮南历史天气查询\">淮南 </a>  <a href=\"/lishi/maanshan.html\" title=\"马鞍山历史天气查询\">马鞍山 </a>  <a href=\"/lishi/huaibei.html\" title=\"淮北历史天气查询\">淮北 </a>  <a href=\"/lishi/tongling.html\" title=\"铜陵历史天气查询\">铜陵 </a>  <a href=\"/lishi/anqing.html\" title=\"安庆历史天气查询\">安庆 </a>  <a href=\"/lishi/huangshan.html\" title=\"黄山历史天气查询\">黄山 </a>  <a href=\"/lishi/chuzhou.html\" title=\"滁州历史天气查询\">滁州 </a>  <a href=\"/lishi/fuyang.html\" title=\"阜阳历史天气查询\">阜阳 </a>  <wbr><a href=\"/lishi/anhuisuzhou.html\" title=\"宿州历史天气查询\">宿州 </a>  <a href=\"/lishi/chaohu.html\" title=\"巢湖历史天气查询\">巢湖 </a>  <a href=\"/lishi/liuan.html\" title=\"六安历史天气查询\">六安 </a>  <a href=\"/lishi/bozhou.html\" title=\"亳州历史天气查询\">亳州 </a>  <a href=\"/lishi/chizhou.html\" title=\"池州历史天气查询\">池州 </a>  <a href=\"/lishi/xuancheng.html\" title=\"宣城历史天气查询\">宣城 </a>  </dd></dl><dl><dt><a href=\"/lishi/fujian.htm\" title=\"福建历史天气预报\"><b>福建</b></a></dt><dd><a href=\"/lishi/fujianfuzhou.html\" title=\"福州历史天气查询\">福州 </a>  <a href=\"/lishi/xiamen.html\" title=\"厦门历史天气查询\">厦门 </a>  <a href=\"/lishi/putian.html\" title=\"莆田历史天气查询\">莆田 </a>  <a href=\"/lishi/sanming.html\" title=\"三明历史天气查询\">三明 </a>  <a href=\"/lishi/quanzhou.html\" title=\"泉州历史天气查询\">泉州 </a>  <a href=\"/lishi/zhangzhou.html\" title=\"漳州历史天气查询\">漳州 </a>  <a href=\"/lishi/nanping.html\" title=\"南平历史天气查询\">南平 </a>  <a href=\"/lishi/longyan.html\" title=\"龙岩历史天气查询\">龙岩 </a>  <a href=\"/lishi/ningde.html\" title=\"宁德历史天气查询\">宁德 </a>  </dd></dl><dl><dt><a href=\"/lishi/jiangxi.htm\" title=\"江西历史天气预报\"><b>江西</b></a></dt><dd><a href=\"/lishi/nanchang.html\" title=\"南昌历史天气查询\">南昌 </a>  <a href=\"/lishi/jingdezhen.html\" title=\"景德镇历史天气查询\">景德镇 </a>  <a href=\"/lishi/pingxiang.html\" title=\"萍乡历史天气查询\">萍乡 </a>  <a href=\"/lishi/jiujiang.html\" title=\"九江历史天气查询\">九江 </a>  <a href=\"/lishi/xinyu.html\" title=\"新余历史天气查询\">新余 </a>  <a href=\"/lishi/yingtan.html\" title=\"鹰潭历史天气查询\">鹰潭 </a>  <a href=\"/lishi/ganzhou.html\" title=\"赣州历史天气查询\">赣州 </a>  <a href=\"/lishi/jian.html\" title=\"吉安历史天气查询\">吉安 </a>  <a href=\"/lishi/jxyichun.html\" title=\"宜春历史天气查询\">宜春 </a>  <a href=\"/lishi/fuzhou.html\" title=\"抚州历史天气查询\">抚州 </a>  <a href=\"/lishi/shangrao.html\" title=\"上饶历史天气查询\">上饶 </a>  <wbr></dd></dl><dl><dt><a href=\"/lishi/shandong.htm\" title=\"山东历史天气预报\"><b>山东</b></a></dt><dd><a href=\"/lishi/jinan.html\" title=\"济南历史天气查询\">济南 </a>  <a href=\"/lishi/qingdao.html\" title=\"青岛历史天气查询\">青岛 </a>  <a href=\"/lishi/zibo.html\" title=\"淄博历史天气查询\">淄博 </a>  <a href=\"/lishi/zaozhuang.html\" title=\"枣庄历史天气查询\">枣庄 </a>  <a href=\"/lishi/dongying.html\" title=\"东营历史天气查询\">东营 </a>  <a href=\"/lishi/yantai.html\" title=\"烟台历史天气查询\">烟台 </a>  <a href=\"/lishi/weifang.html\" title=\"潍坊历史天气查询\">潍坊 </a>  <a href=\"/lishi/sdjining.html\" title=\"济宁历史天气查询\">济宁 </a>  <a href=\"/lishi/taian.html\" title=\"泰安历史天气查询\">泰安 </a>  <a href=\"/lishi/weihai.html\" title=\"威海历史天气查询\">威海 </a>  <a href=\"/lishi/rizhao.html\" title=\"日照历史天气查询\">日照 </a>  <wbr><a href=\"/lishi/laiwu.html\" title=\"莱芜历史天气查询\">莱芜 </a>  <a href=\"/lishi/linyi.html\" title=\"临沂历史天气查询\">临沂 </a>  <a href=\"/lishi/dezhou.html\" title=\"德州历史天气查询\">德州 </a>  <a href=\"/lishi/liaocheng.html\" title=\"聊城历史天气查询\">聊城 </a>  <a href=\"/lishi/binzhou.html\" title=\"滨州历史天气查询\">滨州 </a>  <a href=\"/lishi/heze.html\" title=\"菏泽历史天气查询\">菏泽 </a>  </dd></dl><dl><dt><a href=\"/lishi/henan.htm\" title=\"河南历史天气预报\"><b>河南</b></a></dt><dd><a href=\"/lishi/zhengzhou.html\" title=\"郑州历史天气查询\">郑州 </a>  <a href=\"/lishi/kaifeng.html\" title=\"开封历史天气查询\">开封 </a>  <a href=\"/lishi/lvyang.html\" title=\"洛阳历史天气查询\">洛阳 </a>  <a href=\"/lishi/pingdingshan.html\" title=\"平顶山历史天气查询\">平顶山 </a>  <a href=\"/lishi/anyang.html\" title=\"安阳历史天气查询\">安阳 </a>  <a href=\"/lishi/hebi.html\" title=\"鹤壁历史天气查询\">鹤壁 </a>  <a href=\"/lishi/xinxiang.html\" title=\"新乡历史天气查询\">新乡 </a>  <a href=\"/lishi/jiaozuo.html\" title=\"焦作历史天气查询\">焦作 </a>  <a href=\"/lishi/puyang.html\" title=\"濮阳历史天气查询\">濮阳 </a>  <a href=\"/lishi/xuchang.html\" title=\"许昌历史天气查询\">许昌 </a>  <a href=\"/lishi/luohe.html\" title=\"漯河历史天气查询\">漯河 </a>  <wbr><a href=\"/lishi/sanmenxia.html\" title=\"三门峡历史天气查询\">三门峡 </a>  <a href=\"/lishi/nanyang.html\" title=\"南阳历史天气查询\">南阳 </a>  <a href=\"/lishi/shangqiu.html\" title=\"商丘历史天气查询\">商丘 </a>  <a href=\"/lishi/xinyang.html\" title=\"信阳历史天气查询\">信阳 </a>  <a href=\"/lishi/zhoukou.html\" title=\"周口历史天气查询\">周口 </a>  <a href=\"/lishi/zhumadian.html\" title=\"驻马店历史天气查询\">驻马店 </a>  </dd></dl><dl><dt><a href=\"/lishi/hubei.htm\" title=\"湖北历史天气预报\"><b>湖北</b></a></dt><dd><a href=\"/lishi/wuhan.html\" title=\"武汉历史天气查询\">武汉 </a>  <a href=\"/lishi/huangshi.html\" title=\"黄石历史天气查询\">黄石 </a>  <a href=\"/lishi/shiyan.html\" title=\"十堰历史天气查询\">十堰 </a>  <a href=\"/lishi/yichang.html\" title=\"宜昌历史天气查询\">宜昌 </a>  <a href=\"/lishi/xiangyang.html\" title=\"襄阳历史天气查询\">襄阳 </a>  <a href=\"/lishi/ezhou.html\" title=\"鄂州历史天气查询\">鄂州 </a>  <a href=\"/lishi/jingmen.html\" title=\"荆门历史天气查询\">荆门 </a>  <a href=\"/lishi/xiaogan.html\" title=\"孝感历史天气查询\">孝感 </a>  <a href=\"/lishi/jingzhou.html\" title=\"荆州历史天气查询\">荆州 </a>  <a href=\"/lishi/huanggang.html\" title=\"黄冈历史天气查询\">黄冈 </a>  <a href=\"/lishi/xianning.html\" title=\"咸宁历史天气查询\">咸宁 </a>  <wbr><a href=\"/lishi/suizhou.html\" title=\"随州历史天气查询\">随州 </a>  <a href=\"/lishi/enshi.html\" title=\"恩施历史天气查询\">恩施 </a>  <a href=\"/lishi/xiantao.html\" title=\"仙桃历史天气查询\">仙桃 </a>  <a href=\"/lishi/qianjiang.html\" title=\"潜江历史天气查询\">潜江 </a>  <a href=\"/lishi/tianmen.html\" title=\"天门历史天气查询\">天门 </a>  <a href=\"/lishi/shennongjia.html\" title=\"神农架历史天气查询\">神农架 </a>  </dd></dl><dl><dt><a href=\"/lishi/hunan.htm\" title=\"湖南历史天气预报\"><b>湖南</b></a></dt><dd><a href=\"/lishi/changsha.html\" title=\"长沙历史天气查询\">长沙 </a>  <a href=\"/lishi/zhuzhou.html\" title=\"株洲历史天气查询\">株洲 </a>  <a href=\"/lishi/xiangtan.html\" title=\"湘潭历史天气查询\">湘潭 </a>  <a href=\"/lishi/hengyang.html\" title=\"衡阳历史天气查询\">衡阳 </a>  <a href=\"/lishi/shaoyang.html\" title=\"邵阳历史天气查询\">邵阳 </a>  <a href=\"/lishi/yueyang.html\" title=\"岳阳历史天气查询\">岳阳 </a>  <a href=\"/lishi/changde.html\" title=\"常德历史天气查询\">常德 </a>  <a href=\"/lishi/zhangjiajie.html\" title=\"张家界历史天气查询\">张家界 </a>  <a href=\"/lishi/yiyang.html\" title=\"益阳历史天气查询\">益阳 </a>  <a href=\"/lishi/chenzhou.html\" title=\"郴州历史天气查询\">郴州 </a>  <a href=\"/lishi/yongzhou.html\" title=\"永州历史天气查询\">永州 </a>  <wbr><a href=\"/lishi/huaihua.html\" title=\"怀化历史天气查询\">怀化 </a>  <a href=\"/lishi/loudi.html\" title=\"娄底历史天气查询\">娄底 </a>  <a href=\"/lishi/xiangxi.html\" title=\"湘西历史天气查询\">湘西 </a>  </dd></dl><dl><dt><a href=\"/lishi/guangdong.htm\" title=\"广东历史天气预报\"><b>广东</b></a></dt><dd><a href=\"/lishi/guangzhou.html\" title=\"广州历史天气查询\">广州 </a>  <a href=\"/lishi/shaoguan.html\" title=\"韶关历史天气查询\">韶关 </a>  <a href=\"/lishi/shenzhen.html\" title=\"深圳历史天气查询\">深圳 </a>  <a href=\"/lishi/zhuhai.html\" title=\"珠海历史天气查询\">珠海 </a>  <a href=\"/lishi/shantou.html\" title=\"汕头历史天气查询\">汕头 </a>  <a href=\"/lishi/foshan.html\" title=\"佛山历史天气查询\">佛山 </a>  <a href=\"/lishi/jiangmen.html\" title=\"江门历史天气查询\">江门 </a>  <a href=\"/lishi/zhanjiang.html\" title=\"湛江历史天气查询\">湛江 </a>  <a href=\"/lishi/maoming.html\" title=\"茂名历史天气查询\">茂名 </a>  <a href=\"/lishi/zhaoqing.html\" title=\"肇庆历史天气查询\">肇庆 </a>  <a href=\"/lishi/huizhou.html\" title=\"惠州历史天气查询\">惠州 </a>  <wbr><a href=\"/lishi/meizhou.html\" title=\"梅州历史天气查询\">梅州 </a>  <a href=\"/lishi/shanwei.html\" title=\"汕尾历史天气查询\">汕尾 </a>  <a href=\"/lishi/heyuan.html\" title=\"河源历史天气查询\">河源 </a>  <a href=\"/lishi/yangjiang.html\" title=\"阳江历史天气查询\">阳江 </a>  <a href=\"/lishi/gdqingyuan.html\" title=\"清远历史天气查询\">清远 </a>  <a href=\"/lishi/dongguang.html\" title=\"东莞历史天气查询\">东莞 </a>  <a href=\"/lishi/zhongshan.html\" title=\"中山历史天气查询\">中山 </a>  <a href=\"/lishi/chaozhou.html\" title=\"潮州历史天气查询\">潮州 </a>  <a href=\"/lishi/jieyang.html\" title=\"揭阳历史天气查询\">揭阳 </a>  <a href=\"/lishi/yunfu.html\" title=\"云浮历史天气查询\">云浮 </a>  </dd></dl><dl><dt><a href=\"/lishi/guangxi.htm\" title=\"广西历史天气预报\"><b>广西</b></a></dt><dd><a href=\"/lishi/nanning.html\" title=\"南宁历史天气查询\">南宁 </a>  <a href=\"/lishi/liuzhou.html\" title=\"柳州历史天气查询\">柳州 </a>  <a href=\"/lishi/guilin.html\" title=\"桂林历史天气查询\">桂林 </a>  <a href=\"/lishi/wuzhou.html\" title=\"梧州历史天气查询\">梧州 </a>  <a href=\"/lishi/beihai.html\" title=\"北海历史天气查询\">北海 </a>  <a href=\"/lishi/fangchenggang.html\" title=\"防城港历史天气查询\">防城港 </a>  <a href=\"/lishi/gxqinzhou.html\" title=\"钦州历史天气查询\">钦州 </a>  <a href=\"/lishi/guigang.html\" title=\"贵港历史天气查询\">贵港 </a>  <a href=\"/lishi/guangxiyulin.html\" title=\"玉林历史天气查询\">玉林 </a>  <a href=\"/lishi/baise.html\" title=\"百色历史天气查询\">百色 </a>  <a href=\"/lishi/hezhou.html\" title=\"贺州历史天气查询\">贺州 </a>  <wbr><a href=\"/lishi/hechi.html\" title=\"河池历史天气查询\">河池 </a>  <a href=\"/lishi/laibin.html\" title=\"来宾历史天气查询\">来宾 </a>  <a href=\"/lishi/chongzuo.html\" title=\"崇左历史天气查询\">崇左 </a>  </dd></dl><dl><dt><a href=\"/lishi/hainan.htm\" title=\"海南历史天气预报\"><b>海南</b></a></dt><dd><a href=\"/lishi/haikou.html\" title=\"海口历史天气查询\">海口 </a>  <a href=\"/lishi/sanya.html\" title=\"三亚历史天气查询\">三亚 </a>  <a href=\"/lishi/wuzhishan.html\" title=\"五指山历史天气查询\">五指山 </a>  <a href=\"/lishi/qionghai.html\" title=\"琼海历史天气查询\">琼海 </a>  <a href=\"/lishi/danzhou.html\" title=\"儋州历史天气查询\">儋州 </a>  <a href=\"/lishi/wenchang.html\" title=\"文昌历史天气查询\">文昌 </a>  <a href=\"/lishi/wanning.html\" title=\"万宁历史天气查询\">万宁 </a>  <a href=\"/lishi/dongfang.html\" title=\"东方历史天气查询\">东方 </a>  <a href=\"/lishi/dingan.html\" title=\"定安历史天气查询\">定安 </a>  <a href=\"/lishi/tunchang.html\" title=\"屯昌历史天气查询\">屯昌 </a>  <a href=\"/lishi/chengmai.html\" title=\"澄迈历史天气查询\">澄迈 </a>  <wbr><a href=\"/lishi/lingao.html\" title=\"临高历史天气查询\">临高 </a>  <a href=\"/lishi/baisha.html\" title=\"白沙历史天气查询\">白沙 </a>  <a href=\"/lishi/changjiang.html\" title=\"昌江历史天气查询\">昌江 </a>  <a href=\"/lishi/lingshui.html\" title=\"陵水历史天气查询\">陵水 </a>  <a href=\"/lishi/xishaqundao.html\" title=\"西沙群岛历史天气查询\">西沙群岛 </a>  <a href=\"/lishi/nanshaqundao.html\" title=\"南沙群岛历史天气查询\">南沙群岛 </a>  </dd></dl><dl><dt><a href=\"/lishi/cq.htm\" title=\"重庆历史天气预报\"><b>重庆</b></a></dt><dd><a href=\"/lishi/chongqing.html\" title=\"重庆历史天气查询\">重庆 </a>  </dd></dl><dl><dt><a href=\"/lishi/sichuan.htm\" title=\"四川历史天气预报\"><b>四川</b></a></dt><dd><a href=\"/lishi/chengdu.html\" title=\"成都历史天气查询\">成都 </a>  <a href=\"/lishi/zigong.html\" title=\"自贡历史天气查询\">自贡 </a>  <a href=\"/lishi/panzhihua.html\" title=\"攀枝花历史天气查询\">攀枝花 </a>  <a href=\"/lishi/luzhou.html\" title=\"泸州历史天气查询\">泸州 </a>  <a href=\"/lishi/deyang.html\" title=\"德阳历史天气查询\">德阳 </a>  <a href=\"/lishi/mianyang.html\" title=\"绵阳历史天气查询\">绵阳 </a>  <a href=\"/lishi/guangyuan.html\" title=\"广元历史天气查询\">广元 </a>  <a href=\"/lishi/scsuining.html\" title=\"遂宁历史天气查询\">遂宁 </a>  <a href=\"/lishi/neijiang.html\" title=\"内江历史天气查询\">内江 </a>  <a href=\"/lishi/leshan.html\" title=\"乐山历史天气查询\">乐山 </a>  <a href=\"/lishi/nanchong.html\" title=\"南充历史天气查询\">南充 </a>  <wbr><a href=\"/lishi/meishan.html\" title=\"眉山历史天气查询\">眉山 </a>  <a href=\"/lishi/yibin.html\" title=\"宜宾历史天气查询\">宜宾 </a>  <a href=\"/lishi/guangan.html\" title=\"广安历史天气查询\">广安 </a>  <a href=\"/lishi/dazhou.html\" title=\"达州历史天气查询\">达州 </a>  <a href=\"/lishi/yaan.html\" title=\"雅安历史天气查询\">雅安 </a>  <a href=\"/lishi/bazhong.html\" title=\"巴中历史天气查询\">巴中 </a>  <a href=\"/lishi/ziyang.html\" title=\"资阳历史天气查询\">资阳 </a>  <a href=\"/lishi/aba.html\" title=\"阿坝历史天气查询\">阿坝 </a>  <a href=\"/lishi/ganzi.html\" title=\"甘孜历史天气查询\">甘孜 </a>  <a href=\"/lishi/liangshan.html\" title=\"凉山历史天气查询\">凉山 </a>  </dd></dl><dl><dt><a href=\"/lishi/guizhou.htm\" title=\"贵州历史天气预报\"><b>贵州</b></a></dt><dd><a href=\"/lishi/guiyang.html\" title=\"贵阳历史天气查询\">贵阳 </a>  <a href=\"/lishi/liupanshui.html\" title=\"六盘水历史天气查询\">六盘水 </a>  <a href=\"/lishi/zunyi.html\" title=\"遵义历史天气查询\">遵义 </a>  <a href=\"/lishi/anshun.html\" title=\"安顺历史天气查询\">安顺 </a>  <a href=\"/lishi/tongren.html\" title=\"铜仁历史天气查询\">铜仁 </a>  <a href=\"/lishi/qianxinan.html\" title=\"黔西南历史天气查询\">黔西南 </a>  <a href=\"/lishi/bijie.html\" title=\"毕节历史天气查询\">毕节 </a>  <a href=\"/lishi/qiandongnan.html\" title=\"黔东南历史天气查询\">黔东南 </a>  <a href=\"/lishi/qiannan.html\" title=\"黔南历史天气查询\">黔南 </a>  </dd></dl><dl><dt><a href=\"/lishi/yunnan.htm\" title=\"云南历史天气预报\"><b>云南</b></a></dt><dd><a href=\"/lishi/kunming.html\" title=\"昆明历史天气查询\">昆明 </a>  <a href=\"/lishi/qujing.html\" title=\"曲靖历史天气查询\">曲靖 </a>  <a href=\"/lishi/yuxi.html\" title=\"玉溪历史天气查询\">玉溪 </a>  <a href=\"/lishi/baoshan.html\" title=\"保山历史天气查询\">保山 </a>  <a href=\"/lishi/zhaotong.html\" title=\"昭通历史天气查询\">昭通 </a>  <a href=\"/lishi/lijiang.html\" title=\"丽江历史天气查询\">丽江 </a>  <a href=\"/lishi/puer.html\" title=\"普洱历史天气查询\">普洱 </a>  <a href=\"/lishi/lincang.html\" title=\"临沧历史天气查询\">临沧 </a>  <a href=\"/lishi/chuxiong.html\" title=\"楚雄历史天气查询\">楚雄 </a>  <a href=\"/lishi/honghe.html\" title=\"红河历史天气查询\">红河 </a>  <a href=\"/lishi/wenshan.html\" title=\"文山历史天气查询\">文山 </a>  <wbr><a href=\"/lishi/xishuangbanna.html\" title=\"西双版纳历史天气查询\">西双版纳 </a>  <a href=\"/lishi/dali.html\" title=\"大理历史天气查询\">大理 </a>  <a href=\"/lishi/dehong.html\" title=\"德宏历史天气查询\">德宏 </a>  <a href=\"/lishi/nujiang.html\" title=\"怒江历史天气查询\">怒江 </a>  <a href=\"/lishi/diqing.html\" title=\"迪庆历史天气查询\">迪庆 </a>  </dd></dl><dl><dt><a href=\"/lishi/xizang.htm\" title=\"西藏历史天气预报\"><b>西藏</b></a></dt><dd><a href=\"/lishi/lasa.html\" title=\"拉萨历史天气查询\">拉萨 </a>  <a href=\"/lishi/changdu.html\" title=\"昌都历史天气查询\">昌都 </a>  <a href=\"/lishi/shannan.html\" title=\"山南历史天气查询\">山南 </a>  <a href=\"/lishi/rikaze.html\" title=\"日喀则历史天气查询\">日喀则 </a>  <a href=\"/lishi/naqu.html\" title=\"那曲历史天气查询\">那曲 </a>  <a href=\"/lishi/ali.html\" title=\"阿里历史天气查询\">阿里 </a>  <a href=\"/lishi/linzhi.html\" title=\"林芝历史天气查询\">林芝 </a>  </dd></dl><dl><dt><a href=\"/lishi/sxi.htm\" title=\"陕西历史天气预报\"><b>陕西</b></a></dt><dd><a href=\"/lishi/xian.html\" title=\"西安历史天气查询\">西安 </a>  <a href=\"/lishi/tongchuan.html\" title=\"铜川历史天气查询\">铜川 </a>  <a href=\"/lishi/baoji.html\" title=\"宝鸡历史天气查询\">宝鸡 </a>  <a href=\"/lishi/xianyang.html\" title=\"咸阳历史天气查询\">咸阳 </a>  <a href=\"/lishi/weinan.html\" title=\"渭南历史天气查询\">渭南 </a>  <a href=\"/lishi/yanan.html\" title=\"延安历史天气查询\">延安 </a>  <a href=\"/lishi/hanzhong.html\" title=\"汉中历史天气查询\">汉中 </a>  <a href=\"/lishi/yulin.html\" title=\"榆林历史天气查询\">榆林 </a>  <a href=\"/lishi/ankang.html\" title=\"安康历史天气查询\">安康 </a>  <a href=\"/lishi/shanglv.html\" title=\"商洛历史天气查询\">商洛 </a>  </dd></dl><dl><dt><a href=\"/lishi/gansu.htm\" title=\"甘肃历史天气预报\"><b>甘肃</b></a></dt><dd><a href=\"/lishi/lanzhou.html\" title=\"兰州历史天气查询\">兰州 </a>  <a href=\"/lishi/jiayuguan.html\" title=\"嘉峪关历史天气查询\">嘉峪关 </a>  <a href=\"/lishi/jinchang.html\" title=\"金昌历史天气查询\">金昌 </a>  <a href=\"/lishi/baiyin.html\" title=\"白银历史天气查询\">白银 </a>  <a href=\"/lishi/tianshui.html\" title=\"天水历史天气查询\">天水 </a>  <a href=\"/lishi/wuwei.html\" title=\"武威历史天气查询\">武威 </a>  <a href=\"/lishi/zhangye.html\" title=\"张掖历史天气查询\">张掖 </a>  <a href=\"/lishi/pingliang.html\" title=\"平凉历史天气查询\">平凉 </a>  <a href=\"/lishi/jiuquan.html\" title=\"酒泉历史天气查询\">酒泉 </a>  <a href=\"/lishi/gsqingyang.html\" title=\"庆阳历史天气查询\">庆阳 </a>  <a href=\"/lishi/dingxi.html\" title=\"定西历史天气查询\">定西 </a>  <wbr><a href=\"/lishi/longnan.html\" title=\"陇南历史天气查询\">陇南 </a>  <a href=\"/lishi/linxia.html\" title=\"临夏历史天气查询\">临夏 </a>  <a href=\"/lishi/gannan.html\" title=\"甘南历史天气查询\">甘南 </a>  </dd></dl><dl><dt><a href=\"/lishi/qinghai.htm\" title=\"青海历史天气预报\"><b>青海</b></a></dt><dd><a href=\"/lishi/xining.html\" title=\"西宁历史天气查询\">西宁 </a>  <a href=\"/lishi/haidong.html\" title=\"海东历史天气查询\">海东 </a>  <a href=\"/lishi/haibei.html\" title=\"海北历史天气查询\">海北 </a>  <a href=\"/lishi/huangnan.html\" title=\"黄南历史天气查询\">黄南 </a>  <a href=\"/lishi/hainan.html\" title=\"海南历史天气查询\">海南 </a>  <a href=\"/lishi/guolv.html\" title=\"果洛历史天气查询\">果洛 </a>  <a href=\"/lishi/yushu.html\" title=\"玉树历史天气查询\">玉树 </a>  <a href=\"/lishi/haixi.html\" title=\"海西历史天气查询\">海西 </a>  </dd></dl><dl><dt><a href=\"/lishi/ningxia.htm\" title=\"宁夏历史天气预报\"><b>宁夏</b></a></dt><dd><a href=\"/lishi/yinchuan.html\" title=\"银川历史天气查询\">银川 </a>  <a href=\"/lishi/shizuishan.html\" title=\"石嘴山历史天气查询\">石嘴山 </a>  <a href=\"/lishi/wuzhong.html\" title=\"吴忠历史天气查询\">吴忠 </a>  <a href=\"/lishi/nxguyuan.html\" title=\"固原历史天气查询\">固原 </a>  <a href=\"/lishi/zhongwei.html\" title=\"中卫历史天气查询\">中卫 </a>  </dd></dl><dl><dt><a href=\"/lishi/xinjiang.htm\" title=\"新疆历史天气预报\"><b>新疆</b></a></dt><dd><a href=\"/lishi/wulumuqi.html\" title=\"乌鲁木齐历史天气查询\">乌鲁木齐 </a>  <a href=\"/lishi/kelamayi.html\" title=\"克拉玛依历史天气查询\">克拉玛依 </a>  <a href=\"/lishi/tulufan.html\" title=\"吐鲁番历史天气查询\">吐鲁番 </a>  <a href=\"/lishi/hami.html\" title=\"哈密历史天气查询\">哈密 </a>  <a href=\"/lishi/changji.html\" title=\"昌吉历史天气查询\">昌吉 </a>  <a href=\"/lishi/xjbozhou.html\" title=\"博州历史天气查询\">博州 </a>  <a href=\"/lishi/xjbazhou.html\" title=\"巴州历史天气查询\">巴州 </a>  <a href=\"/lishi/akesu.html\" title=\"阿克苏历史天气查询\">阿克苏 </a>  <a href=\"/lishi/kezhou.html\" title=\"克州历史天气查询\">克州 </a>  <a href=\"/lishi/kashi.html\" title=\"喀什历史天气查询\">喀什 </a>  <a href=\"/lishi/hetian.html\" title=\"和田历史天气查询\">和田 </a>  <wbr><a href=\"/lishi/yili.html\" title=\"伊犁历史天气查询\">伊犁 </a>  <a href=\"/lishi/tacheng.html\" title=\"塔城历史天气查询\">塔城 </a>  <a href=\"/lishi/aletai.html\" title=\"阿勒泰历史天气查询\">阿勒泰 </a>  <a href=\"/lishi/shihezi.html\" title=\"石河子历史天气查询\">石河子 </a>  <a href=\"/lishi/wujiaqu.html\" title=\"五家渠历史天气查询\">五家渠 </a>  </dd></dl><dl><dt><a href=\"/lishi/taiwan.htm\" title=\"台湾历史天气预报\"><b>台湾</b></a></dt><dd><a href=\"/lishi/taibei.html\" title=\"台北历史天气查询\">台北 </a>  <a href=\"/lishi/taizhong.html\" title=\"台中历史天气查询\">台中 </a>  <a href=\"/lishi/gaoxiong.html\" title=\"高雄历史天气查询\">高雄 </a>  </dd></dl><dl><dt><a href=\"/lishi/xg.htm\" title=\"香港历史天气预报\"><b>香港</b></a></dt><dd><a href=\"/lishi/xianggang.html\" title=\"香港历史天气查询\">香港 </a>  </dd></dl><dl><dt><a href=\"/lishi/am.htm\" title=\"澳门历史天气预报\"><b>澳门</b></a></dt><dd><a href=\"/lishi/aomen.html\" title=\"澳门历史天气查询\">澳门 </a>  </dd></dl>\r\n",
      "                    </div>\r\n",
      "                </div>\r\n",
      "            </div>\r\n",
      "            <div class=\"bd\">\r\n",
      "                <!--300*250 -->\r\n",
      "\r\n",
      "                <script type=\"text/javascript\" src=\"http://www.tianqihoubao.com/AD/lishi_300_250_2.js\"></script>\r\n",
      "\r\n",
      "                <div id=\"sad1\">\r\n",
      "                </div>\r\n",
      "                <div class=\"box pcity\">\r\n",
      "                    <h2>\r\n",
      "                        主要城市天气预报查询</h2>\r\n",
      "                    <ul>\r\n",
      "                        <li><a href='/yubao/beijing.html'>北京</a></li>\r\n",
      "                        <li><a href='/yubao/shanghai.html'>上海</a></li>\r\n",
      "                        <li><a href='/yubao/tianjin.html'>天津</a></li>\r\n",
      "                        <li><a href='/yubao/chongqing.html'>重庆</a></li>\r\n",
      "                        <li><a href='/yubao/haerbin.html'>哈尔滨</a></li>\r\n",
      "                        <li><a href='/yubao/changchun.html'>长春</a></li>\r\n",
      "                        <li><a href='/yubao/shenyang.html'>沈阳</a></li>\r\n",
      "                        <li><a href='/yubao/huhehaote.html'>呼和浩特</a></li>\r\n",
      "                        <li><a href='/yubao/shijiazhuang.html'>石家庄</a></li>\r\n",
      "                        <li><a href='/yubao/taiyuan.html'>太原</a></li>\r\n",
      "                        <li><a href='/yubao/xian.html'>西安</a></li>\r\n",
      "                        <li><a href='/yubao/jinan.html'>济南</a></li>\r\n",
      "                        <li><a href='/yubao/wulumuqi.html'>乌鲁木齐</a></li>\r\n",
      "                        <li><a href='/yubao/lasa.html'>拉萨</a></li>\r\n",
      "                        <li><a href='/yubao/xining.html'>西宁</a></li>\r\n",
      "                        <li><a href='/yubao/lanzhou.html'>兰州</a></li>\r\n",
      "                        <li><a href='/yubao/yinchuan.html'>银川</a></li>\r\n",
      "                        <li><a href='/yubao/zhengzhou.html'>郑州</a></li>\r\n",
      "                        <li><a href='/yubao/nanjing.html'>南京</a></li>\r\n",
      "                        <li><a href='/yubao/wuhan.html'>武汉</a></li>\r\n",
      "                        <li><a href='/yubao/hangzhou.html'>杭州</a></li>\r\n",
      "                        <li><a href='/yubao/hefei.html'>合肥</a></li>\r\n",
      "                        <li><a href='/yubao/fujianfuzhou.html'>福州</a></li>\r\n",
      "                        <li><a href='/yubao/nanchang.html'>南昌</a></li>\r\n",
      "                        <li><a href='/yubao/changsha.html'>长沙</a></li>\r\n",
      "                        <li><a href='/yubao/guiyang.html'>贵阳</a></li>\r\n",
      "                        <li><a href='/yubao/chengdu.html'>成都</a></li>\r\n",
      "                        <li><a href='/yubao/guangzhou.html'>广州</a></li>\r\n",
      "                        <li><a href='/yubao/kunming.html'>昆明</a></li>\r\n",
      "                        <li><a href='/yubao/nanning.html'>南宁</a></li>\r\n",
      "                        <li><a href='/yubao/haikou.html'>海口</a></li>\r\n",
      "                        <li><a href='/yubao/taibei.html'>台北</a></li>\r\n",
      "                    </ul>\r\n",
      "                </div>\r\n",
      "                <div id=\"sad2\">\r\n",
      "                </div>\r\n",
      "        <div class=\"box news\">\r\n",
      "            <h3>天气新闻</h3>\r\n",
      "            <ul><li><a href='/news/676.html' target='_blank'>合肥梅雨季节_2016年合肥梅雨季节是什么时候?</a></li><li><a href='/news/675.html' target='_blank'>苏州梅雨季节_2016年苏州梅雨季节是什么时候?</a></li><li><a href='/news/674.html' target='_blank'>上海梅雨季节_2016年上海梅雨季节是什么时候</a></li><li><a href='/news/673.html' target='_blank'>南京梅雨季节时间_2016年南京梅雨季节是什么时候?</a></li><li><a href='/news/672.html' target='_blank'>杭州梅雨季节_2016年杭州梅雨季节是什么时候?</a></li><li><a href='/news/671.html' target='_blank'>2016年梅雨季节是什么时候？</a></li><li><a href='/news/670.html' target='_blank'>澳门澳门高考天气_2016澳门高考天气预报</a></li><li><a href='/news/669.html' target='_blank'>香港香港高考天气_2016香港高考天气预报</a></li><li><a href='/news/668.html' target='_blank'>台湾高雄高考天气_2016高雄高考天气预报</a></li><li><a href='/news/667.html' target='_blank'>新疆五家渠高考天气_2016五家渠高考天气预报</a></li></ul>\r\n",
      "        </div>\r\n",
      "        <div style=\"height:5px\"></div>\r\n",
      "<script type=\"text/javascript\" src=\"http://www.tianqihoubao.com/AD/tqhb_r_300_250_bd.js\"></script>\r\n",
      "<div style=\"height:15px\"></div>\r\n",
      "\t\t         <div id=\"sad3\">\r\n",
      "                            </div>\r\n",
      "<div class=\"box pcity\">\r\n",
      "                            <h2>\r\n",
      "                                主要城市空气质量指数(AQI)</h2>\r\n",
      "                            <ul>\r\n",
      "                                <li><a href='/aqi/beijing.html'>北京</a></li>\r\n",
      "                                <li><a href='/aqi/shanghai.html'>上海</a></li>\r\n",
      "                                <li><a href='/aqi/tianjin.html'>天津</a></li>\r\n",
      "                                <li><a href='/aqi/chongqing.html'>重庆</a></li>\r\n",
      "                                <li><a href='/aqi/haerbin.html'>哈尔滨</a></li>\r\n",
      "                                <li><a href='/aqi/changchun.html'>长春</a></li>\r\n",
      "                                <li><a href='/aqi/shenyang.html'>沈阳</a></li>\r\n",
      "                                <li><a href='/aqi/huhehaote.html'>呼和浩特</a></li>\r\n",
      "                                <li><a href='/aqi/shijiazhuang.html'>石家庄</a></li>\r\n",
      "                                <li><a href='/aqi/taiyuan.html'>太原</a></li>\r\n",
      "                                <li><a href='/aqi/xian.html'>西安</a></li>\r\n",
      "                                <li><a href='/aqi/jinan.html'>济南</a></li>\r\n",
      "                                <li><a href='/aqi/wulumuqi.html'>乌鲁木齐</a></li>\r\n",
      "                                <li><a href='/aqi/lasa.html'>拉萨</a></li>\r\n",
      "                                <li><a href='/aqi/xining.html'>西宁</a></li>\r\n",
      "                                <li><a href='/aqi/lanzhou.html'>兰州</a></li>\r\n",
      "                                <li><a href='/aqi/yinchuan.html'>银川</a></li>\r\n",
      "                                <li><a href='/aqi/zhengzhou.html'>郑州</a></li>\r\n",
      "                                <li><a href='/aqi/nanjing.html'>南京</a></li>\r\n",
      "                                <li><a href='/aqi/wuhan.html'>武汉</a></li>\r\n",
      "                                <li><a href='/aqi/hangzhou.html'>杭州</a></li>\r\n",
      "                                <li><a href='/aqi/hefei.html'>合肥</a></li>\r\n",
      "                                <li><a href='/aqi/fujianfuzhou.html'>福州</a></li>\r\n",
      "                                <li><a href='/aqi/nanchang.html'>南昌</a></li>\r\n",
      "                                <li><a href='/aqi/changsha.html'>长沙</a></li>\r\n",
      "                                <li><a href='/aqi/guiyang.html'>贵阳</a></li>\r\n",
      "                                <li><a href='/aqi/chengdu.html'>成都</a></li>\r\n",
      "                                <li><a href='/aqi/guangzhou.html'>广州</a></li>\r\n",
      "                                <li><a href='/aqi/kunming.html'>昆明</a></li>\r\n",
      "                                <li><a href='/aqi/nanning.html'>南宁</a></li>\r\n",
      "                                <li><a href='/aqi/shenzhen.html'>深圳</a></li>\r\n",
      "                            </ul>\r\n",
      "                        </div>\r\n",
      "                                <script type=\"text/javascript\" src=\"http://www.tianqihoubao.com/AD/lishi_300_250_1.js\"></script>\r\n",
      "\r\n",
      "                <!--<div class=\"box\">\t<h3>澳门简介</h3>\t<div class=\"con\">\t\t邮政编码：266000<br />\t\t电话区号：0532<br />\t\t<a href=\"/qingdao/detail.html\">查看详情</a>\t\t<a href=\"/qingdao/\">澳门天气</a>\t</div></div>\t\t-->\r\n",
      "            </div>\r\n",
      "        </div>\r\n",
      "        <div id=\"ftad\" class=\"doc\">\r\n",
      "        </div>\r\n",
      "        <div id=\"ft\">\r\n",
      "            <div class=\"doc\">\r\n",
      "                <p><a href=\"/lishi/\" target=\"_blank\">历史天气查询</a>|   <a href=\"/aqi/\" target=\"_blank\">空气质量查询</a>|\r\n",
      "                    <a href=\"/page/about.htm\" rel=\"nofollow\">关于我们</a> | <a href=\"/page/mianze.htm\" rel=\"nofollow\">\r\n",
      "                        免责声明</a> | <a href=\"/page/link.htm\">友情链接</a> | <a href=\"/page/sitemap.htm\">网站地图</a>\r\n",
      "                    | <a target=\"_blank\" href=\"http://wpa.qq.com/msgrd?v=3&uin=1968509554&site=qq&menu=yes\">\r\n",
      "                        <img border=\"0\" src=\"http://wpa.qq.com/pa?p=2:1968509554:41 &r=0.9811456883326173\"\r\n",
      "                            alt=\"天气后报客服\" title=\"天气后报客服\"></a> |\r\n",
      "                </p>\r\n",
      "                <p>\r\n",
      "                    Copyright 2013-2014 <a href=\"http://www.tianqihoubao.com/\">www.tianqihoubao.com</a> .\r\n",
      "                    All Rights Reserved <a href=\"http://www.miibeian.gov.cn/\" target=\"_blank\">苏ICP备12028315号-2</a>\r\n",
      "\r\n",
      "                    <script type=\"text/javascript\">var _bdhmProtocol = ((\"https:\" == document.location.protocol) ? \" https://\" : \" http://\");document.write(unescape(\"%3Cscript src='\" + _bdhmProtocol + \"hm.baidu.com/h.js%3Ff48cedd6a69101030e93d4ef60f48fd0' type='text/javascript'%3E%3C/script%3E\"));</script>\r\n",
      "\r\n",
      "                    <script language=\"javascript\" type=\"text/javascript\" src=\"http://js.users.51.la/4560568.js\"></script>\r\n",
      "\r\n",
      "                </p>\r\n",
      "            </div>\r\n",
      "        </div>\r\n",
      "        \r\n",
      " <!-- Baidu Button BEGIN -->\r\n",
      "<script type=\"text/javascript\" id=\"bdshare_js\" data=\"type=tools&amp;uid=6838124\" ></script>\n",
      "<script type=\"text/javascript\" id=\"bdshell_js\"></script>\n",
      "<script type=\"text/javascript\">\n",
      "document.getElementById(\"bdshell_js\").src = \"http://bdimg.share.baidu.com/static/js/shell_v2.js?cdnversion=\" + Math.ceil(new Date()/3600000)\n",
      "</script>\r\n",
      "<!-- Baidu Button END -->\r\n",
      "    </div>\r\n",
      "</body>\r\n",
      "</body>\r\n",
      "</html>\n"
     ]
    }
   ],
   "source": [
    "print(page.html)"
   ],
   "metadata": {
    "collapsed": false,
    "ExecuteTime": {
     "end_time": "2024-08-09T12:21:11.851761700Z",
     "start_time": "2024-08-09T12:21:11.845120900Z"
    }
   },
   "id": "3157fdba0c6d5722"
  },
  {
   "cell_type": "code",
   "execution_count": 60,
   "outputs": [],
   "source": [
    "\n",
    "# 解析网页内容\n",
    "city_list = page.ele('xpath=//div[@class=\"citychk\"]').eles('xpath=//dl')\n",
    "citydic = {}\n",
    "for dl in city_list:\n",
    "    province_text = dl.ele('xpath=//dt').text\n",
    "    dd = dl.ele('xpath=//dd').eles('xpath=//a')\n",
    "    wherelist = {}\n",
    "    for a in dd:\n",
    "            name = a.text\n",
    "            href = a.href\n",
    "            url = href.split('/')[-1].split('.')[0]\n",
    "            wherelist[name] = [url,href]\n",
    "            citydic[province_text] = wherelist"
   ],
   "metadata": {
    "collapsed": false,
    "ExecuteTime": {
     "end_time": "2024-08-09T12:23:54.804008100Z",
     "start_time": "2024-08-09T12:23:54.775101400Z"
    }
   },
   "id": "8b23331c8e3096cc"
  },
  {
   "cell_type": "code",
   "execution_count": 61,
   "outputs": [
    {
     "data": {
      "text/plain": "{'北京': {'北京': ['beijing', 'http://www.tianqihoubao.com/lishi/beijing.html']},\n '天津': {'天津': ['tianjin', 'http://www.tianqihoubao.com/lishi/tianjin.html']},\n '河北': {'石家庄': ['shijiazhuang',\n   'http://www.tianqihoubao.com/lishi/shijiazhuang.html'],\n  '唐山': ['tangshan', 'http://www.tianqihoubao.com/lishi/tangshan.html'],\n  '秦皇岛': ['qinhuangdao', 'http://www.tianqihoubao.com/lishi/qinhuangdao.html'],\n  '邯郸': ['handan', 'http://www.tianqihoubao.com/lishi/handan.html'],\n  '邢台': ['xingtai', 'http://www.tianqihoubao.com/lishi/xingtai.html'],\n  '保定': ['baoding', 'http://www.tianqihoubao.com/lishi/baoding.html'],\n  '张家口': ['zhangjiakou', 'http://www.tianqihoubao.com/lishi/zhangjiakou.html'],\n  '承德': ['chengde', 'http://www.tianqihoubao.com/lishi/chengde.html'],\n  '沧州': ['cangzhou', 'http://www.tianqihoubao.com/lishi/cangzhou.html'],\n  '廊坊': ['langfang', 'http://www.tianqihoubao.com/lishi/langfang.html'],\n  '衡水': ['hengshui', 'http://www.tianqihoubao.com/lishi/hengshui.html']},\n '山西': {'太原': ['taiyuan', 'http://www.tianqihoubao.com/lishi/taiyuan.html'],\n  '大同': ['datong', 'http://www.tianqihoubao.com/lishi/datong.html'],\n  '阳泉': ['yangquan', 'http://www.tianqihoubao.com/lishi/yangquan.html'],\n  '长治': ['changzhi', 'http://www.tianqihoubao.com/lishi/changzhi.html'],\n  '晋城': ['jincheng', 'http://www.tianqihoubao.com/lishi/jincheng.html'],\n  '朔州': ['shuozhou', 'http://www.tianqihoubao.com/lishi/shuozhou.html'],\n  '晋中': ['jinzhong', 'http://www.tianqihoubao.com/lishi/jinzhong.html'],\n  '运城': ['sxyuncheng', 'http://www.tianqihoubao.com/lishi/sxyuncheng.html'],\n  '忻州': ['xinzhou', 'http://www.tianqihoubao.com/lishi/xinzhou.html'],\n  '临汾': ['linfen', 'http://www.tianqihoubao.com/lishi/linfen.html'],\n  '吕梁': ['lvliang', 'http://www.tianqihoubao.com/lishi/lvliang.html']},\n '内蒙古': {'呼和浩特': ['huhehaote',\n   'http://www.tianqihoubao.com/lishi/huhehaote.html'],\n  '包头': ['baotou', 'http://www.tianqihoubao.com/lishi/baotou.html'],\n  '乌海': ['wuhai', 'http://www.tianqihoubao.com/lishi/wuhai.html'],\n  '赤峰': ['chifeng', 'http://www.tianqihoubao.com/lishi/chifeng.html'],\n  '通辽': ['tongliao', 'http://www.tianqihoubao.com/lishi/tongliao.html'],\n  '鄂尔多斯': ['eerduosi', 'http://www.tianqihoubao.com/lishi/eerduosi.html'],\n  '呼伦贝尔': ['hulunbeier', 'http://www.tianqihoubao.com/lishi/hulunbeier.html'],\n  '巴彦淖尔': ['bayannaoer', 'http://www.tianqihoubao.com/lishi/bayannaoer.html'],\n  '乌兰察布': ['wulanchabu', 'http://www.tianqihoubao.com/lishi/wulanchabu.html'],\n  '兴安盟': ['xinganmeng', 'http://www.tianqihoubao.com/lishi/xinganmeng.html'],\n  '锡林郭勒': ['xilinguole', 'http://www.tianqihoubao.com/lishi/xilinguole.html'],\n  '阿拉善盟': ['alashanmeng',\n   'http://www.tianqihoubao.com/lishi/alashanmeng.html']},\n '辽宁': {'沈阳': ['shenyang', 'http://www.tianqihoubao.com/lishi/shenyang.html'],\n  '大连': ['dalian', 'http://www.tianqihoubao.com/lishi/dalian.html'],\n  '鞍山': ['anshan', 'http://www.tianqihoubao.com/lishi/anshan.html'],\n  '抚顺': ['fushun', 'http://www.tianqihoubao.com/lishi/fushun.html'],\n  '本溪': ['benxi', 'http://www.tianqihoubao.com/lishi/benxi.html'],\n  '丹东': ['dandong', 'http://www.tianqihoubao.com/lishi/dandong.html'],\n  '锦州': ['jinzhou', 'http://www.tianqihoubao.com/lishi/jinzhou.html'],\n  '营口': ['yingkou', 'http://www.tianqihoubao.com/lishi/yingkou.html'],\n  '阜新': ['fuxin', 'http://www.tianqihoubao.com/lishi/fuxin.html'],\n  '辽阳': ['liaoyang', 'http://www.tianqihoubao.com/lishi/liaoyang.html'],\n  '盘锦': ['panjin', 'http://www.tianqihoubao.com/lishi/panjin.html'],\n  '昌图': ['changtu', 'http://www.tianqihoubao.com/lishi/changtu.html'],\n  '朝阳': ['chaoyang', 'http://www.tianqihoubao.com/lishi/chaoyang.html'],\n  '葫芦岛': ['huludao', 'http://www.tianqihoubao.com/lishi/huludao.html']},\n '吉林': {'长春': ['changchun',\n   'http://www.tianqihoubao.com/lishi/changchun.html'],\n  '吉林': ['jilin', 'http://www.tianqihoubao.com/lishi/jilin.html'],\n  '四平': ['siping', 'http://www.tianqihoubao.com/lishi/siping.html'],\n  '辽源': ['liaoyuan', 'http://www.tianqihoubao.com/lishi/liaoyuan.html'],\n  '通化': ['tonghua', 'http://www.tianqihoubao.com/lishi/tonghua.html'],\n  '白山': ['baishan', 'http://www.tianqihoubao.com/lishi/baishan.html'],\n  '松原': ['songyuan', 'http://www.tianqihoubao.com/lishi/songyuan.html'],\n  '白城': ['baicheng', 'http://www.tianqihoubao.com/lishi/baicheng.html'],\n  '延边': ['yanbian', 'http://www.tianqihoubao.com/lishi/yanbian.html']},\n '黑龙江': {'哈尔滨': ['haerbin', 'http://www.tianqihoubao.com/lishi/haerbin.html'],\n  '齐齐哈尔': ['qiqihaer', 'http://www.tianqihoubao.com/lishi/qiqihaer.html'],\n  '鸡西': ['jixi', 'http://www.tianqihoubao.com/lishi/jixi.html'],\n  '鹤岗': ['hegang', 'http://www.tianqihoubao.com/lishi/hegang.html'],\n  '双鸭山': ['shuangyashan',\n   'http://www.tianqihoubao.com/lishi/shuangyashan.html'],\n  '大庆': ['daqing', 'http://www.tianqihoubao.com/lishi/daqing.html'],\n  '伊春': ['yichun', 'http://www.tianqihoubao.com/lishi/yichun.html'],\n  '佳木斯': ['jiamusi', 'http://www.tianqihoubao.com/lishi/jiamusi.html'],\n  '七台河': ['qitaihe', 'http://www.tianqihoubao.com/lishi/qitaihe.html'],\n  '牡丹江': ['mudanjiang', 'http://www.tianqihoubao.com/lishi/mudanjiang.html'],\n  '黑河': ['heihe', 'http://www.tianqihoubao.com/lishi/heihe.html'],\n  '绥化': ['suihua', 'http://www.tianqihoubao.com/lishi/suihua.html'],\n  '大兴安岭': ['daxinganling',\n   'http://www.tianqihoubao.com/lishi/daxinganling.html']},\n '上海': {'上海': ['shanghai', 'http://www.tianqihoubao.com/lishi/shanghai.html']},\n '江苏': {'南京': ['nanjing', 'http://www.tianqihoubao.com/lishi/nanjing.html'],\n  '无锡': ['wuxi', 'http://www.tianqihoubao.com/lishi/wuxi.html'],\n  '徐州': ['xuzhou', 'http://www.tianqihoubao.com/lishi/xuzhou.html'],\n  '常州': ['changzhou', 'http://www.tianqihoubao.com/lishi/changzhou.html'],\n  '苏州': ['suzhou', 'http://www.tianqihoubao.com/lishi/suzhou.html'],\n  '南通': ['nantong', 'http://www.tianqihoubao.com/lishi/nantong.html'],\n  '连云港': ['lianyungang', 'http://www.tianqihoubao.com/lishi/lianyungang.html'],\n  '淮安': ['huaian', 'http://www.tianqihoubao.com/lishi/huaian.html'],\n  '盐城': ['yancheng', 'http://www.tianqihoubao.com/lishi/yancheng.html'],\n  '扬州': ['yangzhou', 'http://www.tianqihoubao.com/lishi/yangzhou.html'],\n  '镇江': ['zhenjiang', 'http://www.tianqihoubao.com/lishi/zhenjiang.html'],\n  '泰州': ['jstaizhou', 'http://www.tianqihoubao.com/lishi/jstaizhou.html'],\n  '宿迁': ['suqian', 'http://www.tianqihoubao.com/lishi/suqian.html']},\n '浙江': {'杭州': ['hangzhou', 'http://www.tianqihoubao.com/lishi/hangzhou.html'],\n  '宁波': ['ningbo', 'http://www.tianqihoubao.com/lishi/ningbo.html'],\n  '温州': ['wenzhou', 'http://www.tianqihoubao.com/lishi/wenzhou.html'],\n  '嘉兴': ['jiaxing', 'http://www.tianqihoubao.com/lishi/jiaxing.html'],\n  '湖州': ['huzhou', 'http://www.tianqihoubao.com/lishi/huzhou.html'],\n  '绍兴': ['shaoxing', 'http://www.tianqihoubao.com/lishi/shaoxing.html'],\n  '金华': ['jinhua', 'http://www.tianqihoubao.com/lishi/jinhua.html'],\n  '衢州': ['quzhou', 'http://www.tianqihoubao.com/lishi/quzhou.html'],\n  '舟山': ['zhoushan', 'http://www.tianqihoubao.com/lishi/zhoushan.html'],\n  '台州': ['taizhou', 'http://www.tianqihoubao.com/lishi/taizhou.html'],\n  '丽水': ['lishui', 'http://www.tianqihoubao.com/lishi/lishui.html']},\n '安徽': {'合肥': ['hefei', 'http://www.tianqihoubao.com/lishi/hefei.html'],\n  '芜湖': ['wuhu', 'http://www.tianqihoubao.com/lishi/wuhu.html'],\n  '蚌埠': ['bangbu', 'http://www.tianqihoubao.com/lishi/bangbu.html'],\n  '淮南': ['huainan', 'http://www.tianqihoubao.com/lishi/huainan.html'],\n  '马鞍山': ['maanshan', 'http://www.tianqihoubao.com/lishi/maanshan.html'],\n  '淮北': ['huaibei', 'http://www.tianqihoubao.com/lishi/huaibei.html'],\n  '铜陵': ['tongling', 'http://www.tianqihoubao.com/lishi/tongling.html'],\n  '安庆': ['anqing', 'http://www.tianqihoubao.com/lishi/anqing.html'],\n  '黄山': ['huangshan', 'http://www.tianqihoubao.com/lishi/huangshan.html'],\n  '滁州': ['chuzhou', 'http://www.tianqihoubao.com/lishi/chuzhou.html'],\n  '阜阳': ['fuyang', 'http://www.tianqihoubao.com/lishi/fuyang.html'],\n  '宿州': ['anhuisuzhou', 'http://www.tianqihoubao.com/lishi/anhuisuzhou.html'],\n  '巢湖': ['chaohu', 'http://www.tianqihoubao.com/lishi/chaohu.html'],\n  '六安': ['liuan', 'http://www.tianqihoubao.com/lishi/liuan.html'],\n  '亳州': ['bozhou', 'http://www.tianqihoubao.com/lishi/bozhou.html'],\n  '池州': ['chizhou', 'http://www.tianqihoubao.com/lishi/chizhou.html'],\n  '宣城': ['xuancheng', 'http://www.tianqihoubao.com/lishi/xuancheng.html']},\n '福建': {'福州': ['fujianfuzhou',\n   'http://www.tianqihoubao.com/lishi/fujianfuzhou.html'],\n  '厦门': ['xiamen', 'http://www.tianqihoubao.com/lishi/xiamen.html'],\n  '莆田': ['putian', 'http://www.tianqihoubao.com/lishi/putian.html'],\n  '三明': ['sanming', 'http://www.tianqihoubao.com/lishi/sanming.html'],\n  '泉州': ['quanzhou', 'http://www.tianqihoubao.com/lishi/quanzhou.html'],\n  '漳州': ['zhangzhou', 'http://www.tianqihoubao.com/lishi/zhangzhou.html'],\n  '南平': ['nanping', 'http://www.tianqihoubao.com/lishi/nanping.html'],\n  '龙岩': ['longyan', 'http://www.tianqihoubao.com/lishi/longyan.html'],\n  '宁德': ['ningde', 'http://www.tianqihoubao.com/lishi/ningde.html']},\n '江西': {'南昌': ['nanchang', 'http://www.tianqihoubao.com/lishi/nanchang.html'],\n  '景德镇': ['jingdezhen', 'http://www.tianqihoubao.com/lishi/jingdezhen.html'],\n  '萍乡': ['pingxiang', 'http://www.tianqihoubao.com/lishi/pingxiang.html'],\n  '九江': ['jiujiang', 'http://www.tianqihoubao.com/lishi/jiujiang.html'],\n  '新余': ['xinyu', 'http://www.tianqihoubao.com/lishi/xinyu.html'],\n  '鹰潭': ['yingtan', 'http://www.tianqihoubao.com/lishi/yingtan.html'],\n  '赣州': ['ganzhou', 'http://www.tianqihoubao.com/lishi/ganzhou.html'],\n  '吉安': ['jian', 'http://www.tianqihoubao.com/lishi/jian.html'],\n  '宜春': ['jxyichun', 'http://www.tianqihoubao.com/lishi/jxyichun.html'],\n  '抚州': ['fuzhou', 'http://www.tianqihoubao.com/lishi/fuzhou.html'],\n  '上饶': ['shangrao', 'http://www.tianqihoubao.com/lishi/shangrao.html']},\n '山东': {'济南': ['jinan', 'http://www.tianqihoubao.com/lishi/jinan.html'],\n  '青岛': ['qingdao', 'http://www.tianqihoubao.com/lishi/qingdao.html'],\n  '淄博': ['zibo', 'http://www.tianqihoubao.com/lishi/zibo.html'],\n  '枣庄': ['zaozhuang', 'http://www.tianqihoubao.com/lishi/zaozhuang.html'],\n  '东营': ['dongying', 'http://www.tianqihoubao.com/lishi/dongying.html'],\n  '烟台': ['yantai', 'http://www.tianqihoubao.com/lishi/yantai.html'],\n  '潍坊': ['weifang', 'http://www.tianqihoubao.com/lishi/weifang.html'],\n  '济宁': ['sdjining', 'http://www.tianqihoubao.com/lishi/sdjining.html'],\n  '泰安': ['taian', 'http://www.tianqihoubao.com/lishi/taian.html'],\n  '威海': ['weihai', 'http://www.tianqihoubao.com/lishi/weihai.html'],\n  '日照': ['rizhao', 'http://www.tianqihoubao.com/lishi/rizhao.html'],\n  '莱芜': ['laiwu', 'http://www.tianqihoubao.com/lishi/laiwu.html'],\n  '临沂': ['linyi', 'http://www.tianqihoubao.com/lishi/linyi.html'],\n  '德州': ['dezhou', 'http://www.tianqihoubao.com/lishi/dezhou.html'],\n  '聊城': ['liaocheng', 'http://www.tianqihoubao.com/lishi/liaocheng.html'],\n  '滨州': ['binzhou', 'http://www.tianqihoubao.com/lishi/binzhou.html'],\n  '菏泽': ['heze', 'http://www.tianqihoubao.com/lishi/heze.html']},\n '河南': {'郑州': ['zhengzhou',\n   'http://www.tianqihoubao.com/lishi/zhengzhou.html'],\n  '开封': ['kaifeng', 'http://www.tianqihoubao.com/lishi/kaifeng.html'],\n  '洛阳': ['lvyang', 'http://www.tianqihoubao.com/lishi/lvyang.html'],\n  '平顶山': ['pingdingshan',\n   'http://www.tianqihoubao.com/lishi/pingdingshan.html'],\n  '安阳': ['anyang', 'http://www.tianqihoubao.com/lishi/anyang.html'],\n  '鹤壁': ['hebi', 'http://www.tianqihoubao.com/lishi/hebi.html'],\n  '新乡': ['xinxiang', 'http://www.tianqihoubao.com/lishi/xinxiang.html'],\n  '焦作': ['jiaozuo', 'http://www.tianqihoubao.com/lishi/jiaozuo.html'],\n  '濮阳': ['puyang', 'http://www.tianqihoubao.com/lishi/puyang.html'],\n  '许昌': ['xuchang', 'http://www.tianqihoubao.com/lishi/xuchang.html'],\n  '漯河': ['luohe', 'http://www.tianqihoubao.com/lishi/luohe.html'],\n  '三门峡': ['sanmenxia', 'http://www.tianqihoubao.com/lishi/sanmenxia.html'],\n  '南阳': ['nanyang', 'http://www.tianqihoubao.com/lishi/nanyang.html'],\n  '商丘': ['shangqiu', 'http://www.tianqihoubao.com/lishi/shangqiu.html'],\n  '信阳': ['xinyang', 'http://www.tianqihoubao.com/lishi/xinyang.html'],\n  '周口': ['zhoukou', 'http://www.tianqihoubao.com/lishi/zhoukou.html'],\n  '驻马店': ['zhumadian', 'http://www.tianqihoubao.com/lishi/zhumadian.html']},\n '湖北': {'武汉': ['wuhan', 'http://www.tianqihoubao.com/lishi/wuhan.html'],\n  '黄石': ['huangshi', 'http://www.tianqihoubao.com/lishi/huangshi.html'],\n  '十堰': ['shiyan', 'http://www.tianqihoubao.com/lishi/shiyan.html'],\n  '宜昌': ['yichang', 'http://www.tianqihoubao.com/lishi/yichang.html'],\n  '襄阳': ['xiangyang', 'http://www.tianqihoubao.com/lishi/xiangyang.html'],\n  '鄂州': ['ezhou', 'http://www.tianqihoubao.com/lishi/ezhou.html'],\n  '荆门': ['jingmen', 'http://www.tianqihoubao.com/lishi/jingmen.html'],\n  '孝感': ['xiaogan', 'http://www.tianqihoubao.com/lishi/xiaogan.html'],\n  '荆州': ['jingzhou', 'http://www.tianqihoubao.com/lishi/jingzhou.html'],\n  '黄冈': ['huanggang', 'http://www.tianqihoubao.com/lishi/huanggang.html'],\n  '咸宁': ['xianning', 'http://www.tianqihoubao.com/lishi/xianning.html'],\n  '随州': ['suizhou', 'http://www.tianqihoubao.com/lishi/suizhou.html'],\n  '恩施': ['enshi', 'http://www.tianqihoubao.com/lishi/enshi.html'],\n  '仙桃': ['xiantao', 'http://www.tianqihoubao.com/lishi/xiantao.html'],\n  '潜江': ['qianjiang', 'http://www.tianqihoubao.com/lishi/qianjiang.html'],\n  '天门': ['tianmen', 'http://www.tianqihoubao.com/lishi/tianmen.html'],\n  '神农架': ['shennongjia',\n   'http://www.tianqihoubao.com/lishi/shennongjia.html']},\n '湖南': {'长沙': ['changsha', 'http://www.tianqihoubao.com/lishi/changsha.html'],\n  '株洲': ['zhuzhou', 'http://www.tianqihoubao.com/lishi/zhuzhou.html'],\n  '湘潭': ['xiangtan', 'http://www.tianqihoubao.com/lishi/xiangtan.html'],\n  '衡阳': ['hengyang', 'http://www.tianqihoubao.com/lishi/hengyang.html'],\n  '邵阳': ['shaoyang', 'http://www.tianqihoubao.com/lishi/shaoyang.html'],\n  '岳阳': ['yueyang', 'http://www.tianqihoubao.com/lishi/yueyang.html'],\n  '常德': ['changde', 'http://www.tianqihoubao.com/lishi/changde.html'],\n  '张家界': ['zhangjiajie', 'http://www.tianqihoubao.com/lishi/zhangjiajie.html'],\n  '益阳': ['yiyang', 'http://www.tianqihoubao.com/lishi/yiyang.html'],\n  '郴州': ['chenzhou', 'http://www.tianqihoubao.com/lishi/chenzhou.html'],\n  '永州': ['yongzhou', 'http://www.tianqihoubao.com/lishi/yongzhou.html'],\n  '怀化': ['huaihua', 'http://www.tianqihoubao.com/lishi/huaihua.html'],\n  '娄底': ['loudi', 'http://www.tianqihoubao.com/lishi/loudi.html'],\n  '湘西': ['xiangxi', 'http://www.tianqihoubao.com/lishi/xiangxi.html']},\n '广东': {'广州': ['guangzhou',\n   'http://www.tianqihoubao.com/lishi/guangzhou.html'],\n  '韶关': ['shaoguan', 'http://www.tianqihoubao.com/lishi/shaoguan.html'],\n  '深圳': ['shenzhen', 'http://www.tianqihoubao.com/lishi/shenzhen.html'],\n  '珠海': ['zhuhai', 'http://www.tianqihoubao.com/lishi/zhuhai.html'],\n  '汕头': ['shantou', 'http://www.tianqihoubao.com/lishi/shantou.html'],\n  '佛山': ['foshan', 'http://www.tianqihoubao.com/lishi/foshan.html'],\n  '江门': ['jiangmen', 'http://www.tianqihoubao.com/lishi/jiangmen.html'],\n  '湛江': ['zhanjiang', 'http://www.tianqihoubao.com/lishi/zhanjiang.html'],\n  '茂名': ['maoming', 'http://www.tianqihoubao.com/lishi/maoming.html'],\n  '肇庆': ['zhaoqing', 'http://www.tianqihoubao.com/lishi/zhaoqing.html'],\n  '惠州': ['huizhou', 'http://www.tianqihoubao.com/lishi/huizhou.html'],\n  '梅州': ['meizhou', 'http://www.tianqihoubao.com/lishi/meizhou.html'],\n  '汕尾': ['shanwei', 'http://www.tianqihoubao.com/lishi/shanwei.html'],\n  '河源': ['heyuan', 'http://www.tianqihoubao.com/lishi/heyuan.html'],\n  '阳江': ['yangjiang', 'http://www.tianqihoubao.com/lishi/yangjiang.html'],\n  '清远': ['gdqingyuan', 'http://www.tianqihoubao.com/lishi/gdqingyuan.html'],\n  '东莞': ['dongguang', 'http://www.tianqihoubao.com/lishi/dongguang.html'],\n  '中山': ['zhongshan', 'http://www.tianqihoubao.com/lishi/zhongshan.html'],\n  '潮州': ['chaozhou', 'http://www.tianqihoubao.com/lishi/chaozhou.html'],\n  '揭阳': ['jieyang', 'http://www.tianqihoubao.com/lishi/jieyang.html'],\n  '云浮': ['yunfu', 'http://www.tianqihoubao.com/lishi/yunfu.html']},\n '广西': {'南宁': ['nanning', 'http://www.tianqihoubao.com/lishi/nanning.html'],\n  '柳州': ['liuzhou', 'http://www.tianqihoubao.com/lishi/liuzhou.html'],\n  '桂林': ['guilin', 'http://www.tianqihoubao.com/lishi/guilin.html'],\n  '梧州': ['wuzhou', 'http://www.tianqihoubao.com/lishi/wuzhou.html'],\n  '北海': ['beihai', 'http://www.tianqihoubao.com/lishi/beihai.html'],\n  '防城港': ['fangchenggang',\n   'http://www.tianqihoubao.com/lishi/fangchenggang.html'],\n  '钦州': ['gxqinzhou', 'http://www.tianqihoubao.com/lishi/gxqinzhou.html'],\n  '贵港': ['guigang', 'http://www.tianqihoubao.com/lishi/guigang.html'],\n  '玉林': ['guangxiyulin',\n   'http://www.tianqihoubao.com/lishi/guangxiyulin.html'],\n  '百色': ['baise', 'http://www.tianqihoubao.com/lishi/baise.html'],\n  '贺州': ['hezhou', 'http://www.tianqihoubao.com/lishi/hezhou.html'],\n  '河池': ['hechi', 'http://www.tianqihoubao.com/lishi/hechi.html'],\n  '来宾': ['laibin', 'http://www.tianqihoubao.com/lishi/laibin.html'],\n  '崇左': ['chongzuo', 'http://www.tianqihoubao.com/lishi/chongzuo.html']},\n '海南': {'海口': ['haikou', 'http://www.tianqihoubao.com/lishi/haikou.html'],\n  '三亚': ['sanya', 'http://www.tianqihoubao.com/lishi/sanya.html'],\n  '五指山': ['wuzhishan', 'http://www.tianqihoubao.com/lishi/wuzhishan.html'],\n  '琼海': ['qionghai', 'http://www.tianqihoubao.com/lishi/qionghai.html'],\n  '儋州': ['danzhou', 'http://www.tianqihoubao.com/lishi/danzhou.html'],\n  '文昌': ['wenchang', 'http://www.tianqihoubao.com/lishi/wenchang.html'],\n  '万宁': ['wanning', 'http://www.tianqihoubao.com/lishi/wanning.html'],\n  '东方': ['dongfang', 'http://www.tianqihoubao.com/lishi/dongfang.html'],\n  '定安': ['dingan', 'http://www.tianqihoubao.com/lishi/dingan.html'],\n  '屯昌': ['tunchang', 'http://www.tianqihoubao.com/lishi/tunchang.html'],\n  '澄迈': ['chengmai', 'http://www.tianqihoubao.com/lishi/chengmai.html'],\n  '临高': ['lingao', 'http://www.tianqihoubao.com/lishi/lingao.html'],\n  '白沙': ['baisha', 'http://www.tianqihoubao.com/lishi/baisha.html'],\n  '昌江': ['changjiang', 'http://www.tianqihoubao.com/lishi/changjiang.html'],\n  '陵水': ['lingshui', 'http://www.tianqihoubao.com/lishi/lingshui.html'],\n  '西沙群岛': ['xishaqundao',\n   'http://www.tianqihoubao.com/lishi/xishaqundao.html'],\n  '南沙群岛': ['nanshaqundao',\n   'http://www.tianqihoubao.com/lishi/nanshaqundao.html']},\n '重庆': {'重庆': ['chongqing',\n   'http://www.tianqihoubao.com/lishi/chongqing.html']},\n '四川': {'成都': ['chengdu', 'http://www.tianqihoubao.com/lishi/chengdu.html'],\n  '自贡': ['zigong', 'http://www.tianqihoubao.com/lishi/zigong.html'],\n  '攀枝花': ['panzhihua', 'http://www.tianqihoubao.com/lishi/panzhihua.html'],\n  '泸州': ['luzhou', 'http://www.tianqihoubao.com/lishi/luzhou.html'],\n  '德阳': ['deyang', 'http://www.tianqihoubao.com/lishi/deyang.html'],\n  '绵阳': ['mianyang', 'http://www.tianqihoubao.com/lishi/mianyang.html'],\n  '广元': ['guangyuan', 'http://www.tianqihoubao.com/lishi/guangyuan.html'],\n  '遂宁': ['scsuining', 'http://www.tianqihoubao.com/lishi/scsuining.html'],\n  '内江': ['neijiang', 'http://www.tianqihoubao.com/lishi/neijiang.html'],\n  '乐山': ['leshan', 'http://www.tianqihoubao.com/lishi/leshan.html'],\n  '南充': ['nanchong', 'http://www.tianqihoubao.com/lishi/nanchong.html'],\n  '眉山': ['meishan', 'http://www.tianqihoubao.com/lishi/meishan.html'],\n  '宜宾': ['yibin', 'http://www.tianqihoubao.com/lishi/yibin.html'],\n  '广安': ['guangan', 'http://www.tianqihoubao.com/lishi/guangan.html'],\n  '达州': ['dazhou', 'http://www.tianqihoubao.com/lishi/dazhou.html'],\n  '雅安': ['yaan', 'http://www.tianqihoubao.com/lishi/yaan.html'],\n  '巴中': ['bazhong', 'http://www.tianqihoubao.com/lishi/bazhong.html'],\n  '资阳': ['ziyang', 'http://www.tianqihoubao.com/lishi/ziyang.html'],\n  '阿坝': ['aba', 'http://www.tianqihoubao.com/lishi/aba.html'],\n  '甘孜': ['ganzi', 'http://www.tianqihoubao.com/lishi/ganzi.html'],\n  '凉山': ['liangshan', 'http://www.tianqihoubao.com/lishi/liangshan.html']},\n '贵州': {'贵阳': ['guiyang', 'http://www.tianqihoubao.com/lishi/guiyang.html'],\n  '六盘水': ['liupanshui', 'http://www.tianqihoubao.com/lishi/liupanshui.html'],\n  '遵义': ['zunyi', 'http://www.tianqihoubao.com/lishi/zunyi.html'],\n  '安顺': ['anshun', 'http://www.tianqihoubao.com/lishi/anshun.html'],\n  '铜仁': ['tongren', 'http://www.tianqihoubao.com/lishi/tongren.html'],\n  '黔西南': ['qianxinan', 'http://www.tianqihoubao.com/lishi/qianxinan.html'],\n  '毕节': ['bijie', 'http://www.tianqihoubao.com/lishi/bijie.html'],\n  '黔东南': ['qiandongnan', 'http://www.tianqihoubao.com/lishi/qiandongnan.html'],\n  '黔南': ['qiannan', 'http://www.tianqihoubao.com/lishi/qiannan.html']},\n '云南': {'昆明': ['kunming', 'http://www.tianqihoubao.com/lishi/kunming.html'],\n  '曲靖': ['qujing', 'http://www.tianqihoubao.com/lishi/qujing.html'],\n  '玉溪': ['yuxi', 'http://www.tianqihoubao.com/lishi/yuxi.html'],\n  '保山': ['baoshan', 'http://www.tianqihoubao.com/lishi/baoshan.html'],\n  '昭通': ['zhaotong', 'http://www.tianqihoubao.com/lishi/zhaotong.html'],\n  '丽江': ['lijiang', 'http://www.tianqihoubao.com/lishi/lijiang.html'],\n  '普洱': ['puer', 'http://www.tianqihoubao.com/lishi/puer.html'],\n  '临沧': ['lincang', 'http://www.tianqihoubao.com/lishi/lincang.html'],\n  '楚雄': ['chuxiong', 'http://www.tianqihoubao.com/lishi/chuxiong.html'],\n  '红河': ['honghe', 'http://www.tianqihoubao.com/lishi/honghe.html'],\n  '文山': ['wenshan', 'http://www.tianqihoubao.com/lishi/wenshan.html'],\n  '西双版纳': ['xishuangbanna',\n   'http://www.tianqihoubao.com/lishi/xishuangbanna.html'],\n  '大理': ['dali', 'http://www.tianqihoubao.com/lishi/dali.html'],\n  '德宏': ['dehong', 'http://www.tianqihoubao.com/lishi/dehong.html'],\n  '怒江': ['nujiang', 'http://www.tianqihoubao.com/lishi/nujiang.html'],\n  '迪庆': ['diqing', 'http://www.tianqihoubao.com/lishi/diqing.html']},\n '西藏': {'拉萨': ['lasa', 'http://www.tianqihoubao.com/lishi/lasa.html'],\n  '昌都': ['changdu', 'http://www.tianqihoubao.com/lishi/changdu.html'],\n  '山南': ['shannan', 'http://www.tianqihoubao.com/lishi/shannan.html'],\n  '日喀则': ['rikaze', 'http://www.tianqihoubao.com/lishi/rikaze.html'],\n  '那曲': ['naqu', 'http://www.tianqihoubao.com/lishi/naqu.html'],\n  '阿里': ['ali', 'http://www.tianqihoubao.com/lishi/ali.html'],\n  '林芝': ['linzhi', 'http://www.tianqihoubao.com/lishi/linzhi.html']},\n '陕西': {'西安': ['xian', 'http://www.tianqihoubao.com/lishi/xian.html'],\n  '铜川': ['tongchuan', 'http://www.tianqihoubao.com/lishi/tongchuan.html'],\n  '宝鸡': ['baoji', 'http://www.tianqihoubao.com/lishi/baoji.html'],\n  '咸阳': ['xianyang', 'http://www.tianqihoubao.com/lishi/xianyang.html'],\n  '渭南': ['weinan', 'http://www.tianqihoubao.com/lishi/weinan.html'],\n  '延安': ['yanan', 'http://www.tianqihoubao.com/lishi/yanan.html'],\n  '汉中': ['hanzhong', 'http://www.tianqihoubao.com/lishi/hanzhong.html'],\n  '榆林': ['yulin', 'http://www.tianqihoubao.com/lishi/yulin.html'],\n  '安康': ['ankang', 'http://www.tianqihoubao.com/lishi/ankang.html'],\n  '商洛': ['shanglv', 'http://www.tianqihoubao.com/lishi/shanglv.html']},\n '甘肃': {'兰州': ['lanzhou', 'http://www.tianqihoubao.com/lishi/lanzhou.html'],\n  '嘉峪关': ['jiayuguan', 'http://www.tianqihoubao.com/lishi/jiayuguan.html'],\n  '金昌': ['jinchang', 'http://www.tianqihoubao.com/lishi/jinchang.html'],\n  '白银': ['baiyin', 'http://www.tianqihoubao.com/lishi/baiyin.html'],\n  '天水': ['tianshui', 'http://www.tianqihoubao.com/lishi/tianshui.html'],\n  '武威': ['wuwei', 'http://www.tianqihoubao.com/lishi/wuwei.html'],\n  '张掖': ['zhangye', 'http://www.tianqihoubao.com/lishi/zhangye.html'],\n  '平凉': ['pingliang', 'http://www.tianqihoubao.com/lishi/pingliang.html'],\n  '酒泉': ['jiuquan', 'http://www.tianqihoubao.com/lishi/jiuquan.html'],\n  '庆阳': ['gsqingyang', 'http://www.tianqihoubao.com/lishi/gsqingyang.html'],\n  '定西': ['dingxi', 'http://www.tianqihoubao.com/lishi/dingxi.html'],\n  '陇南': ['longnan', 'http://www.tianqihoubao.com/lishi/longnan.html'],\n  '临夏': ['linxia', 'http://www.tianqihoubao.com/lishi/linxia.html'],\n  '甘南': ['gannan', 'http://www.tianqihoubao.com/lishi/gannan.html']},\n '青海': {'西宁': ['xining', 'http://www.tianqihoubao.com/lishi/xining.html'],\n  '海东': ['haidong', 'http://www.tianqihoubao.com/lishi/haidong.html'],\n  '海北': ['haibei', 'http://www.tianqihoubao.com/lishi/haibei.html'],\n  '黄南': ['huangnan', 'http://www.tianqihoubao.com/lishi/huangnan.html'],\n  '海南': ['hainan', 'http://www.tianqihoubao.com/lishi/hainan.html'],\n  '果洛': ['guolv', 'http://www.tianqihoubao.com/lishi/guolv.html'],\n  '玉树': ['yushu', 'http://www.tianqihoubao.com/lishi/yushu.html'],\n  '海西': ['haixi', 'http://www.tianqihoubao.com/lishi/haixi.html']},\n '宁夏': {'银川': ['yinchuan', 'http://www.tianqihoubao.com/lishi/yinchuan.html'],\n  '石嘴山': ['shizuishan', 'http://www.tianqihoubao.com/lishi/shizuishan.html'],\n  '吴忠': ['wuzhong', 'http://www.tianqihoubao.com/lishi/wuzhong.html'],\n  '固原': ['nxguyuan', 'http://www.tianqihoubao.com/lishi/nxguyuan.html'],\n  '中卫': ['zhongwei', 'http://www.tianqihoubao.com/lishi/zhongwei.html']},\n '新疆': {'乌鲁木齐': ['wulumuqi',\n   'http://www.tianqihoubao.com/lishi/wulumuqi.html'],\n  '克拉玛依': ['kelamayi', 'http://www.tianqihoubao.com/lishi/kelamayi.html'],\n  '吐鲁番': ['tulufan', 'http://www.tianqihoubao.com/lishi/tulufan.html'],\n  '哈密': ['hami', 'http://www.tianqihoubao.com/lishi/hami.html'],\n  '昌吉': ['changji', 'http://www.tianqihoubao.com/lishi/changji.html'],\n  '博州': ['xjbozhou', 'http://www.tianqihoubao.com/lishi/xjbozhou.html'],\n  '巴州': ['xjbazhou', 'http://www.tianqihoubao.com/lishi/xjbazhou.html'],\n  '阿克苏': ['akesu', 'http://www.tianqihoubao.com/lishi/akesu.html'],\n  '克州': ['kezhou', 'http://www.tianqihoubao.com/lishi/kezhou.html'],\n  '喀什': ['kashi', 'http://www.tianqihoubao.com/lishi/kashi.html'],\n  '和田': ['hetian', 'http://www.tianqihoubao.com/lishi/hetian.html'],\n  '伊犁': ['yili', 'http://www.tianqihoubao.com/lishi/yili.html'],\n  '塔城': ['tacheng', 'http://www.tianqihoubao.com/lishi/tacheng.html'],\n  '阿勒泰': ['aletai', 'http://www.tianqihoubao.com/lishi/aletai.html'],\n  '石河子': ['shihezi', 'http://www.tianqihoubao.com/lishi/shihezi.html'],\n  '五家渠': ['wujiaqu', 'http://www.tianqihoubao.com/lishi/wujiaqu.html']},\n '台湾': {'台北': ['taibei', 'http://www.tianqihoubao.com/lishi/taibei.html'],\n  '台中': ['taizhong', 'http://www.tianqihoubao.com/lishi/taizhong.html'],\n  '高雄': ['gaoxiong', 'http://www.tianqihoubao.com/lishi/gaoxiong.html']},\n '香港': {'香港': ['xianggang',\n   'http://www.tianqihoubao.com/lishi/xianggang.html']},\n '澳门': {'澳门': ['aomen', 'http://www.tianqihoubao.com/lishi/aomen.html']}}"
     },
     "execution_count": 61,
     "metadata": {},
     "output_type": "execute_result"
    }
   ],
   "source": [
    "citydic"
   ],
   "metadata": {
    "collapsed": false,
    "ExecuteTime": {
     "end_time": "2024-08-09T12:23:55.770614800Z",
     "start_time": "2024-08-09T12:23:55.734539200Z"
    }
   },
   "id": "43566181f2cbfbaa"
  },
  {
   "cell_type": "code",
   "execution_count": 3,
   "outputs": [],
   "source": [
    "def get_data(city,year,month):\n",
    "    url = f'http://www.tianqihoubao.com/lishi/{city}/month/{year}{month}.html'\n",
    "    # logger.info(f'开始爬取{url}')\n",
    "    while True:\n",
    "        try:\n",
    "            page.get(url,timeout=TIME_OUT, headers={'User-Agent': get_fake_user_agent('pc')})\n",
    "            list = page.eles('xpath=//tr')\n",
    "            datarows = []\n",
    "            for li in list:\n",
    "                a = li.s_eles('tag:td')\n",
    "                l = [i.text for i in a]\n",
    "                datarows.append(l)\n",
    "            columns = datarows[0]\n",
    "            # 提取数据行（剩余的元素）\n",
    "            data_values = datarows[1:]\n",
    "            # 创建DataFrame\n",
    "            result_weather = pd.DataFrame(data_values, columns=columns)\n",
    "            return result_weather\n",
    "        except Exception as e:\n",
    "            logger.error(f'解析或数据处理错误: {e}')"
   ],
   "metadata": {
    "collapsed": false,
    "ExecuteTime": {
     "end_time": "2024-08-09T13:23:27.286346Z",
     "start_time": "2024-08-09T13:23:27.282343300Z"
    }
   },
   "id": "bbbd5542b52cd18a"
  },
  {
   "cell_type": "code",
   "execution_count": 8,
   "outputs": [],
   "source": [
    "import pandas as pd\n",
    "logging.basicConfig(level=logging.INFO)\n",
    "logger = logging.getLogger(__name__)\n",
    "page=DrissionPage.SessionPage()\n",
    "\n",
    "def get_data(city,year,month):\n",
    "    url = f'http://www.tianqihoubao.com/lishi/{city}/month/{year}{month}.html'\n",
    "    # logger.info(f'开始爬取{url}')\n",
    "    while True:\n",
    "        try:\n",
    "            page.get(url,timeout=30)\n",
    "            list = page.eles('xpath=//tr')\n",
    "            datarows = []\n",
    "            for li in list:\n",
    "                a = li.s_eles('tag:td')\n",
    "                l = [i.text for i in a]\n",
    "                datarows.append(l)\n",
    "            columns = datarows[0]\n",
    "            # 提取数据行（剩余的元素）\n",
    "            data_values = datarows[1:]\n",
    "            # 创建DataFrame\n",
    "            result_weather = pd.DataFrame(data_values, columns=columns)\n",
    "            return result_weather\n",
    "        except Exception as e:\n",
    "            logger.error(f'解析或数据处理错误: {e}')\n"
   ],
   "metadata": {
    "collapsed": false,
    "ExecuteTime": {
     "end_time": "2024-08-09T13:26:28.411806600Z",
     "start_time": "2024-08-09T13:26:28.402807600Z"
    }
   },
   "id": "a3c869381e2ae66f"
  },
  {
   "cell_type": "code",
   "execution_count": 14,
   "outputs": [
    {
     "ename": "KeyboardInterrupt",
     "evalue": "",
     "output_type": "error",
     "traceback": [
      "\u001B[1;31m---------------------------------------------------------------------------\u001B[0m",
      "\u001B[1;31mKeyboardInterrupt\u001B[0m                         Traceback (most recent call last)",
      "Cell \u001B[1;32mIn[14], line 1\u001B[0m\n\u001B[1;32m----> 1\u001B[0m data\u001B[38;5;241m=\u001B[39m get_data(\u001B[38;5;124m'\u001B[39m\u001B[38;5;124mdongfang\u001B[39m\u001B[38;5;124m'\u001B[39m,\u001B[38;5;241m2019\u001B[39m,\u001B[38;5;124m'\u001B[39m\u001B[38;5;124m01\u001B[39m\u001B[38;5;124m'\u001B[39m)\n\u001B[0;32m      2\u001B[0m data\n",
      "Cell \u001B[1;32mIn[8], line 11\u001B[0m, in \u001B[0;36mget_data\u001B[1;34m(city, year, month)\u001B[0m\n\u001B[0;32m      9\u001B[0m \u001B[38;5;28;01mwhile\u001B[39;00m \u001B[38;5;28;01mTrue\u001B[39;00m:\n\u001B[0;32m     10\u001B[0m     \u001B[38;5;28;01mtry\u001B[39;00m:\n\u001B[1;32m---> 11\u001B[0m         page\u001B[38;5;241m.\u001B[39mget(url,timeout\u001B[38;5;241m=\u001B[39m\u001B[38;5;241m30\u001B[39m)\n\u001B[0;32m     12\u001B[0m         \u001B[38;5;28mlist\u001B[39m \u001B[38;5;241m=\u001B[39m page\u001B[38;5;241m.\u001B[39meles(\u001B[38;5;124m'\u001B[39m\u001B[38;5;124mxpath=//tr\u001B[39m\u001B[38;5;124m'\u001B[39m)\n\u001B[0;32m     13\u001B[0m         datarows \u001B[38;5;241m=\u001B[39m []\n",
      "File \u001B[1;32mC:\\anaconda3\\Lib\\site-packages\\DrissionPage\\_pages\\session_page.py:168\u001B[0m, in \u001B[0;36mSessionPage.get\u001B[1;34m(self, url, show_errmsg, retry, interval, timeout, **kwargs)\u001B[0m\n\u001B[0;32m    166\u001B[0m         \u001B[38;5;28mself\u001B[39m\u001B[38;5;241m.\u001B[39m_response \u001B[38;5;241m=\u001B[39m r\n\u001B[0;32m    167\u001B[0m     \u001B[38;5;28;01mreturn\u001B[39;00m \u001B[38;5;28;01mTrue\u001B[39;00m\n\u001B[1;32m--> 168\u001B[0m \u001B[38;5;28;01mreturn\u001B[39;00m \u001B[38;5;28mself\u001B[39m\u001B[38;5;241m.\u001B[39m_s_connect(\u001B[38;5;28mself\u001B[39m\u001B[38;5;241m.\u001B[39m_url, \u001B[38;5;124m'\u001B[39m\u001B[38;5;124mget\u001B[39m\u001B[38;5;124m'\u001B[39m, show_errmsg, retry, interval, \u001B[38;5;241m*\u001B[39m\u001B[38;5;241m*\u001B[39mkwargs)\n",
      "File \u001B[1;32mC:\\anaconda3\\Lib\\site-packages\\DrissionPage\\_pages\\session_page.py:269\u001B[0m, in \u001B[0;36mSessionPage._s_connect\u001B[1;34m(self, url, mode, show_errmsg, retry, interval, **kwargs)\u001B[0m\n\u001B[0;32m    259\u001B[0m \u001B[38;5;250m\u001B[39m\u001B[38;5;124;03m\"\"\"执行get或post连接\u001B[39;00m\n\u001B[0;32m    260\u001B[0m \u001B[38;5;124;03m:param url: 目标url\u001B[39;00m\n\u001B[0;32m    261\u001B[0m \u001B[38;5;124;03m:param mode: 'get' 或 'post'\u001B[39;00m\n\u001B[1;32m   (...)\u001B[0m\n\u001B[0;32m    266\u001B[0m \u001B[38;5;124;03m:return: url是否可用\u001B[39;00m\n\u001B[0;32m    267\u001B[0m \u001B[38;5;124;03m\"\"\"\u001B[39;00m\n\u001B[0;32m    268\u001B[0m retry, interval, is_file \u001B[38;5;241m=\u001B[39m \u001B[38;5;28mself\u001B[39m\u001B[38;5;241m.\u001B[39m_before_connect(url, retry, interval)\n\u001B[1;32m--> 269\u001B[0m \u001B[38;5;28mself\u001B[39m\u001B[38;5;241m.\u001B[39m_response, info \u001B[38;5;241m=\u001B[39m \u001B[38;5;28mself\u001B[39m\u001B[38;5;241m.\u001B[39m_make_response(\u001B[38;5;28mself\u001B[39m\u001B[38;5;241m.\u001B[39m_url, mode, retry, interval, show_errmsg, \u001B[38;5;241m*\u001B[39m\u001B[38;5;241m*\u001B[39mkwargs)\n\u001B[0;32m    271\u001B[0m \u001B[38;5;28;01mif\u001B[39;00m \u001B[38;5;28mself\u001B[39m\u001B[38;5;241m.\u001B[39m_response \u001B[38;5;129;01mis\u001B[39;00m \u001B[38;5;28;01mNone\u001B[39;00m:\n\u001B[0;32m    272\u001B[0m     \u001B[38;5;28mself\u001B[39m\u001B[38;5;241m.\u001B[39m_url_available \u001B[38;5;241m=\u001B[39m \u001B[38;5;28;01mFalse\u001B[39;00m\n",
      "File \u001B[1;32mC:\\anaconda3\\Lib\\site-packages\\DrissionPage\\_pages\\session_page.py:319\u001B[0m, in \u001B[0;36mSessionPage._make_response\u001B[1;34m(self, url, mode, retry, interval, show_errmsg, **kwargs)\u001B[0m\n\u001B[0;32m    317\u001B[0m \u001B[38;5;28;01mtry\u001B[39;00m:\n\u001B[0;32m    318\u001B[0m     \u001B[38;5;28;01mif\u001B[39;00m mode \u001B[38;5;241m==\u001B[39m \u001B[38;5;124m'\u001B[39m\u001B[38;5;124mget\u001B[39m\u001B[38;5;124m'\u001B[39m:\n\u001B[1;32m--> 319\u001B[0m         r \u001B[38;5;241m=\u001B[39m \u001B[38;5;28mself\u001B[39m\u001B[38;5;241m.\u001B[39msession\u001B[38;5;241m.\u001B[39mget(url, \u001B[38;5;241m*\u001B[39m\u001B[38;5;241m*\u001B[39mkwargs)\n\u001B[0;32m    320\u001B[0m     \u001B[38;5;28;01melif\u001B[39;00m mode \u001B[38;5;241m==\u001B[39m \u001B[38;5;124m'\u001B[39m\u001B[38;5;124mpost\u001B[39m\u001B[38;5;124m'\u001B[39m:\n\u001B[0;32m    321\u001B[0m         r \u001B[38;5;241m=\u001B[39m \u001B[38;5;28mself\u001B[39m\u001B[38;5;241m.\u001B[39msession\u001B[38;5;241m.\u001B[39mpost(url, \u001B[38;5;241m*\u001B[39m\u001B[38;5;241m*\u001B[39mkwargs)\n",
      "File \u001B[1;32mC:\\anaconda3\\Lib\\site-packages\\requests\\sessions.py:602\u001B[0m, in \u001B[0;36mSession.get\u001B[1;34m(self, url, **kwargs)\u001B[0m\n\u001B[0;32m    594\u001B[0m \u001B[38;5;250m\u001B[39m\u001B[38;5;124mr\u001B[39m\u001B[38;5;124;03m\"\"\"Sends a GET request. Returns :class:`Response` object.\u001B[39;00m\n\u001B[0;32m    595\u001B[0m \n\u001B[0;32m    596\u001B[0m \u001B[38;5;124;03m:param url: URL for the new :class:`Request` object.\u001B[39;00m\n\u001B[0;32m    597\u001B[0m \u001B[38;5;124;03m:param \\*\\*kwargs: Optional arguments that ``request`` takes.\u001B[39;00m\n\u001B[0;32m    598\u001B[0m \u001B[38;5;124;03m:rtype: requests.Response\u001B[39;00m\n\u001B[0;32m    599\u001B[0m \u001B[38;5;124;03m\"\"\"\u001B[39;00m\n\u001B[0;32m    601\u001B[0m kwargs\u001B[38;5;241m.\u001B[39msetdefault(\u001B[38;5;124m\"\u001B[39m\u001B[38;5;124mallow_redirects\u001B[39m\u001B[38;5;124m\"\u001B[39m, \u001B[38;5;28;01mTrue\u001B[39;00m)\n\u001B[1;32m--> 602\u001B[0m \u001B[38;5;28;01mreturn\u001B[39;00m \u001B[38;5;28mself\u001B[39m\u001B[38;5;241m.\u001B[39mrequest(\u001B[38;5;124m\"\u001B[39m\u001B[38;5;124mGET\u001B[39m\u001B[38;5;124m\"\u001B[39m, url, \u001B[38;5;241m*\u001B[39m\u001B[38;5;241m*\u001B[39mkwargs)\n",
      "File \u001B[1;32mC:\\anaconda3\\Lib\\site-packages\\requests\\sessions.py:589\u001B[0m, in \u001B[0;36mSession.request\u001B[1;34m(self, method, url, params, data, headers, cookies, files, auth, timeout, allow_redirects, proxies, hooks, stream, verify, cert, json)\u001B[0m\n\u001B[0;32m    584\u001B[0m send_kwargs \u001B[38;5;241m=\u001B[39m {\n\u001B[0;32m    585\u001B[0m     \u001B[38;5;124m\"\u001B[39m\u001B[38;5;124mtimeout\u001B[39m\u001B[38;5;124m\"\u001B[39m: timeout,\n\u001B[0;32m    586\u001B[0m     \u001B[38;5;124m\"\u001B[39m\u001B[38;5;124mallow_redirects\u001B[39m\u001B[38;5;124m\"\u001B[39m: allow_redirects,\n\u001B[0;32m    587\u001B[0m }\n\u001B[0;32m    588\u001B[0m send_kwargs\u001B[38;5;241m.\u001B[39mupdate(settings)\n\u001B[1;32m--> 589\u001B[0m resp \u001B[38;5;241m=\u001B[39m \u001B[38;5;28mself\u001B[39m\u001B[38;5;241m.\u001B[39msend(prep, \u001B[38;5;241m*\u001B[39m\u001B[38;5;241m*\u001B[39msend_kwargs)\n\u001B[0;32m    591\u001B[0m \u001B[38;5;28;01mreturn\u001B[39;00m resp\n",
      "File \u001B[1;32mC:\\anaconda3\\Lib\\site-packages\\requests\\sessions.py:747\u001B[0m, in \u001B[0;36mSession.send\u001B[1;34m(self, request, **kwargs)\u001B[0m\n\u001B[0;32m    744\u001B[0m         \u001B[38;5;28;01mpass\u001B[39;00m\n\u001B[0;32m    746\u001B[0m \u001B[38;5;28;01mif\u001B[39;00m \u001B[38;5;129;01mnot\u001B[39;00m stream:\n\u001B[1;32m--> 747\u001B[0m     r\u001B[38;5;241m.\u001B[39mcontent\n\u001B[0;32m    749\u001B[0m \u001B[38;5;28;01mreturn\u001B[39;00m r\n",
      "File \u001B[1;32mC:\\anaconda3\\Lib\\site-packages\\requests\\models.py:899\u001B[0m, in \u001B[0;36mResponse.content\u001B[1;34m(self)\u001B[0m\n\u001B[0;32m    897\u001B[0m         \u001B[38;5;28mself\u001B[39m\u001B[38;5;241m.\u001B[39m_content \u001B[38;5;241m=\u001B[39m \u001B[38;5;28;01mNone\u001B[39;00m\n\u001B[0;32m    898\u001B[0m     \u001B[38;5;28;01melse\u001B[39;00m:\n\u001B[1;32m--> 899\u001B[0m         \u001B[38;5;28mself\u001B[39m\u001B[38;5;241m.\u001B[39m_content \u001B[38;5;241m=\u001B[39m \u001B[38;5;124mb\u001B[39m\u001B[38;5;124m\"\u001B[39m\u001B[38;5;124m\"\u001B[39m\u001B[38;5;241m.\u001B[39mjoin(\u001B[38;5;28mself\u001B[39m\u001B[38;5;241m.\u001B[39miter_content(CONTENT_CHUNK_SIZE)) \u001B[38;5;129;01mor\u001B[39;00m \u001B[38;5;124mb\u001B[39m\u001B[38;5;124m\"\u001B[39m\u001B[38;5;124m\"\u001B[39m\n\u001B[0;32m    901\u001B[0m \u001B[38;5;28mself\u001B[39m\u001B[38;5;241m.\u001B[39m_content_consumed \u001B[38;5;241m=\u001B[39m \u001B[38;5;28;01mTrue\u001B[39;00m\n\u001B[0;32m    902\u001B[0m \u001B[38;5;66;03m# don't need to release the connection; that's been handled by urllib3\u001B[39;00m\n\u001B[0;32m    903\u001B[0m \u001B[38;5;66;03m# since we exhausted the data.\u001B[39;00m\n",
      "File \u001B[1;32mC:\\anaconda3\\Lib\\site-packages\\requests\\models.py:816\u001B[0m, in \u001B[0;36mResponse.iter_content.<locals>.generate\u001B[1;34m()\u001B[0m\n\u001B[0;32m    814\u001B[0m \u001B[38;5;28;01mif\u001B[39;00m \u001B[38;5;28mhasattr\u001B[39m(\u001B[38;5;28mself\u001B[39m\u001B[38;5;241m.\u001B[39mraw, \u001B[38;5;124m\"\u001B[39m\u001B[38;5;124mstream\u001B[39m\u001B[38;5;124m\"\u001B[39m):\n\u001B[0;32m    815\u001B[0m     \u001B[38;5;28;01mtry\u001B[39;00m:\n\u001B[1;32m--> 816\u001B[0m         \u001B[38;5;28;01myield from\u001B[39;00m \u001B[38;5;28mself\u001B[39m\u001B[38;5;241m.\u001B[39mraw\u001B[38;5;241m.\u001B[39mstream(chunk_size, decode_content\u001B[38;5;241m=\u001B[39m\u001B[38;5;28;01mTrue\u001B[39;00m)\n\u001B[0;32m    817\u001B[0m     \u001B[38;5;28;01mexcept\u001B[39;00m ProtocolError \u001B[38;5;28;01mas\u001B[39;00m e:\n\u001B[0;32m    818\u001B[0m         \u001B[38;5;28;01mraise\u001B[39;00m ChunkedEncodingError(e)\n",
      "File \u001B[1;32mC:\\anaconda3\\Lib\\site-packages\\urllib3\\response.py:628\u001B[0m, in \u001B[0;36mHTTPResponse.stream\u001B[1;34m(self, amt, decode_content)\u001B[0m\n\u001B[0;32m    626\u001B[0m \u001B[38;5;28;01melse\u001B[39;00m:\n\u001B[0;32m    627\u001B[0m     \u001B[38;5;28;01mwhile\u001B[39;00m \u001B[38;5;129;01mnot\u001B[39;00m is_fp_closed(\u001B[38;5;28mself\u001B[39m\u001B[38;5;241m.\u001B[39m_fp):\n\u001B[1;32m--> 628\u001B[0m         data \u001B[38;5;241m=\u001B[39m \u001B[38;5;28mself\u001B[39m\u001B[38;5;241m.\u001B[39mread(amt\u001B[38;5;241m=\u001B[39mamt, decode_content\u001B[38;5;241m=\u001B[39mdecode_content)\n\u001B[0;32m    630\u001B[0m         \u001B[38;5;28;01mif\u001B[39;00m data:\n\u001B[0;32m    631\u001B[0m             \u001B[38;5;28;01myield\u001B[39;00m data\n",
      "File \u001B[1;32mC:\\anaconda3\\Lib\\site-packages\\urllib3\\response.py:567\u001B[0m, in \u001B[0;36mHTTPResponse.read\u001B[1;34m(self, amt, decode_content, cache_content)\u001B[0m\n\u001B[0;32m    564\u001B[0m fp_closed \u001B[38;5;241m=\u001B[39m \u001B[38;5;28mgetattr\u001B[39m(\u001B[38;5;28mself\u001B[39m\u001B[38;5;241m.\u001B[39m_fp, \u001B[38;5;124m\"\u001B[39m\u001B[38;5;124mclosed\u001B[39m\u001B[38;5;124m\"\u001B[39m, \u001B[38;5;28;01mFalse\u001B[39;00m)\n\u001B[0;32m    566\u001B[0m \u001B[38;5;28;01mwith\u001B[39;00m \u001B[38;5;28mself\u001B[39m\u001B[38;5;241m.\u001B[39m_error_catcher():\n\u001B[1;32m--> 567\u001B[0m     data \u001B[38;5;241m=\u001B[39m \u001B[38;5;28mself\u001B[39m\u001B[38;5;241m.\u001B[39m_fp_read(amt) \u001B[38;5;28;01mif\u001B[39;00m \u001B[38;5;129;01mnot\u001B[39;00m fp_closed \u001B[38;5;28;01melse\u001B[39;00m \u001B[38;5;124mb\u001B[39m\u001B[38;5;124m\"\u001B[39m\u001B[38;5;124m\"\u001B[39m\n\u001B[0;32m    568\u001B[0m     \u001B[38;5;28;01mif\u001B[39;00m amt \u001B[38;5;129;01mis\u001B[39;00m \u001B[38;5;28;01mNone\u001B[39;00m:\n\u001B[0;32m    569\u001B[0m         flush_decoder \u001B[38;5;241m=\u001B[39m \u001B[38;5;28;01mTrue\u001B[39;00m\n",
      "File \u001B[1;32mC:\\anaconda3\\Lib\\site-packages\\urllib3\\response.py:533\u001B[0m, in \u001B[0;36mHTTPResponse._fp_read\u001B[1;34m(self, amt)\u001B[0m\n\u001B[0;32m    530\u001B[0m     \u001B[38;5;28;01mreturn\u001B[39;00m buffer\u001B[38;5;241m.\u001B[39mgetvalue()\n\u001B[0;32m    531\u001B[0m \u001B[38;5;28;01melse\u001B[39;00m:\n\u001B[0;32m    532\u001B[0m     \u001B[38;5;66;03m# StringIO doesn't like amt=None\u001B[39;00m\n\u001B[1;32m--> 533\u001B[0m     \u001B[38;5;28;01mreturn\u001B[39;00m \u001B[38;5;28mself\u001B[39m\u001B[38;5;241m.\u001B[39m_fp\u001B[38;5;241m.\u001B[39mread(amt) \u001B[38;5;28;01mif\u001B[39;00m amt \u001B[38;5;129;01mis\u001B[39;00m \u001B[38;5;129;01mnot\u001B[39;00m \u001B[38;5;28;01mNone\u001B[39;00m \u001B[38;5;28;01melse\u001B[39;00m \u001B[38;5;28mself\u001B[39m\u001B[38;5;241m.\u001B[39m_fp\u001B[38;5;241m.\u001B[39mread()\n",
      "File \u001B[1;32mC:\\anaconda3\\Lib\\http\\client.py:466\u001B[0m, in \u001B[0;36mHTTPResponse.read\u001B[1;34m(self, amt)\u001B[0m\n\u001B[0;32m    463\u001B[0m \u001B[38;5;28;01mif\u001B[39;00m \u001B[38;5;28mself\u001B[39m\u001B[38;5;241m.\u001B[39mlength \u001B[38;5;129;01mis\u001B[39;00m \u001B[38;5;129;01mnot\u001B[39;00m \u001B[38;5;28;01mNone\u001B[39;00m \u001B[38;5;129;01mand\u001B[39;00m amt \u001B[38;5;241m>\u001B[39m \u001B[38;5;28mself\u001B[39m\u001B[38;5;241m.\u001B[39mlength:\n\u001B[0;32m    464\u001B[0m     \u001B[38;5;66;03m# clip the read to the \"end of response\"\u001B[39;00m\n\u001B[0;32m    465\u001B[0m     amt \u001B[38;5;241m=\u001B[39m \u001B[38;5;28mself\u001B[39m\u001B[38;5;241m.\u001B[39mlength\n\u001B[1;32m--> 466\u001B[0m s \u001B[38;5;241m=\u001B[39m \u001B[38;5;28mself\u001B[39m\u001B[38;5;241m.\u001B[39mfp\u001B[38;5;241m.\u001B[39mread(amt)\n\u001B[0;32m    467\u001B[0m \u001B[38;5;28;01mif\u001B[39;00m \u001B[38;5;129;01mnot\u001B[39;00m s \u001B[38;5;129;01mand\u001B[39;00m amt:\n\u001B[0;32m    468\u001B[0m     \u001B[38;5;66;03m# Ideally, we would raise IncompleteRead if the content-length\u001B[39;00m\n\u001B[0;32m    469\u001B[0m     \u001B[38;5;66;03m# wasn't satisfied, but it might break compatibility.\u001B[39;00m\n\u001B[0;32m    470\u001B[0m     \u001B[38;5;28mself\u001B[39m\u001B[38;5;241m.\u001B[39m_close_conn()\n",
      "File \u001B[1;32mC:\\anaconda3\\Lib\\socket.py:706\u001B[0m, in \u001B[0;36mSocketIO.readinto\u001B[1;34m(self, b)\u001B[0m\n\u001B[0;32m    704\u001B[0m \u001B[38;5;28;01mwhile\u001B[39;00m \u001B[38;5;28;01mTrue\u001B[39;00m:\n\u001B[0;32m    705\u001B[0m     \u001B[38;5;28;01mtry\u001B[39;00m:\n\u001B[1;32m--> 706\u001B[0m         \u001B[38;5;28;01mreturn\u001B[39;00m \u001B[38;5;28mself\u001B[39m\u001B[38;5;241m.\u001B[39m_sock\u001B[38;5;241m.\u001B[39mrecv_into(b)\n\u001B[0;32m    707\u001B[0m     \u001B[38;5;28;01mexcept\u001B[39;00m timeout:\n\u001B[0;32m    708\u001B[0m         \u001B[38;5;28mself\u001B[39m\u001B[38;5;241m.\u001B[39m_timeout_occurred \u001B[38;5;241m=\u001B[39m \u001B[38;5;28;01mTrue\u001B[39;00m\n",
      "\u001B[1;31mKeyboardInterrupt\u001B[0m: "
     ]
    }
   ],
   "source": [
    "data= get_data('dongfang',2019,'01')\n",
    "data"
   ],
   "metadata": {
    "collapsed": false,
    "ExecuteTime": {
     "end_time": "2024-08-09T13:30:20.024694200Z",
     "start_time": "2024-08-09T13:30:10.255046300Z"
    }
   },
   "id": "d5e140a8745cc90b"
  },
  {
   "cell_type": "code",
   "execution_count": 15,
   "outputs": [
    {
     "data": {
      "text/plain": "             日期    天气状况  最低气温/最高气温             风力风向(夜间/白天)\n0   2019年01月01日    阴 /阴  14℃ / 19℃      东北风 4-5级 /东北风 4-5级\n1   2019年01月02日    阴 /阴  13℃ / 18℃      东北风 4-5级 /东北风 4-5级\n2   2019年01月03日  多云 /多云  15℃ / 21℃      东北风 3-4级 /东北风 3-4级\n3   2019年01月04日  多云 /多云  18℃ / 25℃      西北风 3-4级 /西北风 3-4级\n4   2019年01月05日   多云 /阴  20℃ / 25℃        北风 3-4级 /北风 3-4级\n5   2019年01月06日  多云 /多云  20℃ / 25℃  无持续风向 1-2级 /无持续风向 1-2级\n6   2019年01月07日  多云 /多云  21℃ / 26℃      西北风 3-4级 /西北风 3-4级\n7   2019年01月08日   多云 /晴  20℃ / 25℃  无持续风向 1-2级 /无持续风向 1-2级\n8   2019年01月09日  多云 /多云  21℃ / 26℃  无持续风向 1-2级 /无持续风向 1-2级\n9   2019年01月10日  多云 /多云  21℃ / 27℃  无持续风向 1-2级 /无持续风向 1-2级\n10  2019年01月11日  多云 /多云  21℃ / 26℃  无持续风向 1-2级 /无持续风向 1-2级\n11  2019年01月12日   阴 /多云  20℃ / 25℃  无持续风向 1-2级 /无持续风向 1-2级\n12  2019年01月13日  多云 /多云  20℃ / 26℃      西北风 3-4级 /西北风 3-4级\n13  2019年01月14日  多云 /多云  22℃ / 26℃      西北风 3-4级 /西北风 3-4级\n14  2019年01月15日   多云 /阴  20℃ / 26℃      东北风 4-5级 /东北风 4-5级\n15  2019年01月16日    阴 /阴  18℃ / 22℃      东北风 4-5级 /东北风 4-5级\n16  2019年01月17日   多云 /晴  16℃ / 24℃      东北风 4-5级 /东北风 4-5级\n17  2019年01月18日  多云 /多云  17℃ / 26℃      西北风 3-4级 /西北风 3-4级\n18  2019年01月19日  小雨 /小雨  20℃ / 27℃      西北风 3-4级 /西北风 3-4级\n19  2019年01月20日  多云 /多云  19℃ / 27℃      东北风 3-4级 /东北风 3-4级\n20  2019年01月21日    阴 /阴  17℃ / 23℃      东北风 4-5级 /东北风 4-5级\n21  2019年01月22日  多云 /多云  16℃ / 22℃      东北风 3-4级 /东北风 3-4级\n22  2019年01月23日  多云 /多云  17℃ / 24℃  无持续风向 1-2级 /无持续风向 1-2级\n23  2019年01月24日    晴 /晴  17℃ / 23℃        西风 3-4级 /西风 3-4级\n24  2019年01月25日  多云 /多云  18℃ / 26℃      西北风 3-4级 /西北风 3-4级\n25  2019年01月26日  多云 /多云  17℃ / 25℃      东北风 3-4级 /东北风 3-4级\n26  2019年01月27日  多云 /多云  17℃ / 24℃  无持续风向 1-2级 /无持续风向 1-2级\n27  2019年01月28日    晴 /晴  20℃ / 25℃      西北风 3-4级 /西北风 3-4级\n28  2019年01月29日    晴 /晴  18℃ / 26℃  无持续风向 1-2级 /无持续风向 1-2级\n29  2019年01月30日    晴 /晴  19℃ / 27℃  无持续风向 1-2级 /无持续风向 1-2级\n30  2019年01月31日  多云 /多云  20℃ / 27℃      东北风 3-4级 /东北风 3-4级",
      "text/html": "<div>\n<style scoped>\n    .dataframe tbody tr th:only-of-type {\n        vertical-align: middle;\n    }\n\n    .dataframe tbody tr th {\n        vertical-align: top;\n    }\n\n    .dataframe thead th {\n        text-align: right;\n    }\n</style>\n<table border=\"1\" class=\"dataframe\">\n  <thead>\n    <tr style=\"text-align: right;\">\n      <th></th>\n      <th>日期</th>\n      <th>天气状况</th>\n      <th>最低气温/最高气温</th>\n      <th>风力风向(夜间/白天)</th>\n    </tr>\n  </thead>\n  <tbody>\n    <tr>\n      <th>0</th>\n      <td>2019年01月01日</td>\n      <td>阴 /阴</td>\n      <td>14℃ / 19℃</td>\n      <td>东北风 4-5级 /东北风 4-5级</td>\n    </tr>\n    <tr>\n      <th>1</th>\n      <td>2019年01月02日</td>\n      <td>阴 /阴</td>\n      <td>13℃ / 18℃</td>\n      <td>东北风 4-5级 /东北风 4-5级</td>\n    </tr>\n    <tr>\n      <th>2</th>\n      <td>2019年01月03日</td>\n      <td>多云 /多云</td>\n      <td>15℃ / 21℃</td>\n      <td>东北风 3-4级 /东北风 3-4级</td>\n    </tr>\n    <tr>\n      <th>3</th>\n      <td>2019年01月04日</td>\n      <td>多云 /多云</td>\n      <td>18℃ / 25℃</td>\n      <td>西北风 3-4级 /西北风 3-4级</td>\n    </tr>\n    <tr>\n      <th>4</th>\n      <td>2019年01月05日</td>\n      <td>多云 /阴</td>\n      <td>20℃ / 25℃</td>\n      <td>北风 3-4级 /北风 3-4级</td>\n    </tr>\n    <tr>\n      <th>5</th>\n      <td>2019年01月06日</td>\n      <td>多云 /多云</td>\n      <td>20℃ / 25℃</td>\n      <td>无持续风向 1-2级 /无持续风向 1-2级</td>\n    </tr>\n    <tr>\n      <th>6</th>\n      <td>2019年01月07日</td>\n      <td>多云 /多云</td>\n      <td>21℃ / 26℃</td>\n      <td>西北风 3-4级 /西北风 3-4级</td>\n    </tr>\n    <tr>\n      <th>7</th>\n      <td>2019年01月08日</td>\n      <td>多云 /晴</td>\n      <td>20℃ / 25℃</td>\n      <td>无持续风向 1-2级 /无持续风向 1-2级</td>\n    </tr>\n    <tr>\n      <th>8</th>\n      <td>2019年01月09日</td>\n      <td>多云 /多云</td>\n      <td>21℃ / 26℃</td>\n      <td>无持续风向 1-2级 /无持续风向 1-2级</td>\n    </tr>\n    <tr>\n      <th>9</th>\n      <td>2019年01月10日</td>\n      <td>多云 /多云</td>\n      <td>21℃ / 27℃</td>\n      <td>无持续风向 1-2级 /无持续风向 1-2级</td>\n    </tr>\n    <tr>\n      <th>10</th>\n      <td>2019年01月11日</td>\n      <td>多云 /多云</td>\n      <td>21℃ / 26℃</td>\n      <td>无持续风向 1-2级 /无持续风向 1-2级</td>\n    </tr>\n    <tr>\n      <th>11</th>\n      <td>2019年01月12日</td>\n      <td>阴 /多云</td>\n      <td>20℃ / 25℃</td>\n      <td>无持续风向 1-2级 /无持续风向 1-2级</td>\n    </tr>\n    <tr>\n      <th>12</th>\n      <td>2019年01月13日</td>\n      <td>多云 /多云</td>\n      <td>20℃ / 26℃</td>\n      <td>西北风 3-4级 /西北风 3-4级</td>\n    </tr>\n    <tr>\n      <th>13</th>\n      <td>2019年01月14日</td>\n      <td>多云 /多云</td>\n      <td>22℃ / 26℃</td>\n      <td>西北风 3-4级 /西北风 3-4级</td>\n    </tr>\n    <tr>\n      <th>14</th>\n      <td>2019年01月15日</td>\n      <td>多云 /阴</td>\n      <td>20℃ / 26℃</td>\n      <td>东北风 4-5级 /东北风 4-5级</td>\n    </tr>\n    <tr>\n      <th>15</th>\n      <td>2019年01月16日</td>\n      <td>阴 /阴</td>\n      <td>18℃ / 22℃</td>\n      <td>东北风 4-5级 /东北风 4-5级</td>\n    </tr>\n    <tr>\n      <th>16</th>\n      <td>2019年01月17日</td>\n      <td>多云 /晴</td>\n      <td>16℃ / 24℃</td>\n      <td>东北风 4-5级 /东北风 4-5级</td>\n    </tr>\n    <tr>\n      <th>17</th>\n      <td>2019年01月18日</td>\n      <td>多云 /多云</td>\n      <td>17℃ / 26℃</td>\n      <td>西北风 3-4级 /西北风 3-4级</td>\n    </tr>\n    <tr>\n      <th>18</th>\n      <td>2019年01月19日</td>\n      <td>小雨 /小雨</td>\n      <td>20℃ / 27℃</td>\n      <td>西北风 3-4级 /西北风 3-4级</td>\n    </tr>\n    <tr>\n      <th>19</th>\n      <td>2019年01月20日</td>\n      <td>多云 /多云</td>\n      <td>19℃ / 27℃</td>\n      <td>东北风 3-4级 /东北风 3-4级</td>\n    </tr>\n    <tr>\n      <th>20</th>\n      <td>2019年01月21日</td>\n      <td>阴 /阴</td>\n      <td>17℃ / 23℃</td>\n      <td>东北风 4-5级 /东北风 4-5级</td>\n    </tr>\n    <tr>\n      <th>21</th>\n      <td>2019年01月22日</td>\n      <td>多云 /多云</td>\n      <td>16℃ / 22℃</td>\n      <td>东北风 3-4级 /东北风 3-4级</td>\n    </tr>\n    <tr>\n      <th>22</th>\n      <td>2019年01月23日</td>\n      <td>多云 /多云</td>\n      <td>17℃ / 24℃</td>\n      <td>无持续风向 1-2级 /无持续风向 1-2级</td>\n    </tr>\n    <tr>\n      <th>23</th>\n      <td>2019年01月24日</td>\n      <td>晴 /晴</td>\n      <td>17℃ / 23℃</td>\n      <td>西风 3-4级 /西风 3-4级</td>\n    </tr>\n    <tr>\n      <th>24</th>\n      <td>2019年01月25日</td>\n      <td>多云 /多云</td>\n      <td>18℃ / 26℃</td>\n      <td>西北风 3-4级 /西北风 3-4级</td>\n    </tr>\n    <tr>\n      <th>25</th>\n      <td>2019年01月26日</td>\n      <td>多云 /多云</td>\n      <td>17℃ / 25℃</td>\n      <td>东北风 3-4级 /东北风 3-4级</td>\n    </tr>\n    <tr>\n      <th>26</th>\n      <td>2019年01月27日</td>\n      <td>多云 /多云</td>\n      <td>17℃ / 24℃</td>\n      <td>无持续风向 1-2级 /无持续风向 1-2级</td>\n    </tr>\n    <tr>\n      <th>27</th>\n      <td>2019年01月28日</td>\n      <td>晴 /晴</td>\n      <td>20℃ / 25℃</td>\n      <td>西北风 3-4级 /西北风 3-4级</td>\n    </tr>\n    <tr>\n      <th>28</th>\n      <td>2019年01月29日</td>\n      <td>晴 /晴</td>\n      <td>18℃ / 26℃</td>\n      <td>无持续风向 1-2级 /无持续风向 1-2级</td>\n    </tr>\n    <tr>\n      <th>29</th>\n      <td>2019年01月30日</td>\n      <td>晴 /晴</td>\n      <td>19℃ / 27℃</td>\n      <td>无持续风向 1-2级 /无持续风向 1-2级</td>\n    </tr>\n    <tr>\n      <th>30</th>\n      <td>2019年01月31日</td>\n      <td>多云 /多云</td>\n      <td>20℃ / 27℃</td>\n      <td>东北风 3-4级 /东北风 3-4级</td>\n    </tr>\n  </tbody>\n</table>\n</div>"
     },
     "execution_count": 15,
     "metadata": {},
     "output_type": "execute_result"
    }
   ],
   "source": [
    "data"
   ],
   "metadata": {
    "collapsed": false,
    "ExecuteTime": {
     "end_time": "2024-08-09T13:30:22.407014700Z",
     "start_time": "2024-08-09T13:30:22.395400900Z"
    }
   },
   "id": "22c3cf2856e1628d"
  },
  {
   "cell_type": "code",
   "execution_count": 11,
   "outputs": [],
   "source": [
    "url = f'http://www.tianqihoubao.com/lishi/dongfang/month/201902.html'\n",
    "# logger.info(f'开始爬取{url}')\n",
    "try:\n",
    "    page.get(url,timeout=30)\n",
    "    list = page.eles('xpath=//tr')\n",
    "    datarows = []\n",
    "    for li in list:\n",
    "        a = li.s_eles('tag:td')\n",
    "        l = [i.text for i in a]\n",
    "        datarows.append(l)\n",
    "    columns = datarows[0]\n",
    "    # 提取数据行（剩余的元素）\n",
    "    data_values = datarows[1:]\n",
    "    # 创建DataFrame\n",
    "    result_weather = pd.DataFrame(data_values, columns=columns)\n",
    "except Exception as e:\n",
    "    logger.error(f'解析或数据处理错误: {e}')"
   ],
   "metadata": {
    "collapsed": false,
    "ExecuteTime": {
     "end_time": "2024-08-09T13:28:34.822577200Z",
     "start_time": "2024-08-09T13:28:27.166570700Z"
    }
   },
   "id": "15f8b8488156761f"
  },
  {
   "cell_type": "code",
   "execution_count": 12,
   "outputs": [
    {
     "data": {
      "text/plain": "             日期     天气状况  最低气温/最高气温             风力风向(夜间/白天)\n0   2020年02月01日   多云 /多云  15℃ / 21℃  无持续风向 1-2级 /无持续风向 1-2级\n1   2020年02月02日   多云 /多云  18℃ / 24℃  无持续风向 1-2级 /无持续风向 1-2级\n2   2020年02月03日   多云 /多云  16℃ / 25℃      东南风 3-4级 /东南风 3-4级\n3   2020年02月04日   小雨 /小雨  19℃ / 23℃      东北风 3-4级 /东北风 3-4级\n4   2020年02月05日   多云 /多云  19℃ / 23℃  无持续风向 1-2级 /无持续风向 1-2级\n5   2020年02月06日   多云 /多云  19℃ / 24℃  无持续风向 1-2级 /无持续风向 1-2级\n6   2020年02月07日   小雨 /小雨  19℃ / 24℃      东北风 3-4级 /东北风 3-4级\n7   2020年02月08日   小雨 /多云  18℃ / 22℃      东北风 3-4级 /东北风 3-4级\n8   2020年02月09日   小雨 /多云  16℃ / 21℃      东北风 3-4级 /东北风 3-4级\n9   2020年02月10日   小雨 /小雨  18℃ / 20℃  无持续风向 1-2级 /无持续风向 1-2级\n10  2020年02月11日   小雨 /多云  19℃ / 23℃  无持续风向 1-2级 /无持续风向 1-2级\n11  2020年02月12日   多云 /多云  19℃ / 27℃      东南风 3-4级 /东南风 3-4级\n12  2020年02月13日  雷阵雨 /小雨  22℃ / 25℃        南风 4-5级 /南风 4-5级\n13  2020年02月14日   小雨 /多云  22℃ / 29℃        南风 3-4级 /南风 3-4级\n14  2020年02月15日   多云 /小雨  13℃ / 30℃      西南风 3-4级 /西南风 3-4级\n15  2020年02月16日    小雨 /阴  12℃ / 15℃  无持续风向 1-2级 /无持续风向 1-2级\n16  2020年02月17日   多云 /多云  14℃ / 17℃      东北风 3-4级 /东北风 3-4级\n17  2020年02月18日   多云 /多云  15℃ / 18℃      东北风 3-4级 /东北风 3-4级\n18  2020年02月19日   多云 /多云  17℃ / 20℃      东北风 3-4级 /东北风 3-4级\n19  2020年02月20日   小雨 /小雨  18℃ / 23℃        东风 3-4级 /东风 3-4级\n20  2020年02月21日   多云 /多云  18℃ / 25℃      东北风 3-4级 /东北风 3-4级\n21  2020年02月22日   多云 /多云  18℃ / 23℃      东北风 3-4级 /东北风 3-4级\n22  2020年02月23日   多云 /多云  16℃ / 22℃      东北风 3-4级 /东北风 3-4级\n23  2020年02月24日   多云 /多云  20℃ / 26℃  无持续风向 1-2级 /无持续风向 1-2级\n24  2020年02月25日   多云 /多云  20℃ / 26℃      东北风 3-4级 /东北风 3-4级\n25  2020年02月26日   多云 /多云  21℃ / 24℃      东北风 3-4级 /东北风 3-4级\n26  2020年02月27日   多云 /多云  20℃ / 26℃  无持续风向 1-2级 /无持续风向 1-2级\n27  2020年02月28日   多云 /多云  20℃ / 25℃  无持续风向 1-2级 /无持续风向 1-2级\n28  2020年02月29日   小雨 /小雨  21℃ / 27℃  无持续风向 1-2级 /无持续风向 1-2级",
      "text/html": "<div>\n<style scoped>\n    .dataframe tbody tr th:only-of-type {\n        vertical-align: middle;\n    }\n\n    .dataframe tbody tr th {\n        vertical-align: top;\n    }\n\n    .dataframe thead th {\n        text-align: right;\n    }\n</style>\n<table border=\"1\" class=\"dataframe\">\n  <thead>\n    <tr style=\"text-align: right;\">\n      <th></th>\n      <th>日期</th>\n      <th>天气状况</th>\n      <th>最低气温/最高气温</th>\n      <th>风力风向(夜间/白天)</th>\n    </tr>\n  </thead>\n  <tbody>\n    <tr>\n      <th>0</th>\n      <td>2020年02月01日</td>\n      <td>多云 /多云</td>\n      <td>15℃ / 21℃</td>\n      <td>无持续风向 1-2级 /无持续风向 1-2级</td>\n    </tr>\n    <tr>\n      <th>1</th>\n      <td>2020年02月02日</td>\n      <td>多云 /多云</td>\n      <td>18℃ / 24℃</td>\n      <td>无持续风向 1-2级 /无持续风向 1-2级</td>\n    </tr>\n    <tr>\n      <th>2</th>\n      <td>2020年02月03日</td>\n      <td>多云 /多云</td>\n      <td>16℃ / 25℃</td>\n      <td>东南风 3-4级 /东南风 3-4级</td>\n    </tr>\n    <tr>\n      <th>3</th>\n      <td>2020年02月04日</td>\n      <td>小雨 /小雨</td>\n      <td>19℃ / 23℃</td>\n      <td>东北风 3-4级 /东北风 3-4级</td>\n    </tr>\n    <tr>\n      <th>4</th>\n      <td>2020年02月05日</td>\n      <td>多云 /多云</td>\n      <td>19℃ / 23℃</td>\n      <td>无持续风向 1-2级 /无持续风向 1-2级</td>\n    </tr>\n    <tr>\n      <th>5</th>\n      <td>2020年02月06日</td>\n      <td>多云 /多云</td>\n      <td>19℃ / 24℃</td>\n      <td>无持续风向 1-2级 /无持续风向 1-2级</td>\n    </tr>\n    <tr>\n      <th>6</th>\n      <td>2020年02月07日</td>\n      <td>小雨 /小雨</td>\n      <td>19℃ / 24℃</td>\n      <td>东北风 3-4级 /东北风 3-4级</td>\n    </tr>\n    <tr>\n      <th>7</th>\n      <td>2020年02月08日</td>\n      <td>小雨 /多云</td>\n      <td>18℃ / 22℃</td>\n      <td>东北风 3-4级 /东北风 3-4级</td>\n    </tr>\n    <tr>\n      <th>8</th>\n      <td>2020年02月09日</td>\n      <td>小雨 /多云</td>\n      <td>16℃ / 21℃</td>\n      <td>东北风 3-4级 /东北风 3-4级</td>\n    </tr>\n    <tr>\n      <th>9</th>\n      <td>2020年02月10日</td>\n      <td>小雨 /小雨</td>\n      <td>18℃ / 20℃</td>\n      <td>无持续风向 1-2级 /无持续风向 1-2级</td>\n    </tr>\n    <tr>\n      <th>10</th>\n      <td>2020年02月11日</td>\n      <td>小雨 /多云</td>\n      <td>19℃ / 23℃</td>\n      <td>无持续风向 1-2级 /无持续风向 1-2级</td>\n    </tr>\n    <tr>\n      <th>11</th>\n      <td>2020年02月12日</td>\n      <td>多云 /多云</td>\n      <td>19℃ / 27℃</td>\n      <td>东南风 3-4级 /东南风 3-4级</td>\n    </tr>\n    <tr>\n      <th>12</th>\n      <td>2020年02月13日</td>\n      <td>雷阵雨 /小雨</td>\n      <td>22℃ / 25℃</td>\n      <td>南风 4-5级 /南风 4-5级</td>\n    </tr>\n    <tr>\n      <th>13</th>\n      <td>2020年02月14日</td>\n      <td>小雨 /多云</td>\n      <td>22℃ / 29℃</td>\n      <td>南风 3-4级 /南风 3-4级</td>\n    </tr>\n    <tr>\n      <th>14</th>\n      <td>2020年02月15日</td>\n      <td>多云 /小雨</td>\n      <td>13℃ / 30℃</td>\n      <td>西南风 3-4级 /西南风 3-4级</td>\n    </tr>\n    <tr>\n      <th>15</th>\n      <td>2020年02月16日</td>\n      <td>小雨 /阴</td>\n      <td>12℃ / 15℃</td>\n      <td>无持续风向 1-2级 /无持续风向 1-2级</td>\n    </tr>\n    <tr>\n      <th>16</th>\n      <td>2020年02月17日</td>\n      <td>多云 /多云</td>\n      <td>14℃ / 17℃</td>\n      <td>东北风 3-4级 /东北风 3-4级</td>\n    </tr>\n    <tr>\n      <th>17</th>\n      <td>2020年02月18日</td>\n      <td>多云 /多云</td>\n      <td>15℃ / 18℃</td>\n      <td>东北风 3-4级 /东北风 3-4级</td>\n    </tr>\n    <tr>\n      <th>18</th>\n      <td>2020年02月19日</td>\n      <td>多云 /多云</td>\n      <td>17℃ / 20℃</td>\n      <td>东北风 3-4级 /东北风 3-4级</td>\n    </tr>\n    <tr>\n      <th>19</th>\n      <td>2020年02月20日</td>\n      <td>小雨 /小雨</td>\n      <td>18℃ / 23℃</td>\n      <td>东风 3-4级 /东风 3-4级</td>\n    </tr>\n    <tr>\n      <th>20</th>\n      <td>2020年02月21日</td>\n      <td>多云 /多云</td>\n      <td>18℃ / 25℃</td>\n      <td>东北风 3-4级 /东北风 3-4级</td>\n    </tr>\n    <tr>\n      <th>21</th>\n      <td>2020年02月22日</td>\n      <td>多云 /多云</td>\n      <td>18℃ / 23℃</td>\n      <td>东北风 3-4级 /东北风 3-4级</td>\n    </tr>\n    <tr>\n      <th>22</th>\n      <td>2020年02月23日</td>\n      <td>多云 /多云</td>\n      <td>16℃ / 22℃</td>\n      <td>东北风 3-4级 /东北风 3-4级</td>\n    </tr>\n    <tr>\n      <th>23</th>\n      <td>2020年02月24日</td>\n      <td>多云 /多云</td>\n      <td>20℃ / 26℃</td>\n      <td>无持续风向 1-2级 /无持续风向 1-2级</td>\n    </tr>\n    <tr>\n      <th>24</th>\n      <td>2020年02月25日</td>\n      <td>多云 /多云</td>\n      <td>20℃ / 26℃</td>\n      <td>东北风 3-4级 /东北风 3-4级</td>\n    </tr>\n    <tr>\n      <th>25</th>\n      <td>2020年02月26日</td>\n      <td>多云 /多云</td>\n      <td>21℃ / 24℃</td>\n      <td>东北风 3-4级 /东北风 3-4级</td>\n    </tr>\n    <tr>\n      <th>26</th>\n      <td>2020年02月27日</td>\n      <td>多云 /多云</td>\n      <td>20℃ / 26℃</td>\n      <td>无持续风向 1-2级 /无持续风向 1-2级</td>\n    </tr>\n    <tr>\n      <th>27</th>\n      <td>2020年02月28日</td>\n      <td>多云 /多云</td>\n      <td>20℃ / 25℃</td>\n      <td>无持续风向 1-2级 /无持续风向 1-2级</td>\n    </tr>\n    <tr>\n      <th>28</th>\n      <td>2020年02月29日</td>\n      <td>小雨 /小雨</td>\n      <td>21℃ / 27℃</td>\n      <td>无持续风向 1-2级 /无持续风向 1-2级</td>\n    </tr>\n  </tbody>\n</table>\n</div>"
     },
     "execution_count": 12,
     "metadata": {},
     "output_type": "execute_result"
    }
   ],
   "source": [
    "result_weather"
   ],
   "metadata": {
    "collapsed": false,
    "ExecuteTime": {
     "end_time": "2024-08-09T13:28:42.552043300Z",
     "start_time": "2024-08-09T13:28:42.523106500Z"
    }
   },
   "id": "ad3cfb342dde3467"
  },
  {
   "cell_type": "code",
   "execution_count": null,
   "outputs": [],
   "source": [],
   "metadata": {
    "collapsed": false
   },
   "id": "e7dc303b8ba828e0"
  }
 ],
 "metadata": {
  "kernelspec": {
   "display_name": "Python 3",
   "language": "python",
   "name": "python3"
  },
  "language_info": {
   "codemirror_mode": {
    "name": "ipython",
    "version": 2
   },
   "file_extension": ".py",
   "mimetype": "text/x-python",
   "name": "python",
   "nbconvert_exporter": "python",
   "pygments_lexer": "ipython2",
   "version": "2.7.6"
  }
 },
 "nbformat": 4,
 "nbformat_minor": 5
}
